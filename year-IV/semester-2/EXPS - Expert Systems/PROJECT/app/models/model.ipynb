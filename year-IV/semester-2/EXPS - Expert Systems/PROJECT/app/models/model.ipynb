{
 "cells": [
  {
   "cell_type": "code",
   "execution_count": 1,
   "metadata": {},
   "outputs": [],
   "source": [
    "import pandas as pd\n",
    "import numpy as np\n",
    "import pickle\n",
    "import matplotlib.pyplot as plt\n",
    "\n",
    "from sklearn.preprocessing import OneHotEncoder, StandardScaler\n",
    "from sklearn.pipeline import Pipeline\n",
    "from sklearn.compose import ColumnTransformer\n",
    "from sklearn.model_selection import train_test_split\n",
    "from sklearn.ensemble import GradientBoostingRegressor\n",
    "from sklearn.model_selection import GridSearchCV\n",
    "from sklearn.metrics import r2_score, mean_squared_error, mean_absolute_error\n"
   ]
  },
  {
   "cell_type": "code",
   "execution_count": 2,
   "metadata": {},
   "outputs": [],
   "source": [
    "def transform_target_log3(data, target_name):\n",
    "    val = data[target_name].values \n",
    "    return np.array([0 if v == 0 else np.log(v) / np.log(3) for v in val])\n",
    "\n",
    "\n",
    "def read_x_y(path, target_name):\n",
    "    data = pd.read_csv(path)\n",
    "    data[target_name] = transform_target_log3(data, target_name)\n",
    "    X = data.drop(columns = target_name)\n",
    "    y = data[target_name]\n",
    "    return X, y\n",
    "\n",
    "\n",
    "def get_categorical_features(data):\n",
    "    num_unique = data.nunique()\n",
    "    categorical_features = num_unique[num_unique <= 10].index.tolist()\n",
    "    # Remove variables from categorical features list that can be treated as continuous\n",
    "    for col in [\"POVCAT15\", \"RTHLTH31\", \"MNHLTH31\"]:\n",
    "        categorical_features.remove(col)\n",
    "    return categorical_features\n",
    "\n",
    "\n",
    "def one_hot_scikit(X):\n",
    "    categorical_features = get_categorical_features(X)\n",
    "    encoder = OneHotEncoder(sparse_output = False, handle_unknown = \"ignore\")\n",
    "    X_encoded = pd.DataFrame(encoder.fit_transform(X[categorical_features]))\n",
    "    X_encoded.columns = encoder.get_feature_names_out(categorical_features)\n",
    "    X.drop(categorical_features, axis = 1, inplace = True)\n",
    "    X = pd.concat([X, X_encoded], axis = 1)\n",
    "    return X\n",
    "\n",
    "\n",
    "def one_hot(data):\n",
    "    categorical_features = get_categorical_features(data)\n",
    "    for col in categorical_features:\n",
    "        df_cat_vars_one_hot = pd.get_dummies(data[col], prefix = col)\n",
    "        data = data.drop(columns = [col])\n",
    "        data = pd.concat([data, df_cat_vars_one_hot], axis = 1)\n",
    "    return data\n",
    "\n",
    "\n",
    "def print_model_results(y_train, y_pred_train, y_test, y_pred_test):\n",
    "    mse_train = mean_squared_error(y_train, y_pred_train)\n",
    "    rmse_train = np.sqrt(mse_train)\n",
    "    \n",
    "    mse_test = mean_squared_error(y_test, y_pred_test)\n",
    "    rmse_test = np.sqrt(mse_test)\n",
    "    \n",
    "    print(\"Training: \\nRMSE: \", rmse_train, \" | MAE: \", mean_absolute_error(y_train, y_pred_train), \" | R^2: \", r2_score(y_train, y_pred_train), \"\\n\")\n",
    "    print(\"Test: \\nRMSE: \", rmse_test, \" | MAE: \", mean_absolute_error(y_test, y_pred_test), \" | R^2: \", r2_score(y_test, y_pred_test), \"\\n\")\n",
    "    \n",
    "\n",
    "def plot_target_pred(target_name, target, pred_name, pred, path):\n",
    "    plt.figure(figsize = (10, 8))\n",
    "    plt.scatter(target, pred, s = 90, alpha = 0.7)\n",
    "    plt.plot(target, target, c = \"y\", lw = 5)\n",
    "    plt.xlabel(target_name, size = 14)\n",
    "    plt.ylabel(pred_name, size = 14)\n",
    "    plt.xticks(size = 12)\n",
    "    plt.yticks(size = 12)\n",
    "    plt.show()"
   ]
  },
  {
   "cell_type": "code",
   "execution_count": 3,
   "metadata": {},
   "outputs": [],
   "source": [
    "path = \"..\\data\\MEPS_data_preprocessed\"\n",
    "X_train, y_train = read_x_y(path + \"_train.csv\", \"HEALTHEXP\")\n",
    "X_test, y_test = read_x_y(path + \"_test.csv\", \"HEALTHEXP\")"
   ]
  },
  {
   "cell_type": "code",
   "execution_count": 4,
   "metadata": {},
   "outputs": [
    {
     "name": "stderr",
     "output_type": "stream",
     "text": [
      "c:\\Python310\\lib\\site-packages\\sklearn\\preprocessing\\_encoders.py:868: FutureWarning: `sparse` was renamed to `sparse_output` in version 1.2 and will be removed in 1.4. `sparse_output` is ignored unless you leave `sparse` to its default value.\n",
      "  warnings.warn(\n",
      "c:\\Python310\\lib\\site-packages\\sklearn\\preprocessing\\_encoders.py:868: FutureWarning: `sparse` was renamed to `sparse_output` in version 1.2 and will be removed in 1.4. `sparse_output` is ignored unless you leave `sparse` to its default value.\n",
      "  warnings.warn(\n"
     ]
    }
   ],
   "source": [
    "X_train = one_hot_scikit(X_train)\n",
    "X_test = one_hot_scikit(X_test)"
   ]
  },
  {
   "cell_type": "code",
   "execution_count": 5,
   "metadata": {},
   "outputs": [],
   "source": [
    "parameters = {\n",
    "    \"n_estimators\": list(range(60, 71, 5)) + list(range(71, 81)) + list(range(85, 106, 5)),\n",
    "    \"max_depth\": list(range(2, 8)),\n",
    "    \"min_samples_split\": list(range(2, 8)),\n",
    "    \"min_samples_leaf\": list(range(2, 8)),\n",
    "    \"random_state\": [123]\n",
    "}"
   ]
  },
  {
   "cell_type": "code",
   "execution_count": 6,
   "metadata": {},
   "outputs": [],
   "source": [
    "xgb = GradientBoostingRegressor()\n",
    "reg = GridSearchCV(xgb, parameters, n_jobs = -1)"
   ]
  },
  {
   "cell_type": "code",
   "execution_count": 7,
   "metadata": {},
   "outputs": [],
   "source": [
    "reg.fit(X_train, y_train)"
   ]
  },
  {
   "cell_type": "code",
   "execution_count": null,
   "metadata": {},
   "outputs": [],
   "source": [
    "pickle_in = open(\"./pickle/model.pickle\", \"rb\")\n",
    "reg = pickle.load(pickle_in)"
   ]
  },
  {
   "cell_type": "code",
   "execution_count": null,
   "metadata": {},
   "outputs": [],
   "source": [
    "reg.score(X_test, y_test)\n"
   ]
  },
  {
   "cell_type": "code",
   "execution_count": null,
   "metadata": {},
   "outputs": [],
   "source": [
    "y_pred_train = reg.predict(X_train)\n",
    "y_pred_test = reg.predict(X_test)\n",
    "print_model_results(y_train, y_pred_train, y_test, y_pred_test)\n"
   ]
  },
  {
   "cell_type": "code",
   "execution_count": null,
   "metadata": {},
   "outputs": [],
   "source": [
    "reg.best_params_"
   ]
  },
  {
   "cell_type": "code",
   "execution_count": null,
   "metadata": {},
   "outputs": [],
   "source": [
    "plot_target_pred(\"y_train\", y_train, \"y_pred_train\", y_pred_train, \"06-xgb_\")"
   ]
  },
  {
   "cell_type": "code",
   "execution_count": null,
   "metadata": {},
   "outputs": [],
   "source": [
    "plot_target_pred(\"y_test\", y_test, \"y_pred_test\", y_pred_test, \"06-xgb_\")"
   ]
  },
  {
   "cell_type": "code",
   "execution_count": null,
   "metadata": {},
   "outputs": [],
   "source": [
    "path = \".\\data\\MEPS_data_preprocessed_train.csv\"\n",
    "X, y = read_x_y(path, \"HEALTHEXP\")"
   ]
  },
  {
   "cell_type": "code",
   "execution_count": null,
   "metadata": {},
   "outputs": [],
   "source": [
    "categorical_features = get_categorical_features(X)\n",
    "numerical_features= [f for f in X.columns if f not in categorical_features]\n",
    "\n",
    "categorical_transformer = Pipeline(\n",
    "    steps = [\n",
    "        (\"onehot\", OneHotEncoder(handle_unknown = \"ignore\"))\n",
    "    ]\n",
    ")\n",
    "\n",
    "numerical_transformer = Pipeline(\n",
    "    steps = [\n",
    "        (\"scaler\", StandardScaler())\n",
    "    ]\n",
    ")\n",
    "\n",
    "preprocessor = ColumnTransformer(\n",
    "    transformers = [\n",
    "        (\"cat\", categorical_transformer, categorical_features),\n",
    "        (\"num\", numerical_transformer, numerical_features)\n",
    "    ]\n",
    ")\n",
    "\n",
    "regressor = GradientBoostingRegressor(n_estimators = 76, \n",
    "                                    max_depth = 5,\n",
    "                                    min_samples_split = 2,\n",
    "                                    min_samples_leaf = 5,\n",
    "                                    random_state = 123)\n",
    "\n",
    "reg_xgb = Pipeline(steps = [(\"preprocessor\", preprocessor),\n",
    "                      (\"regressor\", regressor)])"
   ]
  },
  {
   "cell_type": "code",
   "execution_count": null,
   "metadata": {},
   "outputs": [],
   "source": [
    "reg_xgb.fit(X, y)"
   ]
  }
 ],
 "metadata": {
  "kernelspec": {
   "display_name": "Python 3",
   "language": "python",
   "name": "python3"
  },
  "language_info": {
   "codemirror_mode": {
    "name": "ipython",
    "version": 3
   },
   "file_extension": ".py",
   "mimetype": "text/x-python",
   "name": "python",
   "nbconvert_exporter": "python",
   "pygments_lexer": "ipython3",
   "version": "3.10.7"
  }
 },
 "nbformat": 4,
 "nbformat_minor": 4
}
