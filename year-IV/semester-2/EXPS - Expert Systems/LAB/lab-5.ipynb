{
  "cells": [
    {
      "cell_type": "code",
      "source": [
        "from keras.applications.vgg16 import VGG16\n",
        "\n",
        "model = VGG16(weights='imagenet')"
      ],
      "metadata": {
        "id": "QN3iGr_Jt9Yk"
      },
      "execution_count": 36,
      "outputs": []
    },
    {
      "cell_type": "code",
      "source": [
        "from tensorflow.keras.preprocessing import image\n",
        "from keras.applications.vgg16 import preprocess_input, decode_predictions\n",
        "import numpy as np\n",
        "\n",
        "img_path = 'catto.png'\n",
        "\n",
        "img = image.load_img(img_path, target_size=(224, 224))\n",
        "\n",
        "x = image.img_to_array(img)\n",
        "\n",
        "x = np.expand_dims(x, axis=0)\n",
        "\n",
        "x = preprocess_input(x)"
      ],
      "metadata": {
        "id": "fj8CAAbDt9V_"
      },
      "execution_count": 37,
      "outputs": []
    },
    {
      "cell_type": "code",
      "source": [
        "preds = model.predict(x)\n",
        "print('Predicted:', decode_predictions(preds, top=3)[0])"
      ],
      "metadata": {
        "id": "DkKZyI2EtRhG",
        "outputId": "fdbbb2bc-16c4-4c7c-d491-64b61502ea9f",
        "colab": {
          "base_uri": "https://localhost:8080/"
        }
      },
      "execution_count": 38,
      "outputs": [
        {
          "output_type": "stream",
          "name": "stdout",
          "text": [
            "Predicted: [('n02104365', 'schipperke', 0.30305293), ('n04265275', 'space_heater', 0.28295416), ('n02124075', 'Egyptian_cat', 0.13652034)]\n"
          ]
        }
      ]
    },
    {
      "cell_type": "code",
      "source": [
        "np.argmax(preds[0])"
      ],
      "metadata": {
        "id": "AbmCUqy8uG59",
        "outputId": "e6a2ea2c-1f2d-4c11-8e20-4501948b9814",
        "colab": {
          "base_uri": "https://localhost:8080/"
        }
      },
      "execution_count": 39,
      "outputs": [
        {
          "output_type": "execute_result",
          "data": {
            "text/plain": [
              "223"
            ]
          },
          "metadata": {},
          "execution_count": 39
        }
      ]
    },
    {
      "cell_type": "code",
      "source": [
        "from keras import backend as K\n",
        "import tensorflow\n",
        "\n",
        "tensorflow.compat.v1.disable_eager_execution()\n",
        "\n",
        "catto_output = model.output[:, 223]\n",
        "\n",
        "last_conv_layer = model.get_layer('block5_conv3')\n",
        "\n",
        "grads = K.gradients(catto_output, last_conv_layer.output)[0]\n",
        "\n",
        "pooled_grads = K.mean(grads, axis=(0, 1, 2))\n",
        "\n",
        "iterate = K.function([model.input],\n",
        "                     [pooled_grads, last_conv_layer.output[0]])\n",
        "\n",
        "pooled_grads_value, conv_layer_output_value = iterate([x])\n",
        "\n",
        "for i in range(512):\n",
        "    conv_layer_output_value[:, :, i] *= pooled_grads_value[i]\n",
        "\n",
        "heatmap = np.mean(conv_layer_output_value, axis=-1)"
      ],
      "metadata": {
        "id": "e1qiV65RuG3o"
      },
      "execution_count": 40,
      "outputs": []
    },
    {
      "cell_type": "code",
      "source": [
        "from matplotlib import pyplot as plt\n",
        "\n",
        "heatmap = np.maximum(heatmap, 0)\n",
        "heatmap /= np.max(heatmap)\n",
        "plt.matshow(heatmap)"
      ],
      "metadata": {
        "id": "uMCCJ-bXuG07",
        "outputId": "6c5ff41d-1f8c-40ce-ffc5-ec21d003be56",
        "colab": {
          "base_uri": "https://localhost:8080/",
          "height": 293
        }
      },
      "execution_count": 41,
      "outputs": [
        {
          "output_type": "execute_result",
          "data": {
            "text/plain": [
              "<matplotlib.image.AxesImage at 0x7fea440c1b50>"
            ]
          },
          "metadata": {},
          "execution_count": 41
        },
        {
          "output_type": "display_data",
          "data": {
            "text/plain": [
              "<Figure size 288x288 with 1 Axes>"
            ],
            "image/png": "[encoded data removed]"
          },
          "metadata": {
            "needs_background": "light"
          }
        }
      ]
    },
    {
      "cell_type": "code",
      "source": [
        "import cv2\n",
        "\n",
        "img = cv2.imread(img_path)\n",
        "\n",
        "heatmap = cv2.resize(heatmap, (img.shape[1], img.shape[0]))\n",
        "\n",
        "heatmap = np.uint8(255 * heatmap)\n",
        "\n",
        "heatmap = cv2.applyColorMap(heatmap, cv2.COLORMAP_JET)\n",
        "\n",
        "superimposed_img = heatmap * 0.4 + img\n",
        "\n",
        "cv2.imwrite('catto1.jpg', superimposed_img)"
      ],
      "metadata": {
        "id": "7jPKvXwBuGx-",
        "outputId": "87537576-2a8d-4d57-aca8-8caebce4b2ee",
        "colab": {
          "base_uri": "https://localhost:8080/"
        }
      },
      "execution_count": 42,
      "outputs": [
        {
          "output_type": "execute_result",
          "data": {
            "text/plain": [
              "True"
            ]
          },
          "metadata": {},
          "execution_count": 42
        }
      ]
    }
  ],
  "metadata": {
    "colab": {
      "name": "Welcome To Colaboratory",
      "provenance": []
    },
    "kernelspec": {
      "display_name": "Python 3",
      "name": "python3"
    }
  },
  "nbformat": 4,
  "nbformat_minor": 0
}