{
 "cells": [
  {
   "cell_type": "markdown",
   "metadata": {},
   "source": [
    "# IPR"
   ]
  },
  {
   "cell_type": "code",
   "execution_count": 1,
   "metadata": {},
   "outputs": [],
   "source": [
    "import torch\n",
    "from torch import nn"
   ]
  },
  {
   "cell_type": "markdown",
   "metadata": {},
   "source": [
    "## Data"
   ]
  },
  {
   "cell_type": "code",
   "execution_count": 2,
   "metadata": {},
   "outputs": [],
   "source": [
    "from torchvision import transforms\n",
    "from torchvision.datasets import FashionMNIST, MNIST\n",
    "from torch.utils.data import DataLoader, random_split, Subset\n",
    "from torch import Generator\n",
    "\n",
    "def load_data(Mnist: MNIST, batch_size: int, split: list[int, int], resize: int | None=None) -> tuple[DataLoader, DataLoader, DataLoader]:\n",
    "    \"\"\"Download a dataset and then load it into memory.\"\"\"\n",
    "    trans: list[transforms.ToTensor] = [transforms.ToTensor()]\n",
    "    if resize:\n",
    "        trans.insert(0, transforms.Resize(resize))\n",
    "        \n",
    "    transform: transforms.Compose = transforms.Compose(trans)\n",
    "    \n",
    "    mnist_train: MNIST = Mnist(root=\"../data\", train=True, transform=transform, download=True)\n",
    "    mnist_test: MNIST = Mnist(root=\"../data\", train=False, transform=transform, download=True)\n",
    "    \n",
    "    mnist_train, mnist_val = random_split(mnist_train, split, generator=Generator().manual_seed(42))\n",
    "    \n",
    "    return (\n",
    "        DataLoader(mnist_train, batch_size, shuffle=True, num_workers=2),\n",
    "        DataLoader(mnist_val, batch_size, shuffle=False, num_workers=2),\n",
    "        DataLoader(mnist_test, batch_size, shuffle=False, num_workers=2)\n",
    "    )"
   ]
  },
  {
   "cell_type": "markdown",
   "metadata": {},
   "source": [
    "## Device"
   ]
  },
  {
   "cell_type": "code",
   "execution_count": 10,
   "metadata": {},
   "outputs": [],
   "source": [
    "from torch import device\n",
    "\n",
    "\n",
    "def try_gpu(i=0) -> device:\n",
    "    \"\"\"Return gpu(i) if exists, otherwise return cpu().\"\"\"\n",
    "    if torch.cuda.device_count() >= i + 1:\n",
    "        return torch.device(f'cuda:{i}')\n",
    "    return torch.device('cpu')"
   ]
  },
  {
   "cell_type": "markdown",
   "metadata": {},
   "source": [
    "## Training"
   ]
  },
  {
   "cell_type": "code",
   "execution_count": 11,
   "metadata": {},
   "outputs": [],
   "source": [
    "from typing import Callable\n",
    "from torch import Tensor\n",
    "\n",
    "\n",
    "def evaluate_accuracy(\n",
    "        net: nn.Module,\n",
    "        data_iter: DataLoader,\n",
    "        loss: Callable[..., Tensor],\n",
    "        device: device) -> tuple[float, float]:\n",
    "    \"\"\"Compute the accuracy for a model on a dataset.\"\"\"\n",
    "    net.eval()  # Set the model to evaluation mode\n",
    "\n",
    "    total_loss: int = 0\n",
    "    total_hits:  int = 0\n",
    "    total_samples: int = 0\n",
    "    \n",
    "    with torch.no_grad():\n",
    "        for X, y in data_iter:\n",
    "            X, y = X.to(device), y.to(device)\n",
    "            y_hat = net(X)\n",
    "            \n",
    "            l = loss(y_hat, y)\n",
    "            \n",
    "            total_loss += float(l)\n",
    "            total_hits += sum(net(X).argmax(axis=1).type(y.dtype) == y)\n",
    "            total_samples += y.numel()\n",
    "            \n",
    "            \n",
    "    return total_loss / len(data_iter), total_hits / total_samples  * 100"
   ]
  },
  {
   "cell_type": "code",
   "execution_count": 14,
   "metadata": {},
   "outputs": [],
   "source": [
    "from termcolor import colored\n",
    "from torch.optim.optimizer import Optimizer\n",
    "from torch import optim\n",
    "\n",
    "def train(\n",
    "    net: nn.Module,\n",
    "    train_iter: DataLoader,\n",
    "    val_iter: DataLoader,\n",
    "    num_epochs: int,\n",
    "    learning_rate: float,\n",
    "    loss: Callable[..., Tensor],\n",
    "    optimizer: Optimizer,\n",
    "    device) -> tuple[list[float], list[float], list[float], list[float]]:\n",
    "    \"\"\"Train a model.\"\"\"\n",
    "    \n",
    "    def train_epoch() -> tuple[float, float]:  \n",
    "        # Set the model to training mode\n",
    "        net.train()\n",
    "        \n",
    "        # Sum of training loss, sum of training correct predictions, no. of examples\n",
    "        total_loss: int = 0\n",
    "        total_hits: int = 0\n",
    "        total_samples: int = 0\n",
    "        \n",
    "        for X, y in train_iter:\n",
    "            # Compute gradients and update parameters\n",
    "            X, y = X.to(device), y.to(device)\n",
    "            y_hat = net(X)\n",
    "            \n",
    "            l = loss(y_hat, y)\n",
    "            # Using PyTorch built-in optimizer & loss criterion\n",
    "            optimizer.zero_grad()\n",
    "            l.backward()\n",
    "            optimizer.step()\n",
    "            \n",
    "            total_loss += float(l)\n",
    "            total_hits += sum(y_hat.argmax(axis=1).type(y.dtype) == y)\n",
    "            total_samples += y.numel()\n",
    "            \n",
    "        # Return training loss and training accuracy\n",
    "        return total_loss / len(train_iter), total_hits / total_samples  * 100\n",
    "    \n",
    "    def print_epoch_summary(epoch: int, train_loss: float, train_acc: float, val_loss: float, val_acc: float, last_values: tuple[float, float, float, float]):\n",
    "        def diff_color(diff: float, is_pos: bool) -> str:\n",
    "            if (diff > 0.0 and is_pos) or (diff < 0.0 and not is_pos):\n",
    "                return \"green\"\n",
    "            return \"red\"\n",
    "        \n",
    "        if epoch == 0:\n",
    "            print(f'{epoch + 1:5} | {train_loss:12.2f} | {train_acc:13.2f}% | {val_loss:15.2f} | {val_acc:18.2f}%')\n",
    "        else:\n",
    "            train_loss_diff = train_loss - last_values[0]\n",
    "            train_acc_diff = train_acc - last_values[1]\n",
    "            val_loss_diff = val_loss - last_values[2]\n",
    "            val_acc_diff = val_acc - last_values[3]\n",
    "            print(f'{epoch + 1:5} | ({colored(f\"{train_loss_diff:+3.2f}\", diff_color(train_loss_diff, False))}) {train_loss:4.2f} ', end='')\n",
    "            print(f'| ({colored(f\"{train_acc_diff:+3.2f}\", diff_color(train_acc_diff, True))}) {train_acc:5.2f}% ', end='')\n",
    "            print(f'|    ({colored(f\"{val_loss_diff:+3.2f}\", diff_color(val_loss_diff, False))}) {val_loss:3.2f} ', end='')\n",
    "            print(f'|      ({colored(f\"{val_acc_diff:+3.2f}\", diff_color(val_acc_diff, True))}) {val_acc:5.2f}%') \n",
    "    \n",
    "    train_loss_all: list[float] = []\n",
    "    train_acc_all: list[float] = []\n",
    "    val_loss_all: list[float] = []\n",
    "    val_acc_all: list[float] = []\n",
    "    \n",
    "    def init_weights(m):\n",
    "        if type(m) == nn.Linear or type(m) == nn.Conv2d:\n",
    "            nn.init.xavier_uniform_(m.weight)\n",
    "            \n",
    "    net.apply(init_weights)\n",
    "    \n",
    "    print('Training on', device)\n",
    "    net.to(device)\n",
    "    \n",
    "    optimizer = torch.optim.SGD(net.parameters(), lr=learning_rate)\n",
    "    loss = nn.CrossEntropyLoss()\n",
    "    \n",
    "    last_values: tuple[float, float, float, float] = (0.0, 0.0, 0.0, 0.0)\n",
    "    print(f'Epoch |   Train Loss | Train Accuracy | Validation Loss | Validation Accuracy')\n",
    "    for epoch in range(num_epochs):\n",
    "        train_loss, train_acc = train_epoch()\n",
    "        train_loss_all.append(train_loss)\n",
    "        train_acc_all.append(train_acc)\n",
    "        \n",
    "        val_loss, val_acc = evaluate_accuracy(net, val_iter, loss, device)\n",
    "        val_loss_all.append(val_loss)\n",
    "        val_acc_all.append(val_acc)\n",
    "        \n",
    "        print_epoch_summary(epoch, train_loss, train_acc, val_loss, val_acc, last_values)\n",
    "        last_values = (train_loss, train_acc, val_loss, val_acc)\n",
    "\n",
    "    return train_loss_all, train_acc_all, val_loss_all, val_acc_all"
   ]
  },
  {
   "cell_type": "markdown",
   "metadata": {},
   "source": [
    "## Plotting"
   ]
  },
  {
   "cell_type": "code",
   "execution_count": 23,
   "metadata": {},
   "outputs": [],
   "source": [
    "import plotly.express as px\n",
    "import plotly.graph_objects as go"
   ]
  },
  {
   "cell_type": "code",
   "execution_count": 31,
   "metadata": {},
   "outputs": [],
   "source": [
    "def plot_loss(train_loss_all: list[float], val_loss_all: list[float]):\n",
    "    epochs = list(range(1, len(train_loss_all) + 1))\n",
    "    fig = go.Figure()\n",
    "    fig.add_trace(go.Scatter(x=epochs, y=train_loss_all, name='Training loss', line=dict(width=4)))\n",
    "    fig.add_trace(go.Scatter(x=epochs, y=val_loss_all, name='Validation loss', line=dict(width=4)))\n",
    "    fig.update_layout(\n",
    "        title='Training and validation loss',\n",
    "        paper_bgcolor='rgba(0,0,0,0)',\n",
    "        plot_bgcolor='rgba(0,0,0,0)',\n",
    "        font = {\n",
    "            'size': 18,\n",
    "            'color': 'white'\n",
    "        },\n",
    "        xaxis = {\n",
    "            'title': 'Epochs',\n",
    "        }, \n",
    "        yaxis = {\n",
    "            'title': 'Loss',\n",
    "        })\n",
    "    fig.show()"
   ]
  },
  {
   "cell_type": "code",
   "execution_count": 32,
   "metadata": {},
   "outputs": [],
   "source": [
    "def plot_accuracy(train_acc_all: list[float], val_acc_all: list[float]):\n",
    "    epochs = list(range(1, len(train_acc_all) + 1))\n",
    "    fig = go.Figure()\n",
    "    fig.add_trace(go.Scatter(x=epochs, y=train_acc_all, name='Training accuracy', line=dict(width=4)))\n",
    "    fig.add_trace(go.Scatter(x=epochs, y=val_acc_all, name='Validation accuracy', line=dict(width=4)))\n",
    "    fig.update_layout(\n",
    "        title='Training and validation accuracy',\n",
    "        paper_bgcolor='rgba(0,0,0,0)',\n",
    "        plot_bgcolor='rgba(0,0,0,0)',\n",
    "        font = {\n",
    "            'size': 18,\n",
    "            'color': 'white'\n",
    "        },\n",
    "        xaxis = {\n",
    "            'title': 'Epochs',\n",
    "        }, \n",
    "        yaxis = {\n",
    "            'title': 'Accuracy',\n",
    "        }\n",
    "    )\n",
    "    fig.show()"
   ]
  },
  {
   "cell_type": "markdown",
   "metadata": {},
   "source": [
    "## Models\n"
   ]
  },
  {
   "cell_type": "code",
   "execution_count": 7,
   "metadata": {},
   "outputs": [],
   "source": [
    "def init_weights(std: float):\n",
    "    def init(m: nn.Module | nn.Linear):\n",
    "        if type(m) == nn.Linear:\n",
    "            nn.init.normal_(m.weight, std=std)\n",
    "            \n",
    "    return init"
   ]
  },
  {
   "cell_type": "code",
   "execution_count": 3,
   "metadata": {},
   "outputs": [],
   "source": [
    "def test_net(net: nn.Module, x: torch.Tensor):\n",
    "    for layer in net:\n",
    "        x: Tensor = layer(x)\n",
    "        print(f'{layer.__class__.__name__: <15}\\t->\\t{x.shape}')"
   ]
  },
  {
   "cell_type": "markdown",
   "metadata": {},
   "source": [
    "### SoftMax"
   ]
  },
  {
   "cell_type": "code",
   "execution_count": null,
   "metadata": {},
   "outputs": [],
   "source": [
    "softmax_net = nn.Sequential(\n",
    "    nn.Flatten(),               # 28 x 28 -> 784\n",
    "    nn.Linear(784, 10)          # 784 -> 10\n",
    ")"
   ]
  },
  {
   "cell_type": "markdown",
   "metadata": {},
   "source": [
    "### Multilayer Perceptron"
   ]
  },
  {
   "cell_type": "code",
   "execution_count": null,
   "metadata": {},
   "outputs": [],
   "source": [
    "multi_layer_net = nn.Sequential(\n",
    "    nn.Flatten(),                   # 28 x 28 -> 784\n",
    "    nn.Linear(784, 256), nn.ReLU(), # 784 -> 256\n",
    "    nn.Linear(256, 10)              # 256 -> 10\n",
    ")"
   ]
  },
  {
   "cell_type": "markdown",
   "metadata": {},
   "source": [
    "### Convolutional Neural Network"
   ]
  },
  {
   "cell_type": "code",
   "execution_count": null,
   "metadata": {},
   "outputs": [],
   "source": [
    "conv_net = nn.Sequential(\n",
    "    nn.Conv2d(1, 6, kernel_size=5, padding=2), nn.Sigmoid(),    # 28 x 28 -> 28 x 28 x 6\n",
    "    nn.AvgPool2d(kernel_size=2, stride=2),                      # 28 x 28 x 6 -> 14 x 14 x 6\n",
    "    nn.Conv2d(6, 16, kernel_size=5), nn.Sigmoid(),              # 14 x 14 x 6 -> 10 x 10 x 16\n",
    "    nn.AvgPool2d(kernel_size=2, stride=2),                      # 10 x 10 x 16 -> 5 x 5 x 16\n",
    "    nn.Flatten(),                                               # 5 x 5 x 16 -> 400\n",
    "    nn.Linear(16 * 5 * 5, 120), nn.Sigmoid(),                   # 400 -> 120\n",
    "    nn.Linear(120, 84), nn.Sigmoid(),                           # 120 -> 84\n",
    "    nn.Linear(84, 10)                                           # 84 -> 10\n",
    ")"
   ]
  },
  {
   "cell_type": "markdown",
   "metadata": {},
   "source": [
    "### Deep Convolutional Neural Network"
   ]
  },
  {
   "cell_type": "code",
   "execution_count": 49,
   "metadata": {},
   "outputs": [],
   "source": [
    "alex_net = nn.Sequential(\n",
    "    nn.Conv2d(1, 96, kernel_size=11, stride=4, padding=1), nn.ReLU(),   # 224 x 224 -> 54 x 54 x 96\n",
    "    nn.MaxPool2d(kernel_size=3, stride=2),                              # 54 x 54 x 96 -> 26 x 26 x 96\n",
    "    nn.Conv2d(96, 256, kernel_size=5, padding=2), nn.ReLU(),            # 26 x 26 x 96 -> 26 x 26 x 256\n",
    "    nn.MaxPool2d(kernel_size=3, stride=2),                              # 26 x 26 x 256 -> 12 x 12 x 256\n",
    "    nn.Conv2d(256, 384, kernel_size=3, padding=1), nn.ReLU(),           # 12 x 12 x 256 -> 12 x 12 x 384\n",
    "    nn.Conv2d(384, 384, kernel_size=3, padding=1), nn.ReLU(),           # 12 x 12 x 384 -> 12 x 12 x 384\n",
    "    nn.Conv2d(384, 256, kernel_size=3, padding=1), nn.ReLU(),           # 12 x 12 x 384 -> 12 x 12 x 256\n",
    "    nn.MaxPool2d(kernel_size=3, stride=2),                              # 12 x 12 x 256 -> 5 x 5 x 256\n",
    "    nn.Flatten(),                                                       # 5 x 5 x 256 -> 6400\n",
    "    nn.Linear(6400, 4096), nn.ReLU(), nn.Dropout(p=0.5),                # 6400 -> 4096\n",
    "    nn.Linear(4096, 4096), nn.ReLU(), nn.Dropout(p=0.5),                # 4096 -> 4096\n",
    "    nn.Linear(4096, 10)                                                 # 4096 -> 10\n",
    ")"
   ]
  },
  {
   "cell_type": "markdown",
   "metadata": {},
   "source": [
    "### Batch Normalization"
   ]
  },
  {
   "cell_type": "code",
   "execution_count": 12,
   "metadata": {},
   "outputs": [],
   "source": [
    "batch_norm_net = nn.Sequential(\n",
    "    nn.Conv2d(1, 6, kernel_size=5), nn.BatchNorm2d(6), nn.Sigmoid(),    # 28 x 28 -> 24 x 24 x 6\n",
    "    nn.AvgPool2d(kernel_size=2, stride=2),                              # 24 x 24 x 6 -> 12 x 12 x 6\n",
    "    nn.Conv2d(6, 16, kernel_size=5), nn.BatchNorm2d(16), nn.Sigmoid(),  # 12 x 12 x 6 -> 8 x 8 x 16\n",
    "    nn.AvgPool2d(kernel_size=2, stride=2),                              # 8 x 8 x 16 -> 4 x 4 x 16\n",
    "    nn.Flatten(),                                                       # 4 x 4 x 16 -> 256\n",
    "    nn.Linear(256, 120), nn.BatchNorm1d(120), nn.Sigmoid(),             # 256 -> 120\n",
    "    nn.Linear(120, 84), nn.BatchNorm1d(84), nn.Sigmoid(),               # 120 -> 84\n",
    "    nn.Linear(84, 10)                                                   # 84 -> 10\n",
    ")"
   ]
  },
  {
   "cell_type": "code",
   "execution_count": 77,
   "metadata": {},
   "outputs": [],
   "source": [
    "class ConvBlock(nn.Module):\n",
    "    def __init__(self):\n",
    "        super().__init__()\n",
    "        \n",
    "        self.lconv1 = nn.Conv2d(1, 64, kernel_size=3, padding=1)\n",
    "        self.lbatch1 = nn.BatchNorm2d(64)\n",
    "        self.lrelu1 = nn.ReLU()\n",
    "        \n",
    "        self.lconv2 = nn.Conv2d(64, 3, kernel_size=3)\n",
    "        self.lrelu2 = nn.ReLU()\n",
    "        \n",
    "        self.rconv1 = nn.Conv2d(1, 3, kernel_size=3)\n",
    "        \n",
    "    \n",
    "    def forward(self, x):\n",
    "        # left path\n",
    "        Yl = self.lrelu1(self.lbatch1(self.lconv1(x)))\n",
    "        Yl = self.lrelu2(self.lconv2(Yl))\n",
    "        \n",
    "        # right path\n",
    "        Yr = self.rconv1(x)\n",
    "        \n",
    "        return Yr + Yl\n",
    "\n",
    "combined_net = nn.Sequential(\n",
    "    ConvBlock(),\n",
    "    nn.Flatten(),\n",
    "    nn.Linear(3 * 30 * 30, 10)\n",
    ")"
   ]
  },
  {
   "cell_type": "markdown",
   "metadata": {},
   "source": [
    "# Testing"
   ]
  },
  {
   "cell_type": "code",
   "execution_count": 3,
   "metadata": {},
   "outputs": [],
   "source": [
    "data = load_data(MNIST, 150, [45000, 15000])\n",
    "data_train, data_val, data_test = data"
   ]
  },
  {
   "cell_type": "code",
   "execution_count": 19,
   "metadata": {},
   "outputs": [],
   "source": [
    "lab4_net = nn.Sequential(\n",
    "    nn.Flatten(),\n",
    "    nn.Linear(784, 512), nn.ReLU(),\n",
    "    nn.Linear(512, 256), nn.ReLU(),\n",
    "    nn.Linear(256, 10)\n",
    ")"
   ]
  },
  {
   "cell_type": "code",
   "execution_count": 37,
   "metadata": {},
   "outputs": [
    {
     "name": "stdout",
     "output_type": "stream",
     "text": [
      "Collecting prettytable\n",
      "  Downloading prettytable-3.6.0-py3-none-any.whl (27 kB)\n",
      "Requirement already satisfied: wcwidth in c:\\python310\\lib\\site-packages (from prettytable) (0.2.5)\n",
      "Installing collected packages: prettytable\n",
      "Successfully installed prettytable-3.6.0\n",
      "Note: you may need to restart the kernel to use updated packages.\n"
     ]
    },
    {
     "name": "stderr",
     "output_type": "stream",
     "text": [
      "WARNING: Ignoring invalid distribution -umpy (c:\\python310\\lib\\site-packages)\n",
      "WARNING: Ignoring invalid distribution -ip (c:\\python310\\lib\\site-packages)\n",
      "WARNING: Ignoring invalid distribution - (c:\\python310\\lib\\site-packages)\n",
      "WARNING: Ignoring invalid distribution -umpy (c:\\python310\\lib\\site-packages)\n",
      "WARNING: Ignoring invalid distribution -ip (c:\\python310\\lib\\site-packages)\n",
      "WARNING: Ignoring invalid distribution - (c:\\python310\\lib\\site-packages)\n",
      "WARNING: Ignoring invalid distribution -umpy (c:\\python310\\lib\\site-packages)\n",
      "WARNING: Ignoring invalid distribution -ip (c:\\python310\\lib\\site-packages)\n",
      "WARNING: Ignoring invalid distribution - (c:\\python310\\lib\\site-packages)\n",
      "WARNING: Ignoring invalid distribution -umpy (c:\\python310\\lib\\site-packages)\n",
      "WARNING: Ignoring invalid distribution -ip (c:\\python310\\lib\\site-packages)\n",
      "WARNING: Ignoring invalid distribution - (c:\\python310\\lib\\site-packages)\n",
      "WARNING: Ignoring invalid distribution -umpy (c:\\python310\\lib\\site-packages)\n",
      "WARNING: Ignoring invalid distribution -ip (c:\\python310\\lib\\site-packages)\n",
      "WARNING: Ignoring invalid distribution - (c:\\python310\\lib\\site-packages)\n",
      "WARNING: Ignoring invalid distribution -umpy (c:\\python310\\lib\\site-packages)\n",
      "WARNING: Ignoring invalid distribution -ip (c:\\python310\\lib\\site-packages)\n",
      "WARNING: Ignoring invalid distribution - (c:\\python310\\lib\\site-packages)\n",
      "WARNING: Ignoring invalid distribution -umpy (c:\\python310\\lib\\site-packages)\n",
      "WARNING: Ignoring invalid distribution -ip (c:\\python310\\lib\\site-packages)\n",
      "WARNING: Ignoring invalid distribution - (c:\\python310\\lib\\site-packages)\n",
      "\n",
      "[notice] A new release of pip available: 22.3 -> 22.3.1\n",
      "[notice] To update, run: python.exe -m pip install --upgrade pip\n"
     ]
    }
   ],
   "source": [
    "%pip install prettytable"
   ]
  },
  {
   "cell_type": "code",
   "execution_count": 41,
   "metadata": {},
   "outputs": [
    {
     "name": "stdout",
     "output_type": "stream",
     "text": [
      "+--------------+------------+\n",
      "|   Modules    | Parameters |\n",
      "+--------------+------------+\n",
      "| weight_ih_l0 |     48     |\n",
      "| weight_hh_l0 |     64     |\n",
      "|  bias_ih_l0  |     16     |\n",
      "|  bias_hh_l0  |     16     |\n",
      "| weight_ih_l1 |     64     |\n",
      "| weight_hh_l1 |     64     |\n",
      "|  bias_ih_l1  |     16     |\n",
      "|  bias_hh_l1  |     16     |\n",
      "+--------------+------------+\n",
      "Total Trainable Params: 304\n"
     ]
    },
    {
     "data": {
      "text/plain": [
       "304"
      ]
     },
     "execution_count": 41,
     "metadata": {},
     "output_type": "execute_result"
    }
   ],
   "source": [
    "from prettytable import PrettyTable\n",
    "\n",
    "\n",
    "def count_parameters(model):\n",
    "    table = PrettyTable([\"Modules\", \"Parameters\"])\n",
    "    total_params = 0\n",
    "    for name, parameter in model.named_parameters():\n",
    "        if not parameter.requires_grad: continue\n",
    "        params = parameter.numel()\n",
    "        table.add_row([name, params])\n",
    "        total_params+=params\n",
    "    print(table)\n",
    "    print(f\"Total Trainable Params: {total_params}\")\n",
    "    return total_params\n",
    "\n",
    "# 2 batch size\n",
    "# 3 inputs\n",
    "# 4 hidden units\n",
    "net = nn.LSTM(3, 4, 2)\n",
    "\n",
    "    \n",
    "count_parameters(net)\n",
    "\n",
    "# x = torch.tensor([\n",
    "#     [4, 3],\n",
    "#     [0, 0],\n",
    "#     [0, 0]\n",
    "# ])\n",
    "# \n",
    "# w = torch.tensor([\n",
    "#     [1, 1, 1],\n",
    "#     [-1, -1, 0],\n",
    "# ])\n",
    "# \n",
    "# (w @ x)"
   ]
  },
  {
   "cell_type": "code",
   "execution_count": 20,
   "metadata": {},
   "outputs": [
    {
     "name": "stdout",
     "output_type": "stream",
     "text": [
      "Flatten        \t->\ttorch.Size([1, 784])\n",
      "Linear         \t->\ttorch.Size([1, 512])\n",
      "ReLU           \t->\ttorch.Size([1, 512])\n",
      "Linear         \t->\ttorch.Size([1, 256])\n",
      "ReLU           \t->\ttorch.Size([1, 256])\n",
      "Linear         \t->\ttorch.Size([1, 10])\n"
     ]
    }
   ],
   "source": [
    "test_net(lab4_net, torch.randn(1, 1, 28, 28))"
   ]
  },
  {
   "cell_type": "code",
   "execution_count": 8,
   "metadata": {},
   "outputs": [
    {
     "data": {
      "text/plain": [
       "Sequential(\n",
       "  (0): Linear(in_features=784, out_features=512, bias=True)\n",
       "  (1): ReLU()\n",
       "  (2): Linear(in_features=512, out_features=256, bias=True)\n",
       "  (3): ReLU()\n",
       "  (4): Linear(in_features=256, out_features=10, bias=True)\n",
       ")"
      ]
     },
     "execution_count": 8,
     "metadata": {},
     "output_type": "execute_result"
    }
   ],
   "source": [
    "lab4_net.apply(init_weights(0.01))"
   ]
  },
  {
   "cell_type": "code",
   "execution_count": 21,
   "metadata": {},
   "outputs": [
    {
     "name": "stdout",
     "output_type": "stream",
     "text": [
      "Training on cpu\n",
      "Epoch |   Train Loss | Train Accuracy | Validation Loss | Validation Accuracy\n",
      "    1 |         0.76 |         82.04% |            0.41 |              88.83%\n",
      "    2 | (\u001b[32m-0.42\u001b[0m) 0.34 | (\u001b[32m+8.54\u001b[0m) 90.58% |    (\u001b[32m-0.08\u001b[0m) 0.33 |      (\u001b[32m+1.99\u001b[0m) 90.82%\n",
      "    3 | (\u001b[32m-0.06\u001b[0m) 0.28 | (\u001b[32m+1.41\u001b[0m) 92.00% |    (\u001b[32m-0.04\u001b[0m) 0.28 |      (\u001b[32m+1.31\u001b[0m) 92.13%\n",
      "    4 | (\u001b[32m-0.03\u001b[0m) 0.25 | (\u001b[32m+0.98\u001b[0m) 92.98% |    (\u001b[32m-0.03\u001b[0m) 0.26 |      (\u001b[32m+0.50\u001b[0m) 92.63%\n",
      "    5 | (\u001b[32m-0.02\u001b[0m) 0.23 | (\u001b[32m+0.59\u001b[0m) 93.57% |    (\u001b[32m-0.02\u001b[0m) 0.23 |      (\u001b[32m+0.86\u001b[0m) 93.49%\n",
      "    6 | (\u001b[32m-0.02\u001b[0m) 0.21 | (\u001b[32m+0.62\u001b[0m) 94.19% |    (\u001b[32m-0.01\u001b[0m) 0.22 |      (\u001b[32m+0.33\u001b[0m) 93.82%\n",
      "    7 | (\u001b[32m-0.02\u001b[0m) 0.19 | (\u001b[32m+0.48\u001b[0m) 94.68% |    (\u001b[32m-0.02\u001b[0m) 0.20 |      (\u001b[32m+0.48\u001b[0m) 94.30%\n",
      "    8 | (\u001b[32m-0.01\u001b[0m) 0.18 | (\u001b[32m+0.34\u001b[0m) 95.02% |    (\u001b[32m-0.01\u001b[0m) 0.19 |      (\u001b[32m+0.07\u001b[0m) 94.37%\n",
      "    9 | (\u001b[32m-0.01\u001b[0m) 0.16 | (\u001b[32m+0.37\u001b[0m) 95.39% |    (\u001b[32m-0.01\u001b[0m) 0.18 |      (\u001b[32m+0.49\u001b[0m) 94.85%\n",
      "   10 | (\u001b[32m-0.01\u001b[0m) 0.15 | (\u001b[32m+0.31\u001b[0m) 95.70% |    (\u001b[32m-0.01\u001b[0m) 0.17 |      (\u001b[32m+0.12\u001b[0m) 94.97%\n"
     ]
    }
   ],
   "source": [
    "loss_fn = nn.CrossEntropyLoss()\n",
    "optimizer = optim.SGD(lab4_net.parameters(), lr=0.05)\n",
    "\n",
    "train_loss, train_acc, val_loss, val_acc = train(\n",
    "    lab4_net,\n",
    "    data_train,\n",
    "    data_val,\n",
    "    10,\n",
    "    0.05,\n",
    "    loss_fn,\n",
    "    optimizer,\n",
    "    try_gpu())"
   ]
  },
  {
   "cell_type": "code",
   "execution_count": 33,
   "metadata": {},
   "outputs": [
    {
     "data": {
      "application/vnd.plotly.v1+json": {
       "config": {
        "plotlyServerURL": "https://plot.ly"
       },
       "data": [
        {
         "line": {
          "width": 4
         },
         "name": "Training accuracy",
         "type": "scatter",
         "x": [
          1,
          2,
          3,
          4,
          5,
          6,
          7,
          8,
          9,
          10
         ],
         "y": [
          82.04444885253906,
          90.58222198486328,
          91.99555206298828,
          92.977783203125,
          93.57110595703125,
          94.1933364868164,
          94.67777252197266,
          95.02000427246094,
          95.38666534423828,
          95.70000457763672
         ]
        },
        {
         "line": {
          "width": 4
         },
         "name": "Validation accuracy",
         "type": "scatter",
         "x": [
          1,
          2,
          3,
          4,
          5,
          6,
          7,
          8,
          9,
          10
         ],
         "y": [
          88.82666778564453,
          90.81999969482422,
          92.12667083740234,
          92.62666320800781,
          93.48666381835938,
          93.81999969482422,
          94.30000305175781,
          94.36666107177734,
          94.85333251953125,
          94.97333526611328
         ]
        }
       ],
       "layout": {
        "font": {
         "color": "white",
         "size": 18
        },
        "paper_bgcolor": "rgba(0,0,0,0)",
        "plot_bgcolor": "rgba(0,0,0,0)",
        "template": {
         "data": {
          "bar": [
           {
            "error_x": {
             "color": "#2a3f5f"
            },
            "error_y": {
             "color": "#2a3f5f"
            },
            "marker": {
             "line": {
              "color": "#E5ECF6",
              "width": 0.5
             },
             "pattern": {
              "fillmode": "overlay",
              "size": 10,
              "solidity": 0.2
             }
            },
            "type": "bar"
           }
          ],
          "barpolar": [
           {
            "marker": {
             "line": {
              "color": "#E5ECF6",
              "width": 0.5
             },
             "pattern": {
              "fillmode": "overlay",
              "size": 10,
              "solidity": 0.2
             }
            },
            "type": "barpolar"
           }
          ],
          "carpet": [
           {
            "aaxis": {
             "endlinecolor": "#2a3f5f",
             "gridcolor": "white",
             "linecolor": "white",
             "minorgridcolor": "white",
             "startlinecolor": "#2a3f5f"
            },
            "baxis": {
             "endlinecolor": "#2a3f5f",
             "gridcolor": "white",
             "linecolor": "white",
             "minorgridcolor": "white",
             "startlinecolor": "#2a3f5f"
            },
            "type": "carpet"
           }
          ],
          "choropleth": [
           {
            "colorbar": {
             "outlinewidth": 0,
             "ticks": ""
            },
            "type": "choropleth"
           }
          ],
          "contour": [
           {
            "colorbar": {
             "outlinewidth": 0,
             "ticks": ""
            },
            "colorscale": [
             [
              0,
              "#0d0887"
             ],
             [
              0.1111111111111111,
              "#46039f"
             ],
             [
              0.2222222222222222,
              "#7201a8"
             ],
             [
              0.3333333333333333,
              "#9c179e"
             ],
             [
              0.4444444444444444,
              "#bd3786"
             ],
             [
              0.5555555555555556,
              "#d8576b"
             ],
             [
              0.6666666666666666,
              "#ed7953"
             ],
             [
              0.7777777777777778,
              "#fb9f3a"
             ],
             [
              0.8888888888888888,
              "#fdca26"
             ],
             [
              1,
              "#f0f921"
             ]
            ],
            "type": "contour"
           }
          ],
          "contourcarpet": [
           {
            "colorbar": {
             "outlinewidth": 0,
             "ticks": ""
            },
            "type": "contourcarpet"
           }
          ],
          "heatmap": [
           {
            "colorbar": {
             "outlinewidth": 0,
             "ticks": ""
            },
            "colorscale": [
             [
              0,
              "#0d0887"
             ],
             [
              0.1111111111111111,
              "#46039f"
             ],
             [
              0.2222222222222222,
              "#7201a8"
             ],
             [
              0.3333333333333333,
              "#9c179e"
             ],
             [
              0.4444444444444444,
              "#bd3786"
             ],
             [
              0.5555555555555556,
              "#d8576b"
             ],
             [
              0.6666666666666666,
              "#ed7953"
             ],
             [
              0.7777777777777778,
              "#fb9f3a"
             ],
             [
              0.8888888888888888,
              "#fdca26"
             ],
             [
              1,
              "#f0f921"
             ]
            ],
            "type": "heatmap"
           }
          ],
          "heatmapgl": [
           {
            "colorbar": {
             "outlinewidth": 0,
             "ticks": ""
            },
            "colorscale": [
             [
              0,
              "#0d0887"
             ],
             [
              0.1111111111111111,
              "#46039f"
             ],
             [
              0.2222222222222222,
              "#7201a8"
             ],
             [
              0.3333333333333333,
              "#9c179e"
             ],
             [
              0.4444444444444444,
              "#bd3786"
             ],
             [
              0.5555555555555556,
              "#d8576b"
             ],
             [
              0.6666666666666666,
              "#ed7953"
             ],
             [
              0.7777777777777778,
              "#fb9f3a"
             ],
             [
              0.8888888888888888,
              "#fdca26"
             ],
             [
              1,
              "#f0f921"
             ]
            ],
            "type": "heatmapgl"
           }
          ],
          "histogram": [
           {
            "marker": {
             "pattern": {
              "fillmode": "overlay",
              "size": 10,
              "solidity": 0.2
             }
            },
            "type": "histogram"
           }
          ],
          "histogram2d": [
           {
            "colorbar": {
             "outlinewidth": 0,
             "ticks": ""
            },
            "colorscale": [
             [
              0,
              "#0d0887"
             ],
             [
              0.1111111111111111,
              "#46039f"
             ],
             [
              0.2222222222222222,
              "#7201a8"
             ],
             [
              0.3333333333333333,
              "#9c179e"
             ],
             [
              0.4444444444444444,
              "#bd3786"
             ],
             [
              0.5555555555555556,
              "#d8576b"
             ],
             [
              0.6666666666666666,
              "#ed7953"
             ],
             [
              0.7777777777777778,
              "#fb9f3a"
             ],
             [
              0.8888888888888888,
              "#fdca26"
             ],
             [
              1,
              "#f0f921"
             ]
            ],
            "type": "histogram2d"
           }
          ],
          "histogram2dcontour": [
           {
            "colorbar": {
             "outlinewidth": 0,
             "ticks": ""
            },
            "colorscale": [
             [
              0,
              "#0d0887"
             ],
             [
              0.1111111111111111,
              "#46039f"
             ],
             [
              0.2222222222222222,
              "#7201a8"
             ],
             [
              0.3333333333333333,
              "#9c179e"
             ],
             [
              0.4444444444444444,
              "#bd3786"
             ],
             [
              0.5555555555555556,
              "#d8576b"
             ],
             [
              0.6666666666666666,
              "#ed7953"
             ],
             [
              0.7777777777777778,
              "#fb9f3a"
             ],
             [
              0.8888888888888888,
              "#fdca26"
             ],
             [
              1,
              "#f0f921"
             ]
            ],
            "type": "histogram2dcontour"
           }
          ],
          "mesh3d": [
           {
            "colorbar": {
             "outlinewidth": 0,
             "ticks": ""
            },
            "type": "mesh3d"
           }
          ],
          "parcoords": [
           {
            "line": {
             "colorbar": {
              "outlinewidth": 0,
              "ticks": ""
             }
            },
            "type": "parcoords"
           }
          ],
          "pie": [
           {
            "automargin": true,
            "type": "pie"
           }
          ],
          "scatter": [
           {
            "marker": {
             "colorbar": {
              "outlinewidth": 0,
              "ticks": ""
             }
            },
            "type": "scatter"
           }
          ],
          "scatter3d": [
           {
            "line": {
             "colorbar": {
              "outlinewidth": 0,
              "ticks": ""
             }
            },
            "marker": {
             "colorbar": {
              "outlinewidth": 0,
              "ticks": ""
             }
            },
            "type": "scatter3d"
           }
          ],
          "scattercarpet": [
           {
            "marker": {
             "colorbar": {
              "outlinewidth": 0,
              "ticks": ""
             }
            },
            "type": "scattercarpet"
           }
          ],
          "scattergeo": [
           {
            "marker": {
             "colorbar": {
              "outlinewidth": 0,
              "ticks": ""
             }
            },
            "type": "scattergeo"
           }
          ],
          "scattergl": [
           {
            "marker": {
             "colorbar": {
              "outlinewidth": 0,
              "ticks": ""
             }
            },
            "type": "scattergl"
           }
          ],
          "scattermapbox": [
           {
            "marker": {
             "colorbar": {
              "outlinewidth": 0,
              "ticks": ""
             }
            },
            "type": "scattermapbox"
           }
          ],
          "scatterpolar": [
           {
            "marker": {
             "colorbar": {
              "outlinewidth": 0,
              "ticks": ""
             }
            },
            "type": "scatterpolar"
           }
          ],
          "scatterpolargl": [
           {
            "marker": {
             "colorbar": {
              "outlinewidth": 0,
              "ticks": ""
             }
            },
            "type": "scatterpolargl"
           }
          ],
          "scatterternary": [
           {
            "marker": {
             "colorbar": {
              "outlinewidth": 0,
              "ticks": ""
             }
            },
            "type": "scatterternary"
           }
          ],
          "surface": [
           {
            "colorbar": {
             "outlinewidth": 0,
             "ticks": ""
            },
            "colorscale": [
             [
              0,
              "#0d0887"
             ],
             [
              0.1111111111111111,
              "#46039f"
             ],
             [
              0.2222222222222222,
              "#7201a8"
             ],
             [
              0.3333333333333333,
              "#9c179e"
             ],
             [
              0.4444444444444444,
              "#bd3786"
             ],
             [
              0.5555555555555556,
              "#d8576b"
             ],
             [
              0.6666666666666666,
              "#ed7953"
             ],
             [
              0.7777777777777778,
              "#fb9f3a"
             ],
             [
              0.8888888888888888,
              "#fdca26"
             ],
             [
              1,
              "#f0f921"
             ]
            ],
            "type": "surface"
           }
          ],
          "table": [
           {
            "cells": {
             "fill": {
              "color": "#EBF0F8"
             },
             "line": {
              "color": "white"
             }
            },
            "header": {
             "fill": {
              "color": "#C8D4E3"
             },
             "line": {
              "color": "white"
             }
            },
            "type": "table"
           }
          ]
         },
         "layout": {
          "annotationdefaults": {
           "arrowcolor": "#2a3f5f",
           "arrowhead": 0,
           "arrowwidth": 1
          },
          "autotypenumbers": "strict",
          "coloraxis": {
           "colorbar": {
            "outlinewidth": 0,
            "ticks": ""
           }
          },
          "colorscale": {
           "diverging": [
            [
             0,
             "#8e0152"
            ],
            [
             0.1,
             "#c51b7d"
            ],
            [
             0.2,
             "#de77ae"
            ],
            [
             0.3,
             "#f1b6da"
            ],
            [
             0.4,
             "#fde0ef"
            ],
            [
             0.5,
             "#f7f7f7"
            ],
            [
             0.6,
             "#e6f5d0"
            ],
            [
             0.7,
             "#b8e186"
            ],
            [
             0.8,
             "#7fbc41"
            ],
            [
             0.9,
             "#4d9221"
            ],
            [
             1,
             "#276419"
            ]
           ],
           "sequential": [
            [
             0,
             "#0d0887"
            ],
            [
             0.1111111111111111,
             "#46039f"
            ],
            [
             0.2222222222222222,
             "#7201a8"
            ],
            [
             0.3333333333333333,
             "#9c179e"
            ],
            [
             0.4444444444444444,
             "#bd3786"
            ],
            [
             0.5555555555555556,
             "#d8576b"
            ],
            [
             0.6666666666666666,
             "#ed7953"
            ],
            [
             0.7777777777777778,
             "#fb9f3a"
            ],
            [
             0.8888888888888888,
             "#fdca26"
            ],
            [
             1,
             "#f0f921"
            ]
           ],
           "sequentialminus": [
            [
             0,
             "#0d0887"
            ],
            [
             0.1111111111111111,
             "#46039f"
            ],
            [
             0.2222222222222222,
             "#7201a8"
            ],
            [
             0.3333333333333333,
             "#9c179e"
            ],
            [
             0.4444444444444444,
             "#bd3786"
            ],
            [
             0.5555555555555556,
             "#d8576b"
            ],
            [
             0.6666666666666666,
             "#ed7953"
            ],
            [
             0.7777777777777778,
             "#fb9f3a"
            ],
            [
             0.8888888888888888,
             "#fdca26"
            ],
            [
             1,
             "#f0f921"
            ]
           ]
          },
          "colorway": [
           "#636efa",
           "#EF553B",
           "#00cc96",
           "#ab63fa",
           "#FFA15A",
           "#19d3f3",
           "#FF6692",
           "#B6E880",
           "#FF97FF",
           "#FECB52"
          ],
          "font": {
           "color": "#2a3f5f"
          },
          "geo": {
           "bgcolor": "white",
           "lakecolor": "white",
           "landcolor": "#E5ECF6",
           "showlakes": true,
           "showland": true,
           "subunitcolor": "white"
          },
          "hoverlabel": {
           "align": "left"
          },
          "hovermode": "closest",
          "mapbox": {
           "style": "light"
          },
          "paper_bgcolor": "white",
          "plot_bgcolor": "#E5ECF6",
          "polar": {
           "angularaxis": {
            "gridcolor": "white",
            "linecolor": "white",
            "ticks": ""
           },
           "bgcolor": "#E5ECF6",
           "radialaxis": {
            "gridcolor": "white",
            "linecolor": "white",
            "ticks": ""
           }
          },
          "scene": {
           "xaxis": {
            "backgroundcolor": "#E5ECF6",
            "gridcolor": "white",
            "gridwidth": 2,
            "linecolor": "white",
            "showbackground": true,
            "ticks": "",
            "zerolinecolor": "white"
           },
           "yaxis": {
            "backgroundcolor": "#E5ECF6",
            "gridcolor": "white",
            "gridwidth": 2,
            "linecolor": "white",
            "showbackground": true,
            "ticks": "",
            "zerolinecolor": "white"
           },
           "zaxis": {
            "backgroundcolor": "#E5ECF6",
            "gridcolor": "white",
            "gridwidth": 2,
            "linecolor": "white",
            "showbackground": true,
            "ticks": "",
            "zerolinecolor": "white"
           }
          },
          "shapedefaults": {
           "line": {
            "color": "#2a3f5f"
           }
          },
          "ternary": {
           "aaxis": {
            "gridcolor": "white",
            "linecolor": "white",
            "ticks": ""
           },
           "baxis": {
            "gridcolor": "white",
            "linecolor": "white",
            "ticks": ""
           },
           "bgcolor": "#E5ECF6",
           "caxis": {
            "gridcolor": "white",
            "linecolor": "white",
            "ticks": ""
           }
          },
          "title": {
           "x": 0.05
          },
          "xaxis": {
           "automargin": true,
           "gridcolor": "white",
           "linecolor": "white",
           "ticks": "",
           "title": {
            "standoff": 15
           },
           "zerolinecolor": "white",
           "zerolinewidth": 2
          },
          "yaxis": {
           "automargin": true,
           "gridcolor": "white",
           "linecolor": "white",
           "ticks": "",
           "title": {
            "standoff": 15
           },
           "zerolinecolor": "white",
           "zerolinewidth": 2
          }
         }
        },
        "title": {
         "text": "Training and validation accuracy"
        },
        "xaxis": {
         "title": {
          "text": "Epochs"
         }
        },
        "yaxis": {
         "title": {
          "text": "Accuracy"
         }
        }
       }
      }
     },
     "metadata": {},
     "output_type": "display_data"
    }
   ],
   "source": [
    "plot_accuracy(train_acc, val_acc)"
   ]
  },
  {
   "cell_type": "code",
   "execution_count": 34,
   "metadata": {},
   "outputs": [
    {
     "data": {
      "application/vnd.plotly.v1+json": {
       "config": {
        "plotlyServerURL": "https://plot.ly"
       },
       "data": [
        {
         "line": {
          "width": 4
         },
         "name": "Training loss",
         "type": "scatter",
         "x": [
          1,
          2,
          3,
          4,
          5,
          6,
          7,
          8,
          9,
          10
         ],
         "y": [
          0.7629481318660758,
          0.34137456923384557,
          0.28456452912227675,
          0.2518446087329225,
          0.2276118170808662,
          0.2083440227434039,
          0.1913875492966988,
          0.17699634288014335,
          0.16471390214494683,
          0.1536421414718709
         ]
        },
        {
         "line": {
          "width": 4
         },
         "name": "Validation loss",
         "type": "scatter",
         "x": [
          1,
          2,
          3,
          4,
          5,
          6,
          7,
          8,
          9,
          10
         ],
         "y": [
          0.4083303036326069,
          0.32724764539023576,
          0.2843607184240374,
          0.2569464051117331,
          0.2332753225908441,
          0.22083308181520236,
          0.20482205612174534,
          0.1940487620689101,
          0.18162650400299138,
          0.17407848635467432
         ]
        }
       ],
       "layout": {
        "font": {
         "color": "white",
         "size": 18
        },
        "paper_bgcolor": "rgba(0,0,0,0)",
        "plot_bgcolor": "rgba(0,0,0,0)",
        "template": {
         "data": {
          "bar": [
           {
            "error_x": {
             "color": "#2a3f5f"
            },
            "error_y": {
             "color": "#2a3f5f"
            },
            "marker": {
             "line": {
              "color": "#E5ECF6",
              "width": 0.5
             },
             "pattern": {
              "fillmode": "overlay",
              "size": 10,
              "solidity": 0.2
             }
            },
            "type": "bar"
           }
          ],
          "barpolar": [
           {
            "marker": {
             "line": {
              "color": "#E5ECF6",
              "width": 0.5
             },
             "pattern": {
              "fillmode": "overlay",
              "size": 10,
              "solidity": 0.2
             }
            },
            "type": "barpolar"
           }
          ],
          "carpet": [
           {
            "aaxis": {
             "endlinecolor": "#2a3f5f",
             "gridcolor": "white",
             "linecolor": "white",
             "minorgridcolor": "white",
             "startlinecolor": "#2a3f5f"
            },
            "baxis": {
             "endlinecolor": "#2a3f5f",
             "gridcolor": "white",
             "linecolor": "white",
             "minorgridcolor": "white",
             "startlinecolor": "#2a3f5f"
            },
            "type": "carpet"
           }
          ],
          "choropleth": [
           {
            "colorbar": {
             "outlinewidth": 0,
             "ticks": ""
            },
            "type": "choropleth"
           }
          ],
          "contour": [
           {
            "colorbar": {
             "outlinewidth": 0,
             "ticks": ""
            },
            "colorscale": [
             [
              0,
              "#0d0887"
             ],
             [
              0.1111111111111111,
              "#46039f"
             ],
             [
              0.2222222222222222,
              "#7201a8"
             ],
             [
              0.3333333333333333,
              "#9c179e"
             ],
             [
              0.4444444444444444,
              "#bd3786"
             ],
             [
              0.5555555555555556,
              "#d8576b"
             ],
             [
              0.6666666666666666,
              "#ed7953"
             ],
             [
              0.7777777777777778,
              "#fb9f3a"
             ],
             [
              0.8888888888888888,
              "#fdca26"
             ],
             [
              1,
              "#f0f921"
             ]
            ],
            "type": "contour"
           }
          ],
          "contourcarpet": [
           {
            "colorbar": {
             "outlinewidth": 0,
             "ticks": ""
            },
            "type": "contourcarpet"
           }
          ],
          "heatmap": [
           {
            "colorbar": {
             "outlinewidth": 0,
             "ticks": ""
            },
            "colorscale": [
             [
              0,
              "#0d0887"
             ],
             [
              0.1111111111111111,
              "#46039f"
             ],
             [
              0.2222222222222222,
              "#7201a8"
             ],
             [
              0.3333333333333333,
              "#9c179e"
             ],
             [
              0.4444444444444444,
              "#bd3786"
             ],
             [
              0.5555555555555556,
              "#d8576b"
             ],
             [
              0.6666666666666666,
              "#ed7953"
             ],
             [
              0.7777777777777778,
              "#fb9f3a"
             ],
             [
              0.8888888888888888,
              "#fdca26"
             ],
             [
              1,
              "#f0f921"
             ]
            ],
            "type": "heatmap"
           }
          ],
          "heatmapgl": [
           {
            "colorbar": {
             "outlinewidth": 0,
             "ticks": ""
            },
            "colorscale": [
             [
              0,
              "#0d0887"
             ],
             [
              0.1111111111111111,
              "#46039f"
             ],
             [
              0.2222222222222222,
              "#7201a8"
             ],
             [
              0.3333333333333333,
              "#9c179e"
             ],
             [
              0.4444444444444444,
              "#bd3786"
             ],
             [
              0.5555555555555556,
              "#d8576b"
             ],
             [
              0.6666666666666666,
              "#ed7953"
             ],
             [
              0.7777777777777778,
              "#fb9f3a"
             ],
             [
              0.8888888888888888,
              "#fdca26"
             ],
             [
              1,
              "#f0f921"
             ]
            ],
            "type": "heatmapgl"
           }
          ],
          "histogram": [
           {
            "marker": {
             "pattern": {
              "fillmode": "overlay",
              "size": 10,
              "solidity": 0.2
             }
            },
            "type": "histogram"
           }
          ],
          "histogram2d": [
           {
            "colorbar": {
             "outlinewidth": 0,
             "ticks": ""
            },
            "colorscale": [
             [
              0,
              "#0d0887"
             ],
             [
              0.1111111111111111,
              "#46039f"
             ],
             [
              0.2222222222222222,
              "#7201a8"
             ],
             [
              0.3333333333333333,
              "#9c179e"
             ],
             [
              0.4444444444444444,
              "#bd3786"
             ],
             [
              0.5555555555555556,
              "#d8576b"
             ],
             [
              0.6666666666666666,
              "#ed7953"
             ],
             [
              0.7777777777777778,
              "#fb9f3a"
             ],
             [
              0.8888888888888888,
              "#fdca26"
             ],
             [
              1,
              "#f0f921"
             ]
            ],
            "type": "histogram2d"
           }
          ],
          "histogram2dcontour": [
           {
            "colorbar": {
             "outlinewidth": 0,
             "ticks": ""
            },
            "colorscale": [
             [
              0,
              "#0d0887"
             ],
             [
              0.1111111111111111,
              "#46039f"
             ],
             [
              0.2222222222222222,
              "#7201a8"
             ],
             [
              0.3333333333333333,
              "#9c179e"
             ],
             [
              0.4444444444444444,
              "#bd3786"
             ],
             [
              0.5555555555555556,
              "#d8576b"
             ],
             [
              0.6666666666666666,
              "#ed7953"
             ],
             [
              0.7777777777777778,
              "#fb9f3a"
             ],
             [
              0.8888888888888888,
              "#fdca26"
             ],
             [
              1,
              "#f0f921"
             ]
            ],
            "type": "histogram2dcontour"
           }
          ],
          "mesh3d": [
           {
            "colorbar": {
             "outlinewidth": 0,
             "ticks": ""
            },
            "type": "mesh3d"
           }
          ],
          "parcoords": [
           {
            "line": {
             "colorbar": {
              "outlinewidth": 0,
              "ticks": ""
             }
            },
            "type": "parcoords"
           }
          ],
          "pie": [
           {
            "automargin": true,
            "type": "pie"
           }
          ],
          "scatter": [
           {
            "marker": {
             "colorbar": {
              "outlinewidth": 0,
              "ticks": ""
             }
            },
            "type": "scatter"
           }
          ],
          "scatter3d": [
           {
            "line": {
             "colorbar": {
              "outlinewidth": 0,
              "ticks": ""
             }
            },
            "marker": {
             "colorbar": {
              "outlinewidth": 0,
              "ticks": ""
             }
            },
            "type": "scatter3d"
           }
          ],
          "scattercarpet": [
           {
            "marker": {
             "colorbar": {
              "outlinewidth": 0,
              "ticks": ""
             }
            },
            "type": "scattercarpet"
           }
          ],
          "scattergeo": [
           {
            "marker": {
             "colorbar": {
              "outlinewidth": 0,
              "ticks": ""
             }
            },
            "type": "scattergeo"
           }
          ],
          "scattergl": [
           {
            "marker": {
             "colorbar": {
              "outlinewidth": 0,
              "ticks": ""
             }
            },
            "type": "scattergl"
           }
          ],
          "scattermapbox": [
           {
            "marker": {
             "colorbar": {
              "outlinewidth": 0,
              "ticks": ""
             }
            },
            "type": "scattermapbox"
           }
          ],
          "scatterpolar": [
           {
            "marker": {
             "colorbar": {
              "outlinewidth": 0,
              "ticks": ""
             }
            },
            "type": "scatterpolar"
           }
          ],
          "scatterpolargl": [
           {
            "marker": {
             "colorbar": {
              "outlinewidth": 0,
              "ticks": ""
             }
            },
            "type": "scatterpolargl"
           }
          ],
          "scatterternary": [
           {
            "marker": {
             "colorbar": {
              "outlinewidth": 0,
              "ticks": ""
             }
            },
            "type": "scatterternary"
           }
          ],
          "surface": [
           {
            "colorbar": {
             "outlinewidth": 0,
             "ticks": ""
            },
            "colorscale": [
             [
              0,
              "#0d0887"
             ],
             [
              0.1111111111111111,
              "#46039f"
             ],
             [
              0.2222222222222222,
              "#7201a8"
             ],
             [
              0.3333333333333333,
              "#9c179e"
             ],
             [
              0.4444444444444444,
              "#bd3786"
             ],
             [
              0.5555555555555556,
              "#d8576b"
             ],
             [
              0.6666666666666666,
              "#ed7953"
             ],
             [
              0.7777777777777778,
              "#fb9f3a"
             ],
             [
              0.8888888888888888,
              "#fdca26"
             ],
             [
              1,
              "#f0f921"
             ]
            ],
            "type": "surface"
           }
          ],
          "table": [
           {
            "cells": {
             "fill": {
              "color": "#EBF0F8"
             },
             "line": {
              "color": "white"
             }
            },
            "header": {
             "fill": {
              "color": "#C8D4E3"
             },
             "line": {
              "color": "white"
             }
            },
            "type": "table"
           }
          ]
         },
         "layout": {
          "annotationdefaults": {
           "arrowcolor": "#2a3f5f",
           "arrowhead": 0,
           "arrowwidth": 1
          },
          "autotypenumbers": "strict",
          "coloraxis": {
           "colorbar": {
            "outlinewidth": 0,
            "ticks": ""
           }
          },
          "colorscale": {
           "diverging": [
            [
             0,
             "#8e0152"
            ],
            [
             0.1,
             "#c51b7d"
            ],
            [
             0.2,
             "#de77ae"
            ],
            [
             0.3,
             "#f1b6da"
            ],
            [
             0.4,
             "#fde0ef"
            ],
            [
             0.5,
             "#f7f7f7"
            ],
            [
             0.6,
             "#e6f5d0"
            ],
            [
             0.7,
             "#b8e186"
            ],
            [
             0.8,
             "#7fbc41"
            ],
            [
             0.9,
             "#4d9221"
            ],
            [
             1,
             "#276419"
            ]
           ],
           "sequential": [
            [
             0,
             "#0d0887"
            ],
            [
             0.1111111111111111,
             "#46039f"
            ],
            [
             0.2222222222222222,
             "#7201a8"
            ],
            [
             0.3333333333333333,
             "#9c179e"
            ],
            [
             0.4444444444444444,
             "#bd3786"
            ],
            [
             0.5555555555555556,
             "#d8576b"
            ],
            [
             0.6666666666666666,
             "#ed7953"
            ],
            [
             0.7777777777777778,
             "#fb9f3a"
            ],
            [
             0.8888888888888888,
             "#fdca26"
            ],
            [
             1,
             "#f0f921"
            ]
           ],
           "sequentialminus": [
            [
             0,
             "#0d0887"
            ],
            [
             0.1111111111111111,
             "#46039f"
            ],
            [
             0.2222222222222222,
             "#7201a8"
            ],
            [
             0.3333333333333333,
             "#9c179e"
            ],
            [
             0.4444444444444444,
             "#bd3786"
            ],
            [
             0.5555555555555556,
             "#d8576b"
            ],
            [
             0.6666666666666666,
             "#ed7953"
            ],
            [
             0.7777777777777778,
             "#fb9f3a"
            ],
            [
             0.8888888888888888,
             "#fdca26"
            ],
            [
             1,
             "#f0f921"
            ]
           ]
          },
          "colorway": [
           "#636efa",
           "#EF553B",
           "#00cc96",
           "#ab63fa",
           "#FFA15A",
           "#19d3f3",
           "#FF6692",
           "#B6E880",
           "#FF97FF",
           "#FECB52"
          ],
          "font": {
           "color": "#2a3f5f"
          },
          "geo": {
           "bgcolor": "white",
           "lakecolor": "white",
           "landcolor": "#E5ECF6",
           "showlakes": true,
           "showland": true,
           "subunitcolor": "white"
          },
          "hoverlabel": {
           "align": "left"
          },
          "hovermode": "closest",
          "mapbox": {
           "style": "light"
          },
          "paper_bgcolor": "white",
          "plot_bgcolor": "#E5ECF6",
          "polar": {
           "angularaxis": {
            "gridcolor": "white",
            "linecolor": "white",
            "ticks": ""
           },
           "bgcolor": "#E5ECF6",
           "radialaxis": {
            "gridcolor": "white",
            "linecolor": "white",
            "ticks": ""
           }
          },
          "scene": {
           "xaxis": {
            "backgroundcolor": "#E5ECF6",
            "gridcolor": "white",
            "gridwidth": 2,
            "linecolor": "white",
            "showbackground": true,
            "ticks": "",
            "zerolinecolor": "white"
           },
           "yaxis": {
            "backgroundcolor": "#E5ECF6",
            "gridcolor": "white",
            "gridwidth": 2,
            "linecolor": "white",
            "showbackground": true,
            "ticks": "",
            "zerolinecolor": "white"
           },
           "zaxis": {
            "backgroundcolor": "#E5ECF6",
            "gridcolor": "white",
            "gridwidth": 2,
            "linecolor": "white",
            "showbackground": true,
            "ticks": "",
            "zerolinecolor": "white"
           }
          },
          "shapedefaults": {
           "line": {
            "color": "#2a3f5f"
           }
          },
          "ternary": {
           "aaxis": {
            "gridcolor": "white",
            "linecolor": "white",
            "ticks": ""
           },
           "baxis": {
            "gridcolor": "white",
            "linecolor": "white",
            "ticks": ""
           },
           "bgcolor": "#E5ECF6",
           "caxis": {
            "gridcolor": "white",
            "linecolor": "white",
            "ticks": ""
           }
          },
          "title": {
           "x": 0.05
          },
          "xaxis": {
           "automargin": true,
           "gridcolor": "white",
           "linecolor": "white",
           "ticks": "",
           "title": {
            "standoff": 15
           },
           "zerolinecolor": "white",
           "zerolinewidth": 2
          },
          "yaxis": {
           "automargin": true,
           "gridcolor": "white",
           "linecolor": "white",
           "ticks": "",
           "title": {
            "standoff": 15
           },
           "zerolinecolor": "white",
           "zerolinewidth": 2
          }
         }
        },
        "title": {
         "text": "Training and validation loss"
        },
        "xaxis": {
         "title": {
          "text": "Epochs"
         }
        },
        "yaxis": {
         "title": {
          "text": "Loss"
         }
        }
       }
      }
     },
     "metadata": {},
     "output_type": "display_data"
    }
   ],
   "source": [
    "plot_loss(train_loss, val_loss)"
   ]
  }
 ],
 "metadata": {
  "kernelspec": {
   "display_name": "Python 3.10.7 64-bit",
   "language": "python",
   "name": "python3"
  },
  "language_info": {
   "codemirror_mode": {
    "name": "ipython",
    "version": 3
   },
   "file_extension": ".py",
   "mimetype": "text/x-python",
   "name": "python",
   "nbconvert_exporter": "python",
   "pygments_lexer": "ipython3",
   "version": "3.10.7"
  },
  "orig_nbformat": 4,
  "vscode": {
   "interpreter": {
    "hash": "369f2c481f4da34e4445cda3fffd2e751bd1c4d706f27375911949ba6bb62e1c"
   }
  }
 },
 "nbformat": 4,
 "nbformat_minor": 2
}
