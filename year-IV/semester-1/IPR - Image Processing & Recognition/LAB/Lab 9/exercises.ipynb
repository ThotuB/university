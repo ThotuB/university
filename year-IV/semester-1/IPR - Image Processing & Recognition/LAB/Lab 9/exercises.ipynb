{
 "cells": [
  {
   "cell_type": "code",
   "execution_count": 1,
   "metadata": {},
   "outputs": [],
   "source": [
    "import torch\n",
    "from torch import nn"
   ]
  },
  {
   "attachments": {},
   "cell_type": "markdown",
   "metadata": {},
   "source": [
    "# Exercise 1"
   ]
  },
  {
   "attachments": {},
   "cell_type": "markdown",
   "metadata": {},
   "source": [
    "### Generate the following dataset: yi = sin(xi) cos(xi) + xi^3 + ∈, where E obeys a normal distribution with 0 mean and standard deviation 0.1. The number of training/testing examples is 30. Plot the prediction for this regression problem using Nadaraya-Watson kernel regression nonparametric attention model, and also plot the attention heatmap"
   ]
  },
  {
   "attachments": {},
   "cell_type": "markdown",
   "metadata": {},
   "source": [
    "## Data"
   ]
  },
  {
   "cell_type": "code",
   "execution_count": 2,
   "metadata": {},
   "outputs": [],
   "source": [
    "def f(x: torch.Tensor):\n",
    "    return torch.sin(x) * torch.cos(x) + x**3\n"
   ]
  },
  {
   "cell_type": "code",
   "execution_count": 11,
   "metadata": {},
   "outputs": [],
   "source": [
    "n_train = 30\n",
    "x_train, _ = torch.sort(torch.rand(n_train) * 30)"
   ]
  },
  {
   "cell_type": "code",
   "execution_count": 12,
   "metadata": {},
   "outputs": [],
   "source": [
    "eps = torch.normal(0, 0.1, size=(n_train,))\n",
    "y_train = f(x_train) + eps"
   ]
  },
  {
   "cell_type": "code",
   "execution_count": 13,
   "metadata": {},
   "outputs": [],
   "source": [
    "n_test = 30\n",
    "x_test = torch.arange(0, 30, 1)\n",
    "y_test = f(x_test)"
   ]
  },
  {
   "attachments": {},
   "cell_type": "markdown",
   "metadata": {},
   "source": [
    "## Plot"
   ]
  },
  {
   "cell_type": "code",
   "execution_count": 16,
   "metadata": {},
   "outputs": [],
   "source": [
    "from matplotlib import pyplot as plt\n",
    "\n",
    "\n",
    "def plot_kernel_reg(y_hat):\n",
    "    plt.plot(x_test, y_test, label='Truth')\n",
    "    plt.plot(x_test, y_hat, label='Pred')\n",
    "    plt.xlabel('x')\n",
    "    plt.ylabel('y')\n",
    "    plt.legend()\n",
    "    plt.plot(x_train, y_train, 'o', alpha=0.5);"
   ]
  },
  {
   "cell_type": "code",
   "execution_count": 17,
   "metadata": {},
   "outputs": [
    {
     "data": {
      "image/png": "[encoded data removed]",
      "text/plain": [
       "<Figure size 432x288 with 1 Axes>"
      ]
     },
     "metadata": {
      "needs_background": "light"
     },
     "output_type": "display_data"
    }
   ],
   "source": [
    "y_hat = torch.repeat_interleave(y_train.mean(), n_test)\n",
    "plot_kernel_reg(y_hat)"
   ]
  },
  {
   "cell_type": "markdown",
   "metadata": {},
   "source": []
  },
  {
   "attachments": {},
   "cell_type": "markdown",
   "metadata": {},
   "source": [
    "# Exercise 2"
   ]
  },
  {
   "attachments": {},
   "cell_type": "markdown",
   "metadata": {},
   "source": [
    "### Train an encoder and a decoder with attention mechanism for machine translation. The attention mechanism is similar to Bahdanau attention excepting the attention weight a that will be computed using the scaled dot-product attention. The dataset is the English-French dataset from the laboratory. The embedding size, number of hidden and the dropout probability is 16, 20 and 50%, respectively. Train the model for 200 epochs and plot the training loss.\n"
   ]
  },
  {
   "attachments": {},
   "cell_type": "markdown",
   "metadata": {},
   "source": [
    "## Data"
   ]
  },
  {
   "cell_type": "code",
   "execution_count": 36,
   "metadata": {},
   "outputs": [],
   "source": [
    "import collections\n",
    "import os\n",
    "from typing import Literal\n",
    "import zipfile\n",
    "\n",
    "import requests\n",
    "\n",
    "def download(url: str) -> str:\n",
    "    \"\"\"Download a file, return the local filename.\"\"\"\n",
    "    file_path = '../data/' + url.split('/')[-1]\n",
    "    if os.path.exists(file_path):\n",
    "        return file_path\n",
    "    \n",
    "    print(f'Downloading {file_path} from {url}...')\n",
    "    res = requests.get(url, stream=True, verify=True)\n",
    "    with open(file_path, 'wb') as f:\n",
    "        f.write(res.content)\n",
    "    return file_path\n",
    "\n",
    "def download_extract(url: str) -> str:\n",
    "    \"\"\"Download and extract a zip file.\"\"\"\n",
    "    file_path = download(url)\n",
    "    fp = zipfile.ZipFile(file_path, 'r')\n",
    "    \n",
    "    data_folder_path = os.path.dirname(file_path)\n",
    "    fp.extractall(data_folder_path)\n",
    "    \n",
    "    extracted_folder_path = os.path.splitext(file_path)[0]\n",
    "    return extracted_folder_path\n",
    "\n",
    "def read_data_nmt() -> str:\n",
    "    \"\"\"Load the English-French dataset.\"\"\"\n",
    "    folder = download_extract('http://d2l-data.s3-accelerate.amazonaws.com/fra-eng.zip')\n",
    "    with open(folder + '/fra.txt', 'r') as f:\n",
    "        return f.read()\n"
   ]
  },
  {
   "cell_type": "code",
   "execution_count": 60,
   "metadata": {},
   "outputs": [],
   "source": [
    "from torch.utils.data import DataLoader\n",
    "\n",
    "class Vocab:\n",
    "    \"\"\"Vocabulary for text.\"\"\"\n",
    "    def __init__(self, tokens: list[str]=[], min_freq=0, reserved_tokens: list[str]=[]):\n",
    "        # Sort according to frequencies\n",
    "        counter = collections.Counter(tokens)\n",
    "        self._token_freqs = sorted(counter.items(), key=lambda x: x[1],\n",
    "                                   reverse=True)\n",
    "        # The index for the unknown token is 0\n",
    "        self.idx_to_token = ['<unk>'] + reserved_tokens + [token for token, freq in self._token_freqs if freq >= min_freq]\n",
    "        self.token_to_idx =  {token: idx for idx, token in enumerate(self.idx_to_token)}\n",
    "\n",
    "    def __len__(self) -> int:\n",
    "        return len(self.idx_to_token)\n",
    "\n",
    "    def __getitem__(self, tokens: str | list[str]) -> int | list[int]:\n",
    "        if not isinstance(tokens, (list, tuple)):\n",
    "            return self.token_to_idx.get(tokens, self.unk)\n",
    "        return [self.token_to_idx.get(token, self.unk) for token in tokens]\n",
    "\n",
    "    def to_tokens(self, indices: int | list[int]) -> str | list[str]:\n",
    "        if not isinstance(indices, (list, tuple)):\n",
    "            return self.idx_to_token[indices]\n",
    "        return [self.idx_to_token[index] for index in indices]\n",
    "\n",
    "    @property\n",
    "    def unk(self) -> Literal[0]:  # Index for the unknown token\n",
    "        return 0\n",
    "\n",
    "    @property\n",
    "    def token_freqs(self) -> list[tuple[str, int]]:  # Token frequencies\n",
    "        return self._token_freqs\n",
    "\n",
    "def preprocess_nmt(text: str) -> str:\n",
    "    \"\"\"Preprocess the English-French dataset.\"\"\"\n",
    "    def no_space(char, prev_char):\n",
    "        return char in set(',.!?') and prev_char != ' '\n",
    "\n",
    "    # Replace non-breaking space with space, and convert uppercase letters to\n",
    "    # lowercase ones\n",
    "    text = text.replace('\\u202f', ' ').replace('\\xa0', ' ').lower()\n",
    "    # Insert space between words and punctuation marks\n",
    "    out = [' ' + char if i > 0 and no_space(char, text[i - 1]) else char\n",
    "           for i, char in enumerate(text)]\n",
    "    return ''.join(out)\n",
    "\n",
    "def tokenize_nmt(text: str, num_examples: int):\n",
    "    \"\"\"Tokenize the English-French dataset.\"\"\"\n",
    "    source: list[str] = []\n",
    "    target: list[str] = []\n",
    "    for i, line in enumerate(text.split('\\n')):\n",
    "        if i > num_examples:\n",
    "            break\n",
    "        parts = line.split('\\t')\n",
    "        if len(parts) == 2:\n",
    "            source.extend(parts[0].split(' '))\n",
    "            target.extend(parts[1].split(' '))\n",
    "    return source, target\n",
    "\n",
    "def truncate_pad(line, num_steps: int, padding_token):\n",
    "    \"\"\"Truncate or pad sequences.\"\"\"\n",
    "    if len(line) > num_steps:\n",
    "        return line[:num_steps]  # Truncate\n",
    "    return line + [padding_token] * (num_steps - len(line))  # Pad\n",
    "\n",
    "def build_array_nmt(lines: list[str], vocab: Vocab, num_steps: int):\n",
    "    \"\"\"Transform text sequences of machine translation into mini-batches.\"\"\"\n",
    "    lines = [vocab[l] for l in lines]\n",
    "    print(lines)\n",
    "    lines = [l + [vocab['<eos>']] for l in lines]\n",
    "    \n",
    "    array = torch.tensor([truncate_pad(l, num_steps, vocab['<pad>']) for l in lines])\n",
    "    \n",
    "    valid_len = (array != vocab['<pad>']).type(torch.int32).sum(1)\n",
    "    \n",
    "    return array, valid_len\n",
    "\n",
    "def load_array(data_arrays, batch_size, is_train=True):\n",
    "    \"\"\"Construct a PyTorch data iterator.\"\"\"\n",
    "    dataset = torch.utils.data.TensorDataset(*data_arrays)\n",
    "    return DataLoader(dataset, batch_size, shuffle=is_train)\n",
    "\n",
    "def load_data_nmt(batch_size: int, num_steps: int, num_examples=600):\n",
    "    \"\"\"Return the iterator and the vocabularies of the translation dataset.\"\"\"\n",
    "    text = preprocess_nmt(read_data_nmt())\n",
    "    source, target = tokenize_nmt(text, num_examples)\n",
    "    \n",
    "    src_vocab = Vocab(source, min_freq=2, reserved_tokens=['<pad>', '<bos>', '<eos>'])\n",
    "    tgt_vocab = Vocab(target, min_freq=2, reserved_tokens=['<pad>', '<bos>', '<eos>'])\n",
    "    \n",
    "    src_array, src_valid_len = build_array_nmt(source, src_vocab, num_steps)\n",
    "    tgt_array, tgt_valid_len = build_array_nmt(target, tgt_vocab, num_steps)\n",
    "    \n",
    "    data_arrays = (src_array, src_valid_len, tgt_array, tgt_valid_len)\n",
    "    data_iter = load_array(data_arrays, batch_size)\n",
    "    return data_iter, src_vocab, tgt_vocab"
   ]
  },
  {
   "cell_type": "code",
   "execution_count": 55,
   "metadata": {},
   "outputs": [],
   "source": [
    "text = preprocess_nmt(read_data_nmt())\n",
    "source, target = tokenize_nmt(text, 654)"
   ]
  },
  {
   "cell_type": "code",
   "execution_count": 56,
   "metadata": {},
   "outputs": [],
   "source": [
    "src_vocab = Vocab(source, min_freq=2, reserved_tokens=['<pad>', '<bos>', '<eos>'])\n",
    "tgt_vocab = Vocab(target, min_freq=2, reserved_tokens=['<pad>', '<bos>', '<eos>'])"
   ]
  },
  {
   "cell_type": "code",
   "execution_count": 61,
   "metadata": {},
   "outputs": [
    {
     "name": "stdout",
     "output_type": "stream",
     "text": [
      "[9, 4, 119, 4, 59, 6, 59, 6, 45, 11, 0, 6, 73, 6, 39, 6, 0, 4, 64, 6, 64, 6, 64, 6, 120, 6, 120, 6, 9, 22, 4, 9, 22, 4, 9, 22, 4, 121, 6, 121, 6, 5, 122, 4, 5, 33, 4, 5, 23, 6, 5, 23, 6, 5, 23, 4, 0, 26, 6, 123, 6, 123, 6, 74, 6, 74, 6, 74, 6, 74, 6, 13, 14, 4, 9, 75, 4, 9, 75, 4, 9, 75, 4, 34, 8, 6, 34, 8, 6, 34, 8, 11, 34, 8, 11, 34, 8, 11, 124, 46, 4, 124, 46, 4, 96, 12, 4, 96, 12, 4, 5, 97, 4, 5, 97, 4, 5, 125, 4, 5, 76, 4, 5, 76, 4, 5, 19, 4, 5, 126, 4, 7, 0, 4, 7, 77, 4, 7, 77, 4, 0, 4, 26, 35, 6, 26, 35, 6, 26, 35, 6, 26, 35, 6, 26, 35, 6, 26, 35, 6, 26, 35, 6, 26, 35, 6, 26, 35, 6, 98, 11, 98, 11, 98, 11, 0, 4, 17, 33, 4, 17, 23, 4, 17, 23, 4, 17, 23, 4, 17, 23, 4, 78, 10, 4, 0, 6, 15, 47, 4, 15, 47, 4, 15, 47, 4, 15, 65, 4, 15, 36, 4, 15, 36, 4, 15, 36, 4, 15, 36, 4, 15, 36, 4, 15, 36, 4, 15, 0, 4, 15, 29, 4, 15, 29, 4, 15, 29, 4, 15, 29, 4, 15, 29, 4, 15, 29, 4, 0, 8, 4, 48, 12, 4, 48, 12, 4, 48, 25, 4, 48, 25, 4, 16, 46, 4, 16, 46, 4, 16, 46, 4, 16, 46, 4, 16, 22, 6, 16, 22, 4, 16, 22, 4, 16, 22, 4, 79, 8, 6, 79, 8, 6, 79, 8, 6, 79, 8, 6, 13, 10, 4, 13, 37, 6, 13, 37, 6, 13, 37, 6, 13, 37, 4, 13, 37, 4, 9, 30, 6, 9, 30, 6, 9, 30, 4, 9, 30, 4, 9, 30, 4, 9, 30, 4, 9, 30, 4, 9, 30, 4, 9, 30, 4, 9, 30, 4, 9, 60, 4, 9, 60, 4, 9, 60, 4, 9, 60, 4, 9, 127, 4, 9, 127, 4, 0, 6, 80, 22, 6, 80, 22, 6, 80, 22, 4, 80, 22, 4, 49, 99, 4, 49, 99, 4, 49, 128, 4, 39, 12, 6, 39, 12, 4, 39, 12, 4, 39, 25, 4, 39, 25, 4, 40, 8, 6, 40, 22, 4, 96, 10, 4, 5, 129, 4, 5, 0, 4, 5, 130, 4, 5, 130, 4, 5, 66, 4, 5, 0, 4, 5, 0, 4, 5, 0, 4, 5, 131, 4, 5, 131, 4, 5, 132, 4, 5, 132, 4, 5, 100, 4, 5, 100, 4, 5, 100, 4, 5, 0, 4, 81, 9, 4, 7, 10, 4, 7, 67, 4, 7, 67, 4, 7, 0, 4, 7, 101, 6, 7, 101, 6, 7, 133, 4, 7, 134, 4, 7, 0, 4, 7, 102, 4, 7, 102, 4, 27, 12, 6, 135, 25, 4, 135, 25, 4, 82, 8, 4, 82, 8, 4, 103, 12, 4, 103, 12, 4, 12, 136, 137, 4, 138, 14, 4, 138, 14, 4, 0, 6, 122, 20, 4, 139, 12, 4, 139, 12, 4, 68, 14, 6, 68, 14, 6, 68, 14, 6, 68, 14, 6, 68, 14, 6, 104, 0, 4, 140, 8, 4, 140, 8, 4, 83, 12, 4, 83, 12, 4, 10, 23, 4, 69, 14, 6, 69, 14, 6, 69, 14, 6, 69, 14, 4, 69, 14, 4, 141, 14, 4, 141, 14, 4, 17, 125, 4, 17, 19, 4, 17, 19, 4, 17, 19, 4, 17, 19, 4, 17, 19, 4, 17, 19, 4, 17, 19, 4, 17, 19, 4, 17, 19, 4, 17, 19, 4, 0, 4, 45, 23, 11, 45, 23, 11, 20, 59, 4, 18, 5, 67, 11, 18, 5, 67, 11, 78, 142, 4, 78, 142, 4, 31, 41, 6, 31, 41, 6, 31, 41, 4, 31, 41, 4, 31, 41, 4, 31, 41, 4, 15, 50, 143, 4, 15, 50, 143, 4, 15, 105, 4, 15, 105, 4, 15, 105, 4, 144, 12, 4, 144, 12, 4, 48, 10, 4, 48, 10, 4, 0, 14, 6, 65, 41, 6, 0, 51, 4, 66, 22, 4, 66, 22, 4, 66, 22, 4, 66, 22, 4, 145, 10, 4, 145, 10, 4, 146, 21, 4, 146, 21, 4, 13, 28, 6, 13, 28, 4, 13, 28, 4, 13, 28, 4, 13, 28, 4, 13, 19, 6, 13, 19, 6, 13, 19, 6, 13, 0, 6, 9, 84, 4, 9, 84, 4, 9, 84, 4, 9, 84, 4, 52, 53, 6, 52, 53, 6, 52, 53, 6, 42, 51, 4, 42, 51, 4, 106, 32, 4, 106, 32, 4, 49, 0, 4, 61, 102, 4, 39, 10, 4, 39, 10, 4, 119, 136, 0, 4, 43, 0, 6, 43, 0, 11, 43, 29, 6, 43, 29, 6, 43, 29, 6, 43, 29, 6, 0, 12, 4, 85, 14, 4, 85, 14, 4, 85, 14, 4, 85, 14, 4, 5, 18, 67, 4, 5, 54, 77, 4, 5, 54, 77, 4, 5, 54, 8, 4, 5, 54, 8, 4, 5, 0, 4, 5, 0, 4, 5, 13, 8, 4, 5, 34, 8, 4, 5, 34, 8, 4, 5, 0, 4, 5, 0, 4, 5, 0, 4, 5, 0, 4, 5, 0, 4, 5, 0, 4, 5, 147, 4, 5, 147, 4, 5, 148, 4, 5, 148, 4, 5, 149, 4, 5, 149, 4, 5, 24, 8, 4, 5, 24, 8, 4, 5, 0, 4, 5, 150, 4, 5, 150, 4, 5, 0, 4, 5, 55, 8, 4, 5, 55, 8, 4, 5, 55, 8, 4, 81, 0, 4, 81, 33, 4, 81, 33, 4, 7, 31, 4, 7, 31, 4, 7, 0, 4, 7, 107, 4, 7, 107, 4, 7, 47, 4, 7, 151, 4, 7, 65, 4, 7, 65, 4, 7, 152, 4, 7, 152, 4, 7, 0, 4, 7, 36, 4, 7, 36, 4, 7, 36, 4, 7, 0, 4, 7, 86, 4, 7, 86, 4, 7, 86, 4, 7, 108, 6, 7, 108, 4, 7, 108, 4, 7, 153, 4, 7, 153, 4, 7, 154, 4, 7, 154, 4, 7, 0, 4, 7, 60, 4, 7, 109, 4, 7, 38, 4, 7, 38, 4, 7, 38, 4, 7, 38, 4, 7, 110, 4, 7, 110, 4, 7, 155, 4, 7, 0, 4, 7, 156, 4, 7, 62, 4, 7, 62, 4, 7, 62, 4, 7, 62, 4, 7, 0, 4, 7, 0, 4, 7, 157, 4, 7, 157, 4, 7, 158, 4, 7, 158, 4, 7, 159, 4, 7, 160, 4, 7, 160, 4, 161, 23, 4, 161, 23, 4, 8, 0, 4, 8, 0, 4, 8, 162, 4, 8, 162, 4, 27, 10, 4, 27, 32, 4, 27, 32, 4, 27, 163, 4, 27, 163, 4, 27, 164, 4, 27, 164, 4, 27, 0, 4, 27, 0, 4, 27, 134, 4, 82, 37, 6, 82, 37, 4, 103, 10, 4, 70, 8, 4, 70, 8, 4, 70, 12, 4, 70, 25, 4, 70, 25, 4, 165, 9, 6, 165, 9, 4, 166, 37, 6, 166, 37, 6, 167, 12, 4, 167, 12, 4, 111, 5, 9, 11, 111, 5, 9, 11, 111, 5, 9, 11, 168, 10, 4, 168, 10, 4, 112, 113, 4, 112, 87, 4, 112, 128, 4, 71, 28, 6, 71, 28, 6, 71, 28, 4, 71, 63, 4, 71, 63, 4, 169, 14, 6, 169, 14, 6, 64, 10, 4, 64, 10, 4, 88, 8, 4, 88, 8, 4, 88, 8, 4, 88, 8, 4, 83, 10, 4, 83, 10, 4, 114, 6, 114, 6, 114, 6, 89, 23, 4, 89, 23, 4, 89, 23, 4, 89, 23, 4, 10, 113, 4, 10, 87, 4, 10, 87, 4, 10, 170, 4, 10, 76, 4, 10, 76, 4, 10, 0, 4, 10, 0, 4, 10, 19, 4, 10, 126, 4, 137, 109, 4, 171, 12, 4, 171, 12, 4, 33, 0, 4, 33, 172, 4, 33, 172, 4, 33, 21, 4, 33, 21, 4, 55, 21, 4, 55, 21, 4, 55, 21, 4, 55, 21, 4, 173, 10, 4, 173, 10, 4, 90, 12, 4, 90, 12, 4, 90, 25, 4, 90, 25, 4, 17, 129, 4, 0, 9, 4, 91, 174, 11, 91, 174, 11, 91, 32, 6, 91, 32, 6, 45, 113, 11, 45, 87, 11, 45, 97, 11, 45, 99, 11, 0, 49, 11, 175, 12, 4, 175, 12, 4, 20, 19, 4, 20, 19, 4, 0, 20, 4, 0, 4, 73, 6, 18, 5, 109, 11, 0, 12, 4, 15, 176, 4, 15, 176, 4, 0, 0, 4, 0, 20, 4, 48, 60, 6, 47, 28, 6, 47, 28, 4, 72, 17, 9, 11, 72, 17, 9, 11, 72, 17, 9, 11, 115, 10, 4, 115, 10, 4, 115, 51, 4, 16, 31, 4, 16, 31, 4, 16, 63, 4, 16, 63, 4, 16, 56, 6, 16, 56, 6, 16, 56, 4, 16, 56, 4, 16, 56, 4, 16, 56, 4, 16, 56, 4, 16, 177, 4, 16, 177, 4, 65, 28, 4, 54, 5, 116, 11, 54, 5, 116, 11, 54, 5, 116, 11, 0, 8, 75, 4, 178, 179, 4, 178, 179, 4, 57, 78, 4, 57, 0, 4, 57, 180, 4, 57, 180, 4, 57, 0, 4, 57, 59, 4, 57, 59, 4, 181, 12, 4, 181, 12, 4, 0, 6, 92, 21, 4, 92, 21, 4, 92, 21, 4, 92, 21, 4, 117, 12, 4, 117, 25, 4, 117, 25, 4, 58, 8, 6, 58, 8, 6, 58, 8, 6, 58, 8, 6, 58, 8, 4, 58, 8, 4, 58, 8, 4, 13, 50, 53, 4, 13, 50, 53, 4, 13, 50, 53, 4, 13, 50, 53, 4, 13, 182, 4, 13, 182, 4, 9, 13, 8, 4, 9, 13, 8, 4, 9, 0, 4, 9, 183, 184, 4, 9, 183, 184, 4, 52, 185, 4, 52, 185, 4, 42, 93, 4, 42, 93, 4, 42, 93, 4, 42, 93, 4, 42, 21, 4, 42, 21, 4, 0, 41, 4, 49, 186, 133, 4, 49, 186, 0, 4, 61, 50, 0, 4, 61, 52, 4, 61, 38, 4, 61, 155, 4, 61, 0, 4, 63, 5, 18, 4, 0, 0, 4, 40, 73, 4, 40, 73, 4, 40, 21, 4, 40, 21, 4, 40, 21, 4, 40, 21, 4, 43, 0, 6, 43, 0, 6, 187, 10, 11, 187, 10, 11, 5, 18, 107, 4, 5, 18, 47, 4, 5, 18, 151, 4, 5, 18, 86, 4, 5, 18, 52, 4, 5, 18, 63, 4, 5, 18, 38, 4, 5, 18, 38, 4, 5, 18, 38, 4, 5, 18, 38, 4, 5, 18, 110, 4, 5, 18, 156, 4, 5, 18, 62, 4, 5, 18, 62, 4, 5, 18, 159, 4, 5, 94, 20, 4, 5, 94, 20, 4, 5, 94, 20, 4, 5, 94, 20, 4, 5, 72, 59, 4, 5, 72, 0, 4, 5, 118, 4, 5, 118, 4, 5, 118, 4, 5, 0, 4, 5, 0, 14, 4, 5, 188, 46, 4, 5, 188, 14, 4, 5, 34, 189, 4, 5, 34, 189, 4, 5, 95, 32, 4, 5, 95, 32, 4, 5, 95, 32, 4, 5, 95, 32, 4, 5, 0, 8, 4, 5, 106, 8, 4, 5, 101, 10, 4, 5, 0, 104, 4, 5, 190, 4, 5, 190, 4, 5, 0, 4, 5, 170, 8, 4, 5, 0, 8, 4, 5, 19, 8, 4, 5, 191, 8, 6, 5, 191, 8, 4, 5, 192, 8, 6, 5, 192, 8, 4, 5, 44, 9, 4, 5, 44, 9, 4, 5, 44, 9, 4, 5, 44, 9, 4, 5, 44, 9, 4, 5, 44, 9, 4, 5, 44, 9, 4, 5, 44, 9, 4, 5, 193, 8, 4, 5, 193, 8, 4, 5, 0, 4, 5, 0, 4, 5, 0, 4, 5, 194, 4, 5, 194, 4, 5, 0, 4, 5, 195, 26, 4, 5, 195, 104, 4, 5, 24, 51, 4, 5, 24, 51, 4, 5, 24, 51, 4, 5, 24, 196, 4, 5, 24, 196, 4, 5, 24, 20, 4, 5, 24, 20, 4, 5, 24, 20, 4, 5, 24, 20, 4, 5, 24, 20, 4, 5, 24, 20, 4, 5, 24, 20, 4, 5, 24, 20, 4]\n"
     ]
    },
    {
     "ename": "TypeError",
     "evalue": "unsupported operand type(s) for +: 'int' and 'list'",
     "output_type": "error",
     "traceback": [
      "\u001b[1;31m---------------------------------------------------------------------------\u001b[0m",
      "\u001b[1;31mTypeError\u001b[0m                                 Traceback (most recent call last)",
      "\u001b[1;32m~\\AppData\\Local\\Temp/ipykernel_23408/3363776755.py\u001b[0m in \u001b[0;36m<module>\u001b[1;34m\u001b[0m\n\u001b[1;32m----> 1\u001b[1;33m \u001b[0msrc_array\u001b[0m\u001b[1;33m,\u001b[0m \u001b[0msrc_valid_len\u001b[0m \u001b[1;33m=\u001b[0m \u001b[0mbuild_array_nmt\u001b[0m\u001b[1;33m(\u001b[0m\u001b[0msource\u001b[0m\u001b[1;33m,\u001b[0m \u001b[0msrc_vocab\u001b[0m\u001b[1;33m,\u001b[0m \u001b[1;36m654\u001b[0m\u001b[1;33m)\u001b[0m\u001b[1;33m\u001b[0m\u001b[1;33m\u001b[0m\u001b[0m\n\u001b[0m",
      "\u001b[1;32m~\\AppData\\Local\\Temp/ipykernel_23408/1749878059.py\u001b[0m in \u001b[0;36mbuild_array_nmt\u001b[1;34m(lines, vocab, num_steps)\u001b[0m\n\u001b[0;32m     69\u001b[0m     \u001b[0mlines\u001b[0m \u001b[1;33m=\u001b[0m \u001b[1;33m[\u001b[0m\u001b[0mvocab\u001b[0m\u001b[1;33m[\u001b[0m\u001b[0ml\u001b[0m\u001b[1;33m]\u001b[0m \u001b[1;32mfor\u001b[0m \u001b[0ml\u001b[0m \u001b[1;32min\u001b[0m \u001b[0mlines\u001b[0m\u001b[1;33m]\u001b[0m\u001b[1;33m\u001b[0m\u001b[1;33m\u001b[0m\u001b[0m\n\u001b[0;32m     70\u001b[0m     \u001b[0mprint\u001b[0m\u001b[1;33m(\u001b[0m\u001b[0mlines\u001b[0m\u001b[1;33m)\u001b[0m\u001b[1;33m\u001b[0m\u001b[1;33m\u001b[0m\u001b[0m\n\u001b[1;32m---> 71\u001b[1;33m     \u001b[0mlines\u001b[0m \u001b[1;33m=\u001b[0m \u001b[1;33m[\u001b[0m\u001b[0ml\u001b[0m \u001b[1;33m+\u001b[0m \u001b[1;33m[\u001b[0m\u001b[0mvocab\u001b[0m\u001b[1;33m[\u001b[0m\u001b[1;34m'<eos>'\u001b[0m\u001b[1;33m]\u001b[0m\u001b[1;33m]\u001b[0m \u001b[1;32mfor\u001b[0m \u001b[0ml\u001b[0m \u001b[1;32min\u001b[0m \u001b[0mlines\u001b[0m\u001b[1;33m]\u001b[0m\u001b[1;33m\u001b[0m\u001b[1;33m\u001b[0m\u001b[0m\n\u001b[0m\u001b[0;32m     72\u001b[0m \u001b[1;33m\u001b[0m\u001b[0m\n\u001b[0;32m     73\u001b[0m     \u001b[0marray\u001b[0m \u001b[1;33m=\u001b[0m \u001b[0mtorch\u001b[0m\u001b[1;33m.\u001b[0m\u001b[0mtensor\u001b[0m\u001b[1;33m(\u001b[0m\u001b[1;33m[\u001b[0m\u001b[0mtruncate_pad\u001b[0m\u001b[1;33m(\u001b[0m\u001b[0ml\u001b[0m\u001b[1;33m,\u001b[0m \u001b[0mnum_steps\u001b[0m\u001b[1;33m,\u001b[0m \u001b[0mvocab\u001b[0m\u001b[1;33m[\u001b[0m\u001b[1;34m'<pad>'\u001b[0m\u001b[1;33m]\u001b[0m\u001b[1;33m)\u001b[0m \u001b[1;32mfor\u001b[0m \u001b[0ml\u001b[0m \u001b[1;32min\u001b[0m \u001b[0mlines\u001b[0m\u001b[1;33m]\u001b[0m\u001b[1;33m)\u001b[0m\u001b[1;33m\u001b[0m\u001b[1;33m\u001b[0m\u001b[0m\n",
      "\u001b[1;32m~\\AppData\\Local\\Temp/ipykernel_23408/1749878059.py\u001b[0m in \u001b[0;36m<listcomp>\u001b[1;34m(.0)\u001b[0m\n\u001b[0;32m     69\u001b[0m     \u001b[0mlines\u001b[0m \u001b[1;33m=\u001b[0m \u001b[1;33m[\u001b[0m\u001b[0mvocab\u001b[0m\u001b[1;33m[\u001b[0m\u001b[0ml\u001b[0m\u001b[1;33m]\u001b[0m \u001b[1;32mfor\u001b[0m \u001b[0ml\u001b[0m \u001b[1;32min\u001b[0m \u001b[0mlines\u001b[0m\u001b[1;33m]\u001b[0m\u001b[1;33m\u001b[0m\u001b[1;33m\u001b[0m\u001b[0m\n\u001b[0;32m     70\u001b[0m     \u001b[0mprint\u001b[0m\u001b[1;33m(\u001b[0m\u001b[0mlines\u001b[0m\u001b[1;33m)\u001b[0m\u001b[1;33m\u001b[0m\u001b[1;33m\u001b[0m\u001b[0m\n\u001b[1;32m---> 71\u001b[1;33m     \u001b[0mlines\u001b[0m \u001b[1;33m=\u001b[0m \u001b[1;33m[\u001b[0m\u001b[0ml\u001b[0m \u001b[1;33m+\u001b[0m \u001b[1;33m[\u001b[0m\u001b[0mvocab\u001b[0m\u001b[1;33m[\u001b[0m\u001b[1;34m'<eos>'\u001b[0m\u001b[1;33m]\u001b[0m\u001b[1;33m]\u001b[0m \u001b[1;32mfor\u001b[0m \u001b[0ml\u001b[0m \u001b[1;32min\u001b[0m \u001b[0mlines\u001b[0m\u001b[1;33m]\u001b[0m\u001b[1;33m\u001b[0m\u001b[1;33m\u001b[0m\u001b[0m\n\u001b[0m\u001b[0;32m     72\u001b[0m \u001b[1;33m\u001b[0m\u001b[0m\n\u001b[0;32m     73\u001b[0m     \u001b[0marray\u001b[0m \u001b[1;33m=\u001b[0m \u001b[0mtorch\u001b[0m\u001b[1;33m.\u001b[0m\u001b[0mtensor\u001b[0m\u001b[1;33m(\u001b[0m\u001b[1;33m[\u001b[0m\u001b[0mtruncate_pad\u001b[0m\u001b[1;33m(\u001b[0m\u001b[0ml\u001b[0m\u001b[1;33m,\u001b[0m \u001b[0mnum_steps\u001b[0m\u001b[1;33m,\u001b[0m \u001b[0mvocab\u001b[0m\u001b[1;33m[\u001b[0m\u001b[1;34m'<pad>'\u001b[0m\u001b[1;33m]\u001b[0m\u001b[1;33m)\u001b[0m \u001b[1;32mfor\u001b[0m \u001b[0ml\u001b[0m \u001b[1;32min\u001b[0m \u001b[0mlines\u001b[0m\u001b[1;33m]\u001b[0m\u001b[1;33m)\u001b[0m\u001b[1;33m\u001b[0m\u001b[1;33m\u001b[0m\u001b[0m\n",
      "\u001b[1;31mTypeError\u001b[0m: unsupported operand type(s) for +: 'int' and 'list'"
     ]
    }
   ],
   "source": [
    "src_array, src_valid_len = build_array_nmt(source, src_vocab, 654)"
   ]
  },
  {
   "cell_type": "code",
   "execution_count": null,
   "metadata": {},
   "outputs": [],
   "source": []
  },
  {
   "cell_type": "code",
   "execution_count": 52,
   "metadata": {},
   "outputs": [
    {
     "name": "stdout",
     "output_type": "stream",
     "text": [
      "[['go', '.'], ['hi', '.'], ['run', '!'], ['run', '!'], ['who', '?'], ['wow', '!'], ['fire', '!'], ['help', '!'], ['jump', '.'], ['stop', '!'], ['stop', '!'], ['stop', '!'], ['wait', '!'], ['wait', '!'], ['go', 'on', '.'], ['go', 'on', '.'], ['go', 'on', '.'], ['hello', '!'], ['hello', '!'], ['i', 'see', '.'], ['i', 'try', '.'], ['i', 'won', '!'], ['i', 'won', '!'], ['i', 'won', '.'], ['oh', 'no', '!'], ['attack', '!'], ['attack', '!'], ['cheers', '!'], ['cheers', '!'], ['cheers', '!'], ['cheers', '!'], ['get', 'up', '.'], ['go', 'now', '.'], ['go', 'now', '.'], ['go', 'now', '.'], ['got', 'it', '!'], ['got', 'it', '!'], ['got', 'it', '?'], ['got', 'it', '?'], ['got', 'it', '?'], ['hop', 'in', '.'], ['hop', 'in', '.'], ['hug', 'me', '.'], ['hug', 'me', '.'], ['i', 'fell', '.'], ['i', 'fell', '.'], ['i', 'know', '.'], ['i', 'left', '.'], ['i', 'left', '.'], ['i', 'lost', '.'], ['i', 'paid', '.'], [\"i'm\", '19', '.'], [\"i'm\", 'ok', '.'], [\"i'm\", 'ok', '.'], ['listen', '.'], ['no', 'way', '!'], ['no', 'way', '!'], ['no', 'way', '!'], ['no', 'way', '!'], ['no', 'way', '!'], ['no', 'way', '!'], ['no', 'way', '!'], ['no', 'way', '!'], ['no', 'way', '!'], ['really', '?'], ['really', '?'], ['really', '?'], ['thanks', '.'], ['we', 'try', '.'], ['we', 'won', '.'], ['we', 'won', '.'], ['we', 'won', '.'], ['we', 'won', '.'], ['ask', 'tom', '.'], ['awesome', '!'], ['be', 'calm', '.'], ['be', 'calm', '.'], ['be', 'calm', '.'], ['be', 'cool', '.'], ['be', 'fair', '.'], ['be', 'fair', '.'], ['be', 'fair', '.'], ['be', 'fair', '.'], ['be', 'fair', '.'], ['be', 'fair', '.'], ['be', 'kind', '.'], ['be', 'nice', '.'], ['be', 'nice', '.'], ['be', 'nice', '.'], ['be', 'nice', '.'], ['be', 'nice', '.'], ['be', 'nice', '.'], ['beat', 'it', '.'], ['call', 'me', '.'], ['call', 'me', '.'], ['call', 'us', '.'], ['call', 'us', '.'], ['come', 'in', '.'], ['come', 'in', '.'], ['come', 'in', '.'], ['come', 'in', '.'], ['come', 'on', '!'], ['come', 'on', '.'], ['come', 'on', '.'], ['come', 'on', '.'], ['drop', 'it', '!'], ['drop', 'it', '!'], ['drop', 'it', '!'], ['drop', 'it', '!'], ['get', 'tom', '.'], ['get', 'out', '!'], ['get', 'out', '!'], ['get', 'out', '!'], ['get', 'out', '.'], ['get', 'out', '.'], ['go', 'away', '!'], ['go', 'away', '!'], ['go', 'away', '.'], ['go', 'away', '.'], ['go', 'away', '.'], ['go', 'away', '.'], ['go', 'away', '.'], ['go', 'away', '.'], ['go', 'away', '.'], ['go', 'away', '.'], ['go', 'home', '.'], ['go', 'home', '.'], ['go', 'home', '.'], ['go', 'home', '.'], ['go', 'slow', '.'], ['go', 'slow', '.'], ['goodbye', '!'], ['hang', 'on', '!'], ['hang', 'on', '!'], ['hang', 'on', '.'], ['hang', 'on', '.'], ['he', 'quit', '.'], ['he', 'quit', '.'], ['he', 'runs', '.'], ['help', 'me', '!'], ['help', 'me', '.'], ['help', 'me', '.'], ['help', 'us', '.'], ['help', 'us', '.'], ['hold', 'it', '!'], ['hold', 'on', '.'], ['hug', 'tom', '.'], ['i', 'agree', '.'], ['i', 'cried', '.'], ['i', 'dozed', '.'], ['i', 'dozed', '.'], ['i', 'drive', '.'], ['i', 'smoke', '.'], ['i', 'snore', '.'], ['i', 'stink', '.'], ['i', 'stood', '.'], ['i', 'stood', '.'], ['i', 'swore', '.'], ['i', 'swore', '.'], ['i', 'tried', '.'], ['i', 'tried', '.'], ['i', 'tried', '.'], ['i', 'waved', '.'], [\"i'll\", 'go', '.'], [\"i'm\", 'tom', '.'], [\"i'm\", 'fat', '.'], [\"i'm\", 'fat', '.'], [\"i'm\", 'fit', '.'], [\"i'm\", 'hit', '!'], [\"i'm\", 'hit', '!'], [\"i'm\", 'ill', '.'], [\"i'm\", 'sad', '.'], [\"i'm\", 'shy', '.'], [\"i'm\", 'wet', '.'], [\"i'm\", 'wet', '.'], [\"it's\", 'me', '!'], ['join', 'us', '.'], ['join', 'us', '.'], ['keep', 'it', '.'], ['keep', 'it', '.'], ['kiss', 'me', '.'], ['kiss', 'me', '.'], ['me', ',', 'too', '.'], ['open', 'up', '.'], ['open', 'up', '.'], ['perfect', '!'], ['see', 'you', '.'], ['show', 'me', '.'], ['show', 'me', '.'], ['shut', 'up', '!'], ['shut', 'up', '!'], ['shut', 'up', '!'], ['shut', 'up', '!'], ['shut', 'up', '!'], ['so', 'long', '.'], ['take', 'it', '.'], ['take', 'it', '.'], ['tell', 'me', '.'], ['tell', 'me', '.'], ['tom', 'won', '.'], ['wake', 'up', '!'], ['wake', 'up', '!'], ['wake', 'up', '!'], ['wake', 'up', '.'], ['wake', 'up', '.'], ['wash', 'up', '.'], ['wash', 'up', '.'], ['we', 'know', '.'], ['we', 'lost', '.'], ['we', 'lost', '.'], ['we', 'lost', '.'], ['we', 'lost', '.'], ['we', 'lost', '.'], ['we', 'lost', '.'], ['we', 'lost', '.'], ['we', 'lost', '.'], ['we', 'lost', '.'], ['we', 'lost', '.'], ['welcome', '.'], ['who', 'won', '?'], ['who', 'won', '?'], ['you', 'run', '.'], ['am', 'i', 'fat', '?'], ['am', 'i', 'fat', '?'], ['ask', 'them', '.'], ['ask', 'them', '.'], ['back', 'off', '!'], ['back', 'off', '!'], ['back', 'off', '.'], ['back', 'off', '.'], ['back', 'off', '.'], ['back', 'off', '.'], ['be', 'a', 'man', '.'], ['be', 'a', 'man', '.'], ['be', 'still', '.'], ['be', 'still', '.'], ['be', 'still', '.'], ['beats', 'me', '.'], ['beats', 'me', '.'], ['call', 'tom', '.'], ['call', 'tom', '.'], ['cheer', 'up', '!'], ['cool', 'off', '!'], ['cuff', 'him', '.'], ['drive', 'on', '.'], ['drive', 'on', '.'], ['drive', 'on', '.'], ['drive', 'on', '.'], ['find', 'tom', '.'], ['find', 'tom', '.'], ['fix', 'this', '.'], ['fix', 'this', '.'], ['get', 'down', '!'], ['get', 'down', '.'], ['get', 'down', '.'], ['get', 'down', '.'], ['get', 'down', '.'], ['get', 'lost', '!'], ['get', 'lost', '!'], ['get', 'lost', '!'], ['get', 'real', '!'], ['go', 'ahead', '.'], ['go', 'ahead', '.'], ['go', 'ahead', '.'], ['go', 'ahead', '.'], ['good', 'job', '!'], ['good', 'job', '!'], ['good', 'job', '!'], ['grab', 'him', '.'], ['grab', 'him', '.'], ['have', 'fun', '.'], ['have', 'fun', '.'], ['he', 'tries', '.'], [\"he's\", 'wet', '.'], ['help', 'tom', '.'], ['help', 'tom', '.'], ['hi', ',', 'guys', '.'], ['how', 'cute', '!'], ['how', 'deep', '?'], ['how', 'nice', '!'], ['how', 'nice', '!'], ['how', 'nice', '!'], ['how', 'nice', '!'], ['humor', 'me', '.'], ['hurry', 'up', '.'], ['hurry', 'up', '.'], ['hurry', 'up', '.'], ['hurry', 'up', '.'], ['i', 'am', 'fat', '.'], ['i', 'did', 'ok', '.'], ['i', 'did', 'ok', '.'], ['i', 'did', 'it', '.'], ['i', 'did', 'it', '.'], ['i', 'failed', '.'], ['i', 'forgot', '.'], ['i', 'get', 'it', '.'], ['i', 'got', 'it', '.'], ['i', 'got', 'it', '.'], ['i', 'helped', '.'], ['i', 'jumped', '.'], ['i', 'looked', '.'], ['i', 'moaned', '.'], ['i', 'nodded', '.'], ['i', 'obeyed', '.'], ['i', 'phoned', '.'], ['i', 'phoned', '.'], ['i', 'refuse', '.'], ['i', 'refuse', '.'], ['i', 'rested', '.'], ['i', 'rested', '.'], ['i', 'saw', 'it', '.'], ['i', 'saw', 'it', '.'], ['i', 'sighed', '.'], ['i', 'stayed', '.'], ['i', 'stayed', '.'], ['i', 'talked', '.'], ['i', 'use', 'it', '.'], ['i', 'use', 'it', '.'], ['i', 'use', 'it', '.'], [\"i'll\", 'pay', '.'], [\"i'll\", 'try', '.'], [\"i'll\", 'try', '.'], [\"i'm\", 'back', '.'], [\"i'm\", 'back', '.'], [\"i'm\", 'bald', '.'], [\"i'm\", 'busy', '.'], [\"i'm\", 'busy', '.'], [\"i'm\", 'calm', '.'], [\"i'm\", 'cold', '.'], [\"i'm\", 'cool', '.'], [\"i'm\", 'cool', '.'], [\"i'm\", 'deaf', '.'], [\"i'm\", 'deaf', '.'], [\"i'm\", 'done', '.'], [\"i'm\", 'fair', '.'], [\"i'm\", 'fair', '.'], [\"i'm\", 'fair', '.'], [\"i'm\", 'fast', '.'], [\"i'm\", 'fine', '.'], [\"i'm\", 'fine', '.'], [\"i'm\", 'fine', '.'], [\"i'm\", 'free', '!'], [\"i'm\", 'free', '.'], [\"i'm\", 'free', '.'], [\"i'm\", 'full', '.'], [\"i'm\", 'full', '.'], [\"i'm\", 'game', '.'], [\"i'm\", 'game', '.'], [\"i'm\", 'glad', '.'], [\"i'm\", 'home', '.'], [\"i'm\", 'late', '.'], [\"i'm\", 'lazy', '.'], [\"i'm\", 'lazy', '.'], [\"i'm\", 'lazy', '.'], [\"i'm\", 'lazy', '.'], [\"i'm\", 'okay', '.'], [\"i'm\", 'okay', '.'], [\"i'm\", 'rich', '.'], [\"i'm\", 'safe', '.'], [\"i'm\", 'sick', '.'], [\"i'm\", 'sure', '.'], [\"i'm\", 'sure', '.'], [\"i'm\", 'sure', '.'], [\"i'm\", 'sure', '.'], [\"i'm\", 'tall', '.'], [\"i'm\", 'thin', '.'], [\"i'm\", 'tidy', '.'], [\"i'm\", 'tidy', '.'], [\"i'm\", 'ugly', '.'], [\"i'm\", 'ugly', '.'], [\"i'm\", 'weak', '.'], [\"i'm\", 'well', '.'], [\"i'm\", 'well', '.'], [\"i've\", 'won', '.'], [\"i've\", 'won', '.'], ['it', 'helps', '.'], ['it', 'hurts', '.'], ['it', 'works', '.'], ['it', 'works', '.'], [\"it's\", 'tom', '.'], [\"it's\", 'fun', '.'], [\"it's\", 'fun', '.'], [\"it's\", 'his', '.'], [\"it's\", 'his', '.'], [\"it's\", 'new', '.'], [\"it's\", 'new', '.'], [\"it's\", 'odd', '.'], [\"it's\", 'red', '.'], [\"it's\", 'sad', '.'], ['keep', 'out', '!'], ['keep', 'out', '.'], ['kiss', 'tom', '.'], ['leave', 'it', '.'], ['leave', 'it', '.'], ['leave', 'me', '.'], ['leave', 'us', '.'], ['leave', 'us', '.'], [\"let's\", 'go', '!'], [\"let's\", 'go', '.'], ['look', 'out', '!'], ['look', 'out', '!'], ['marry', 'me', '.'], ['marry', 'me', '.'], ['may', 'i', 'go', '?'], ['may', 'i', 'go', '?'], ['may', 'i', 'go', '?'], ['save', 'tom', '.'], ['save', 'tom', '.'], ['she', 'came', '.'], ['she', 'died', '.'], ['she', 'runs', '.'], ['sit', 'down', '!'], ['sit', 'down', '!'], ['sit', 'down', '.'], ['sit', 'here', '.'], ['sit', 'here', '.'], ['speak', 'up', '!'], ['speak', 'up', '!'], ['stop', 'tom', '.'], ['stop', 'tom', '.'], ['taste', 'it', '.'], ['taste', 'it', '.'], ['taste', 'it', '.'], ['taste', 'it', '.'], ['tell', 'tom', '.'], ['tell', 'tom', '.'], ['terrific', '!'], ['terrific', '!'], ['terrific', '!'], ['they', 'won', '.'], ['they', 'won', '.'], ['they', 'won', '.'], ['they', 'won', '.'], ['tom', 'came', '.'], ['tom', 'died', '.'], ['tom', 'died', '.'], ['tom', 'knew', '.'], ['tom', 'left', '.'], ['tom', 'left', '.'], ['tom', 'lied', '.'], ['tom', 'lies', '.'], ['tom', 'lost', '.'], ['tom', 'paid', '.'], ['too', 'late', '.'], ['trust', 'me', '.'], ['trust', 'me', '.'], ['try', 'hard', '.'], ['try', 'some', '.'], ['try', 'some', '.'], ['try', 'this', '.'], ['try', 'this', '.'], ['use', 'this', '.'], ['use', 'this', '.'], ['use', 'this', '.'], ['use', 'this', '.'], ['warn', 'tom', '.'], ['warn', 'tom', '.'], ['watch', 'me', '.'], ['watch', 'me', '.'], ['watch', 'us', '.'], ['watch', 'us', '.'], ['we', 'agree', '.'], [\"we'll\", 'go', '.'], ['what', 'for', '?'], ['what', 'for', '?'], ['what', 'fun', '!'], ['what', 'fun', '!'], ['who', 'came', '?'], ['who', 'died', '?'], ['who', 'fell', '?'], ['who', 'quit', '?'], [\"who's\", 'he', '?'], ['write', 'me', '.'], ['write', 'me', '.'], ['you', 'lost', '.'], ['you', 'lost', '.'], ['after', 'you', '.'], ['aim', '.', 'fire', '!'], ['am', 'i', 'late', '?'], ['answer', 'me', '.'], ['be', 'seated', '.'], ['be', 'seated', '.'], ['birds', 'fly', '.'], ['bless', 'you', '.'], ['call', 'home', '!'], ['calm', 'down', '!'], ['calm', 'down', '.'], ['can', 'we', 'go', '?'], ['can', 'we', 'go', '?'], ['can', 'we', 'go', '?'], ['catch', 'tom', '.'], ['catch', 'tom', '.'], ['catch', 'him', '.'], ['come', 'back', '.'], ['come', 'back', '.'], ['come', 'here', '.'], ['come', 'here', '.'], ['come', 'over', '!'], ['come', 'over', '!'], ['come', 'over', '.'], ['come', 'over', '.'], ['come', 'over', '.'], ['come', 'over', '.'], ['come', 'over', '.'], ['come', 'soon', '.'], ['come', 'soon', '.'], ['cool', 'down', '.'], ['did', 'i', 'win', '?'], ['did', 'i', 'win', '?'], ['did', 'i', 'win', '?'], ['do', 'it', 'now', '.'], ['dogs', 'bark', '.'], ['dogs', 'bark', '.'], [\"don't\", 'ask', '.'], [\"don't\", 'cry', '.'], [\"don't\", 'die', '.'], [\"don't\", 'die', '.'], [\"don't\", 'lie', '.'], [\"don't\", 'run', '.'], [\"don't\", 'run', '.'], ['excuse', 'me', '.'], ['excuse', 'me', '.'], ['fantastic', '!'], ['feel', 'this', '.'], ['feel', 'this', '.'], ['feel', 'this', '.'], ['feel', 'this', '.'], ['follow', 'me', '.'], ['follow', 'us', '.'], ['follow', 'us', '.'], ['forget', 'it', '!'], ['forget', 'it', '!'], ['forget', 'it', '!'], ['forget', 'it', '!'], ['forget', 'it', '.'], ['forget', 'it', '.'], ['forget', 'it', '.'], ['get', 'a', 'job', '.'], ['get', 'a', 'job', '.'], ['get', 'a', 'job', '.'], ['get', 'a', 'job', '.'], ['get', 'ready', '.'], ['get', 'ready', '.'], ['go', 'get', 'it', '.'], ['go', 'get', 'it', '.'], ['go', 'inside', '.'], ['go', 'to', 'bed', '.'], ['go', 'to', 'bed', '.'], ['good', 'luck', '.'], ['good', 'luck', '.'], ['grab', 'that', '.'], ['grab', 'that', '.'], ['grab', 'that', '.'], ['grab', 'that', '.'], ['grab', 'this', '.'], ['grab', 'this', '.'], ['hands', 'off', '.'], ['he', 'is', 'ill', '.'], ['he', 'is', 'old', '.'], [\"he's\", 'a', 'dj', '.'], [\"he's\", 'good', '.'], [\"he's\", 'lazy', '.'], [\"he's\", 'rich', '.'], [\"he's\", 'sexy', '.'], ['here', 'i', 'am', '.'], [\"here's\", '$5', '.'], ['hold', 'fire', '.'], ['hold', 'fire', '.'], ['hold', 'this', '.'], ['hold', 'this', '.'], ['hold', 'this', '.'], ['hold', 'this', '.'], ['how', 'awful', '!'], ['how', 'weird', '!'], [\"how's\", 'tom', '?'], [\"how's\", 'tom', '?'], ['i', 'am', 'busy', '.'], ['i', 'am', 'calm', '.'], ['i', 'am', 'cold', '.'], ['i', 'am', 'fine', '.'], ['i', 'am', 'good', '.'], ['i', 'am', 'here', '.'], ['i', 'am', 'lazy', '.'], ['i', 'am', 'lazy', '.'], ['i', 'am', 'lazy', '.'], ['i', 'am', 'lazy', '.'], ['i', 'am', 'okay', '.'], ['i', 'am', 'sick', '.'], ['i', 'am', 'sure', '.'], ['i', 'am', 'sure', '.'], ['i', 'am', 'weak', '.'], ['i', 'beg', 'you', '.'], ['i', 'beg', 'you', '.'], ['i', 'beg', 'you', '.'], ['i', 'beg', 'you', '.'], ['i', 'can', 'run', '.'], ['i', 'can', 'ski', '.'], ['i', 'cringed', '.'], ['i', 'cringed', '.'], ['i', 'cringed', '.'], ['i', 'exhaled', '.'], ['i', 'gave', 'up', '.'], ['i', 'give', 'in', '.'], ['i', 'give', 'up', '.'], ['i', 'got', 'hot', '.'], ['i', 'got', 'hot', '.'], ['i', 'had', 'fun', '.'], ['i', 'had', 'fun', '.'], ['i', 'had', 'fun', '.'], ['i', 'had', 'fun', '.'], ['i', 'hate', 'it', '.'], ['i', 'have', 'it', '.'], ['i', 'hit', 'tom', '.'], ['i', 'hope', 'so', '.'], ['i', 'hurried', '.'], ['i', 'hurried', '.'], ['i', 'inhaled', '.'], ['i', 'knew', 'it', '.'], ['i', 'like', 'it', '.'], ['i', 'lost', 'it', '.'], ['i', 'love', 'it', '!'], ['i', 'love', 'it', '.'], ['i', 'mean', 'it', '!'], ['i', 'mean', 'it', '.'], ['i', 'must', 'go', '.'], ['i', 'must', 'go', '.'], ['i', 'must', 'go', '.'], ['i', 'must', 'go', '.'], ['i', 'must', 'go', '.'], ['i', 'must', 'go', '.'], ['i', 'must', 'go', '.'], ['i', 'must', 'go', '.'], ['i', 'need', 'it', '.'], ['i', 'need', 'it', '.'], ['i', 'noticed', '.'], ['i', 'prepaid', '.'], ['i', 'promise', '.'], ['i', 'relaxed', '.'], ['i', 'relaxed', '.'], ['i', 'retired', '.'], ['i', 'said', 'no', '.'], ['i', 'said', 'so', '.'], ['i', 'saw', 'him', '.'], ['i', 'saw', 'him', '.'], ['i', 'saw', 'him', '.'], ['i', 'saw', 'one', '.'], ['i', 'saw', 'one', '.'], ['i', 'saw', 'you', '.'], ['i', 'saw', 'you', '.'], ['i', 'saw', 'you', '.'], ['i', 'saw', 'you', '.'], ['i', 'saw', 'you', '.'], ['i', 'saw', 'you', '.'], ['i', 'saw', 'you', '.'], ['i', 'saw', 'you', '.']]\n",
      "[['va', '!'], ['salut', '!'], ['coursâ€¯', '!'], ['courezâ€¯', '!'], ['qui', '?'], ['ã‡a', 'alorsâ€¯', '!'], ['au', 'feu', '!'], ['ã€', \"l'aideâ€¯\", '!'], ['saute', '.'], ['ã‡a', 'suffitâ€¯', '!'], ['stopâ€¯', '!'], ['arrãªte-toi', '!'], ['attends', '!'], ['attendez', '!'], ['poursuis', '.'], ['continuez', '.'], ['poursuivez', '.'], ['bonjour', '!'], ['salut', '!'], ['je', 'comprends', '.'], [\"j'essaye\", '.'], [\"j'ai\", 'gagnã©', '!'], ['je', \"l'ai\", 'emportã©', '!'], ['jâ€™ai', 'gagnã©', '.'], ['oh', 'non', '!'], ['attaque', '!'], ['attaquez', '!'], ['santã©', '!'], ['ã€', 'votre', 'santã©', '!'], ['merci', '!'], ['tchin-tchin', '!'], ['lã¨ve-toi', '.'], ['va', ',', 'maintenant', '.'], ['allez-y', 'maintenant', '.'], ['vas-y', 'maintenant', '.'], [\"j'ai\", 'pigã©', '!'], ['compris', '!'], ['pigã©â€¯', '?'], ['comprisâ€¯', '?'], [\"t'as\", 'captã©â€¯', '?'], ['monte', '.'], ['montez', '.'], ['serre-moi', 'dans', 'tes', 'bras', '!'], ['serrez-moi', 'dans', 'vos', 'bras', '!'], ['je', 'suis', 'tombã©e', '.'], ['je', 'suis', 'tombã©', '.'], ['je', 'sais', '.'], ['je', 'suis', 'parti', '.'], ['je', 'suis', 'partie', '.'], [\"j'ai\", 'perdu', '.'], ['jâ€™ai', 'payã©', '.'], [\"j'ai\", '19', 'ans', '.'], ['je', 'vais', 'bien', '.'], ['ã‡a', 'va', '.'], ['ã‰coutez', '!'], [\"c'est\", 'pas', 'possibleâ€¯', '!'], ['impossibleâ€¯', '!'], ['en', 'aucun', 'cas', '.'], ['sans', 'faã§onsâ€¯', '!'], [\"c'est\", 'hors', 'de', 'question', '!'], ['il', \"n'en\", 'est', 'pas', 'question', '!'], [\"c'est\", 'exclu', '!'], ['en', 'aucune', 'maniã¨re', '!'], ['hors', 'de', 'question', '!'], ['vraimentâ€¯', '?'], ['vrai', '?'], ['ah', 'bon', '?'], ['merci', '!'], ['on', 'essaye', '.'], ['nous', 'avons', 'gagnã©', '.'], ['nous', 'gagnã¢mes', '.'], ['nous', \"l'avons\", 'emportã©', '.'], ['nous', \"l'emportã¢mes\", '.'], ['demande', 'ã', '', 'tom', '.'], ['fantastiqueâ€¯', '!'], ['sois', 'calme', '!'], ['soyez', 'calme', '!'], ['soyez', 'calmes', '!'], ['sois', 'dã©tendu', '!'], ['sois', 'juste', '!'], ['soyez', 'juste', '!'], ['soyez', 'justes', '!'], ['sois', 'ã©quitable', '!'], ['soyez', 'ã©quitable', '!'], ['soyez', 'ã©quitables', '!'], ['sois', 'gentil', '.'], ['sois', 'gentil', '!'], ['sois', 'gentille', '!'], ['soyez', 'gentil', '!'], ['soyez', 'gentille', '!'], ['soyez', 'gentils', '!'], ['soyez', 'gentilles', '!'], ['dã©gageâ€¯', '!'], ['appelle-moi', '!'], ['appellez-moi', '!'], ['appelle-nous', '!'], ['appelez-nous', '!'], ['entrezâ€¯', '!'], ['entre', '.'], ['entre', '!'], ['entrez', '!'], ['allezâ€¯', '!'], ['allez', '!'], ['viens', '!'], ['venez', '!'], ['laisse', 'tomber', '!'], ['laissez', 'tomber', '!'], ['laisse-le', 'tomber', '!'], ['laissez-le', 'tomber', '!'], ['va', 'chercher', 'tom', '.'], ['sortezâ€¯', '!'], ['sors', '!'], ['sortez', '!'], ['sors', '.'], ['casse-toi', '.'], ['dã©gageâ€¯', '!'], ['pars', '!'], ['va', 'te', 'faire', 'foutre', '!'], ['pars', '!'], ['dã©gage', '!'], ['fous', 'le', 'camp', '!'], ['pars', \"d'ici\", '.'], ['va', \"t'en\", '!'], ['disparais', '!'], ['allez-vous', 'en', '!'], ['rentrez', 'ã', '', 'la', 'maison', '.'], ['rentre', 'ã', '', 'la', 'maison', '.'], ['rentre', 'chez', 'toi', '.'], ['rentrez', 'chez', 'vous', '.'], ['va', 'doucement', '!'], ['allez', 'doucement', '!'], ['ã€', 'la', 'revoyure', '.'], ['attends', 'un', 'peu', '!'], ['attendez', 'un', 'peu', '!'], ['tiens', 'bon', '!'], ['tenez', 'bon', '!'], ['il', 'laissa', 'tomber', '.'], ['il', 'a', 'laissã©', 'tomber', '.'], ['il', 'court', '.'], ['aide-moi', '!'], ['aide-moi', '.'], ['aidez-moi', '.'], ['aidez-nous', '!'], ['aide-nous', '!'], ['ne', 'bouge', 'plus', '!'], ['ne', 'quittez', 'pas', '.'], ['fais', 'un', 'cã¢lin', 'ã', '', 'tom', '.'], ['je', 'suis', 'du', 'mãªme', 'avis', '.'], [\"j'ai\", 'pleurã©', '.'], ['je', 'me', 'suis', 'assoupi', '.'], ['je', 'me', 'suis', 'assoupie', '.'], ['je', 'conduis', '.'], ['je', 'fume', '.'], ['je', 'ronfle', '.'], ['je', 'pue', '.'], ['je', 'me', 'suis', 'tenu', 'debout', '.'], ['je', 'me', 'suis', 'tenue', 'debout', '.'], ['jâ€™ai', 'promis', '.'], ['jâ€™ai', 'jurã©', '.'], [\"j'essayai\", '.'], [\"j'ai\", 'essayã©', '.'], [\"j'ai\", 'tentã©', '.'], ['jâ€™ai', 'fait', 'signe', '.'], [\"j'irai\", '.'], ['je', 'suis', 'tom', '.'], ['je', 'suis', 'gras', '.'], ['je', 'suis', 'gros', '.'], ['je', 'suis', 'en', 'forme', '.'], ['je', 'suis', 'touchã©', '!'], ['je', 'suis', 'touchã©e', '!'], ['je', 'suis', 'malade', '.'], ['je', 'suis', 'triste', '.'], ['je', 'suis', 'timide', '.'], ['je', 'suis', 'mouillã©', '.'], ['je', 'suis', 'mouillã©e', '.'], [\"c'est\", 'bibiâ€¯', '!'], ['joignez-vous', '.'], ['joignez-vous', 'ã', '', 'nous', '.'], ['garde-le', '!'], ['gardez-le', '!'], ['embrasse-moi', '.'], ['embrassez-moi', '.'], ['moi', 'aussi', '.'], ['ouvre-moiâ€¯', '!'], ['ouvre', '.'], ['parfaitâ€¯', '!'], ['ã€', 'plus', '.'], ['montre-moi', '!'], ['montrez-moi', '!'], ['taisez-vousâ€¯', '!'], ['ferme-laâ€¯', '!'], ['tais-toi', '!'], ['ferme-la', '!'], ['la', 'ferme', '!'], ['ã€', 'plus', 'tard', '!'], ['prends-le', '!'], ['prenez-le', '!'], ['dis-moi', '!'], ['dites-moi', '!'], ['tom', 'a', 'gagnã©', '.'], ['rã©veille-toiâ€¯', '!'], ['rã©veille-toi', '!'], ['rã©veillez-vous', '!'], ['rã©veille-toi', '!'], ['rã©veillez-vous', '!'], ['lave-toi', '!'], ['lavez-vous', '!'], ['nous', 'savons', '.'], ['nous', 'perdã®mes', '.'], ['nous', 'avons', 'perdu', '.'], ['nous', 'fã»mes', 'battus', '.'], ['nous', 'fã»mes', 'battues', '.'], ['nous', 'fã»mes', 'dã©faits', '.'], ['nous', 'fã»mes', 'dã©faites', '.'], ['nous', 'avons', 'ã©tã©', 'dã©faits', '.'], ['nous', 'avons', 'ã©tã©', 'dã©faites', '.'], ['nous', 'avons', 'ã©tã©', 'battus', '.'], ['nous', 'avons', 'ã©tã©', 'battues', '.'], ['bienvenueâ€¯', '!'], ['qui', 'a', 'gagnã©', '?'], ['qui', \"l'a\", 'emportã©', '?'], ['tu', 'cours', '.'], ['suis-je', 'gros', '?'], ['suis-je', 'grosse', '?'], ['demande-leur', '.'], ['demandez-leur', '.'], ['reculeâ€‰', '!'], ['reculez', '.'], ['reculeâ€‰', '!'], ['reculez', '.'], ['retire-toiâ€‰', '!'], ['retirez-vous', '.'], ['sois', 'un', 'homme', '!'], ['soyez', 'un', 'homme', '!'], ['sois', 'calme', '!'], ['soyez', 'calme', '!'], ['soyez', 'calmes', '!'], ['aucune', 'idã©e', '.'], [\"j'en\", 'sais', 'foutre', 'rien', '.'], ['appelle', 'tom', '.'], ['appelez', 'tom', '.'], ['courageâ€¯', '!'], ['dã©tends-toiâ€¯', '!'], ['menottez-le', '.'], ['avance', '!'], ['avancez', '!'], ['continue', 'ã', '', 'rouler', '!'], ['continuez', 'ã', '', 'rouler', '!'], ['trouve', 'tom', '.'], ['trouvez', 'tom', '.'], ['rã©parez', 'ceci', '.'], ['rã©pare', 'ã§a', '.'], ['lã¢che-toi', '!'], ['descends', '!'], ['descendez', '!'], ['lã¢che-toi', '!'], ['lã¢chez-vous', '!'], ['va', 'voir', 'ailleurs', 'si', \"j'y\", 'suisâ€¯', '!'], ['dã©gageâ€¯', '!'], ['va', 'au', 'diable', '!'], ['sois', 'rã©aliste', '!'], ['vas-y', '.'], ['poursuis', '!'], ['passe', 'devant', '!'], ['vas-y', '!'], ['bien', 'jouã©â€¯', '!'], ['bon', 'boulotâ€¯', '!'], ['beau', 'travailâ€¯', '!'], ['attrape-le', '.'], ['attrapez-le', '.'], ['amuse-toi', 'bien', '!'], ['amusez-vous', 'bien', '!'], ['il', 'essaye', '.'], ['il', 'est', 'mouillã©', '.'], ['aide', 'tom', '.'], ['aidez', 'tom', '.'], ['salut', ',', 'les', 'mecs', '!'], ['comme', \"c'est\", 'mignonâ€¯', '!'], ['quelle', 'profondeurâ€¯', '?'], ['comme', \"c'est\", 'chouette', '!'], ['comme', \"c'est\", 'gentil', '!'], [\"c'est\", 'du', 'joli', '!'], ['comme', \"c'est\", 'agrã©able', '!'], ['fais-moi', 'rire', '.'], ['dã©pãªche-toi', '.'], ['grouilleâ€¯', '!'], ['pressez-vous', '!'], ['fiã§a', '!'], ['je', 'suis', 'gras', '.'], ['je', \"m'en\", 'suis', 'bien', 'sorti', '.'], ['je', \"m'en\", 'suis', 'bien', 'sortie', '.'], ['je', \"l'ai\", 'fait', '.'], [\"c'est\", 'moi', 'qui', \"l'ai\", 'fait', '.'], [\"j'ai\", 'ã©chouã©', '.'], [\"j'ai\", 'oubliã©', '.'], [\"j'ai\", 'compris', '.'], [\"j'ai\", 'compris', '.'], [\"j'ai\", 'captã©', '.'], [\"j'ai\", 'aidã©', '.'], [\"j'ai\", 'sautã©', '.'], ['jâ€™ai', 'regardã©', '.'], ['jâ€™ai', 'rã¢lã©', '.'], ['jâ€™ai', 'fait', 'signe', 'de', 'la', 'tãªte', '.'], ['jâ€™ai', 'obã©i', '.'], ['je', 'tã©lã©phonai', '.'], [\"j'ai\", 'tã©lã©phonã©', '.'], ['je', 'refuse', '.'], ['je', 'le', 'refuse', '.'], ['je', 'me', 'suis', 'reposã©', '.'], ['je', 'me', 'suis', 'reposã©e', '.'], ['je', \"l'ai\", 'vu', '.'], ['je', 'lâ€™ai', 'vu', '.'], ['jâ€™ai', 'soupirã©', '.'], ['je', 'suis', 'restã©', '.'], ['je', 'suis', 'restã©e', '.'], ['jâ€™ai', 'parlã©', '.'], ['je', \"l'utilise\", '.'], [\"j'en\", 'fais', 'usage', '.'], ['je', \"m'en\", 'sers', '.'], ['je', 'paierai', '.'], ['je', 'vais', 'essayer', '.'], [\"j'essaierai\", '.'], ['je', 'suis', 'revenu', '.'], ['me', 'revoilã', '.'], ['je', 'suis', 'chauve', '.'], ['je', 'suis', 'occupã©', '.'], ['je', 'suis', 'occupã©e', '.'], ['je', 'suis', 'calme', '.'], [\"j'ai\", 'froid', '.'], ['je', 'suis', 'dã©tendu', '.'], ['je', 'suis', 'dã©tendue', '.'], ['je', 'suis', 'sourd', '.'], ['je', 'suis', 'sourde', '.'], [\"j'en\", 'ai', 'fini', '.'], ['je', 'suis', 'juste', '.'], [\"j'ai\", 'la', 'peau', 'claire', '.'], [\"j'ai\", 'le', 'teint', 'clair', '.'], ['je', 'suis', 'rapide', '.'], ['tout', 'va', 'bien', '.'], ['je', 'vais', 'bien', '.'], ['ã‡a', 'va', '.'], ['je', 'suis', 'libre', '!'], ['je', 'suis', 'libre', '.'], ['je', 'suis', 'disponible', '.'], ['je', 'suis', 'repuâ€¯', '!'], ['je', 'suis', 'rassasiã©â€¯', '!'], [\"j'en\", 'suis', '.'], ['je', 'suis', 'de', 'la', 'partie', '.'], ['je', 'suis', 'content', '.'], ['je', 'suis', 'chez', 'moi', '.'], ['je', 'suis', 'en', 'retard', '.'], ['je', 'suis', 'paresseux', '.'], ['je', 'suis', 'fainã©ant', '.'], ['je', 'suis', 'paresseuse', '.'], ['je', 'suis', 'fainã©ante', '.'], ['je', 'vais', 'bien', '.'], ['je', 'me', 'porte', 'bien', '.'], ['je', 'suis', 'riche', '.'], ['je', 'suis', 'en', 'sã©curitã©', '.'], ['je', 'suis', 'malade', '.'], [\"j'en\", 'suis', 'certain', '.'], ['je', 'suis', 'certain', '.'], [\"j'en\", 'suis', 'sã»r', '.'], [\"j'en\", 'suis', 'sã»re', '.'], ['je', 'suis', 'grande', '.'], ['je', 'suis', 'mince', '.'], ['je', 'suis', 'ordonnã©', '.'], ['je', 'suis', 'ordonnã©e', '.'], ['je', 'suis', 'laid', '.'], ['je', 'suis', 'laide', '.'], ['je', 'suis', 'faible', '.'], ['je', 'vais', 'bien', '.'], ['je', 'me', 'porte', 'bien', '.'], [\"j'ai\", 'gagnã©', '.'], ['je', \"l'ai\", 'emportã©', '.'], ['ã‡a', 'aide', '.'], ['ã‡a', 'fait', 'mal', '.'], ['elle', 'marche', '.'], ['ã‡a', 'fonctionne', '.'], [\"c'est\", 'tom', '.'], [\"c'est\", 'marrant', '.'], [\"c'est\", 'rigolo', '.'], [\"c'est\", 'le', 'sien', '.'], [\"c'est\", 'la', 'sienne', '.'], [\"c'est\", 'nouveau', '.'], [\"c'est\", 'neuf', '.'], [\"c'est\", 'bizarre', '.'], ['il', 'est', 'rouge', '.'], ['câ€™est', 'triste', '.'], ['dã©fense', \"d'entrer\", '.'], [\"n'entrez\", 'pas', '.'], ['embrasse', 'tom', '.'], ['laisse', 'tomber', '!'], ['laissez', 'tomber', '!'], ['laissez-moi', '!'], ['laisse-nous', '!'], ['laissez-nous', '!'], ['allons-y', '!'], ['allons-y', '!'], ['attention', '!'], ['regarde', 'donc', '!'], ['ã‰pouse-moi', '!'], ['ã‰pousez-moi', '!'], ['puis-je', 'partir', '?'], ['puis-je', 'y', 'aller', '?'], ['puis-je', \"m'y\", 'rendre', '?'], ['sauve', 'tom', '.'], ['sauvez', 'tom', '.'], ['elle', 'est', 'venue', '.'], ['elle', 'est', 'morte', '.'], ['elle', 'court', '.'], ['assieds-toi', '!'], ['asseyez-vous', '!'], ['assieds-toi', '.'], ['assieds-toi', 'ici', '.'], ['asseyez-vous', 'ici', '.'], ['parle', 'plus', 'fortâ€¯', '!'], ['parlez', 'plus', 'fortâ€¯', '!'], ['arrãªte', 'tom', '.'], ['stoppez', 'tom', '.'], ['goã»te-le', '.'], ['goã»te-la', '.'], ['goã»tez-le', '.'], ['goã»tez-la', '.'], ['dis-le', 'ã', '', 'tom', '.'], ['informez-en', 'tom', '.'], ['gã©nialâ€¯', '!'], ['excellentâ€¯', '!'], ['formidable', '!'], ['ils', 'gagnã¨rent', '.'], ['elles', 'gagnã¨rent', '.'], ['ils', 'ont', 'gagnã©', '.'], ['elles', 'ont', 'gagnã©', '.'], ['tom', 'est', 'venu', '.'], ['tom', 'est', 'mort', '.'], ['tom', 'muera', '.'], ['tom', 'savait', '.'], ['tom', 'est', 'parti', '.'], ['tom', 'partit', '.'], ['tom', 'a', 'menti', '.'], ['tom', 'ment', '.'], ['tom', 'a', 'perdu', '.'], ['tom', 'a', 'payã©', '.'], ['trop', 'tard', '.'], ['faites-moi', 'confiance', '.'], ['fais-moi', 'confiance', '.'], ['fais', 'un', 'effort', '.'], ['essaies-en', '!'], ['essayez-en', '!'], ['essaie', 'ceci', '!'], ['essayez', 'ceci', '!'], ['utilise', 'ceci', '.'], ['utilisez', 'ceci', '.'], ['emploie', 'ceci', '!'], ['employez', 'ceci', '!'], ['avertis', 'tom', '.'], ['prã©viens', 'tom', '.'], ['regarde-moi', '!'], ['regardez-moi', '!'], ['regardez-nous', '!'], ['regarde-nous', '!'], ['nous', 'sommes', \"d'accord\", '.'], ['nous', 'irons', '.'], ['pour', 'quoi', 'faireâ€¯', '?'], ['ã€', 'quoi', 'bon', '?'], [\"qu'est-ce\", \"qu'on\", \"s'est\", 'marrã©s', '!'], [\"qu'est-ce\", \"qu'on\", \"s'est\", 'marrã©es', '!'], ['qui', 'est', 'venu', '?'], ['qui', 'est', 'mort', '?'], ['qui', 'est', 'tombã©â', '?'], ['qui', 'dã©missionne', '?'], ['qui', 'est-ilâ€¯', '?'], ['ã‰cris-moi', '!'], ['ã‰crivez-moi', '!'], ['tu', 'as', 'perdu', '.'], ['vous', 'avez', 'perdu', '.'], ['aprã¨s', 'vous', '.'], ['en', 'joue', '!', 'feu', '!'], ['suis-je', 'en', 'retard', '?'], ['rã©pondez-moi', '.'], ['assieds-toi', '!'], ['asseyez-vous', '!'], ['les', 'oiseaux', 'volent', '.'], ['ã€', 'tes', 'souhaitsâ€¯', '!'], ['appelle', 'ã', '', 'la', 'maison', '!'], ['calmez-vous', '!'], ['calme-toi', '.'], ['pouvons-nous', 'partir', '?'], ['pouvons-nous', 'nous', 'en', 'aller', '?'], ['pouvons-nous', 'y', 'aller', '?'], ['attrape', 'tom', '.'], ['attrapez', 'tom', '.'], ['rattrape-le', '.'], ['reviens', '!'], ['revenez', '!'], ['viens', 'ici', '.'], ['venez', 'lã', '.'], ['viensâ€¯', '!'], ['venezâ€¯', '!'], ['venez', 'ici', '!'], ['viens', 'chez', 'nous', '!'], ['venez', 'chez', 'nous', '!'], ['viens', 'chez', 'moi', '!'], ['venez', 'chez', 'moi', '!'], ['viens', 'bientã´t', '!'], ['venez', 'bientã´t', '!'], ['calmez-vous', '!'], ['ai-je', 'gagnã©', '?'], [\"l'ai-je\", 'emportã©', '?'], ['est-ce', 'moi', 'qui', 'ai', 'gagnã©', '?'], ['faites-le', 'maintenant', '.'], ['des', 'chiens', 'aboient', '.'], ['les', 'chiens', 'aboient', '.'], ['ne', 'demande', 'pas', '!'], ['ne', 'pleure', 'pas', '!'], ['ne', 'meurs', 'pas', '!'], ['ne', 'mourez', 'pas', '!'], ['ne', 'mens', 'pas', '.'], ['ne', 'courez', 'pas', '.'], ['ne', 'cours', 'pas', '.'], ['excuse-moi', '.'], ['excusez-moi', '.'], ['fantastiqueâ€¯', '!'], ['sens', 'ã§a', '!'], ['sentez', 'ã§a', '!'], ['touche', 'ã§a', '!'], ['touchez', 'ã§a', '!'], ['suis-moi', '.'], ['suis-nous', '!'], ['suivez-nous', '!'], ['oublie', '!'], ['oublie-le', '!'], ['oubliez', '!'], ['oubliez-le', '!'], ['laisse', 'tomber', '.'], ['oublie', '.'], ['oublie-le', '!'], ['trouve', 'un', 'emploi', '!'], ['trouve', 'un', 'boulot', '!'], ['trouvez', 'un', 'emploi', '!'], ['trouvez', 'un', 'boulot', '!'], ['prã©pare-toi', '.'], ['prã©parez-vous', '.'], ['va', 'le', 'chercher', '!'], ['allez', 'le', 'chercher', '!'], ['entrezâ€¯', '!'], ['va', 'au', 'lit', '!'], ['allez', 'au', 'lit', '!'], ['bonne', 'chanceâ€¯', '!'], ['bonne', 'chance', '.'], ['attrape', 'ã§a', '!'], ['attrapez', 'ã§a', '!'], ['saisis-toi', 'de', 'ã§a', '!'], ['saisissez-vous', 'de', 'ã§a', '!'], ['attrape', 'ã§a', '!'], ['attrapez', 'ã§a', '!'], ['pas', 'toucheâ€¯', '!'], ['il', 'est', 'malade', '.'], ['il', 'est', 'vieux', '.'], ['il', 'est', 'dj', '.'], ['il', 'est', 'bon', '.'], ['il', 'est', 'paresseux', '.'], ['il', 'est', 'riche', '.'], ['il', 'est', 'sexy', '.'], ['me', 'voici', '.'], ['voilã', '', 'cinq', 'dollars', '.'], ['halte', 'au', 'feu', '!'], ['cessez', 'le', 'feu', '!'], ['tiens', 'ã§a', '!'], ['tenez', 'ã§a', '!'], ['tenez', 'ceci', '!'], ['tiens', 'ceci', '!'], [\"c'est\", 'affreuxâ€¯', '!'], ['comme', \"c'est\", 'bizarre', '!'], ['comment', 'tom', 'va-t-il', '?'], ['comment', 'va', 'tom', '?'], ['je', 'suis', 'occupã©', '.'], ['je', 'suis', 'calme', '.'], [\"j'ai\", 'froid', '.'], ['je', 'vais', 'bien', '.'], ['je', 'suis', 'bon', '.'], ['je', 'suis', 'ici', '.'], ['je', 'suis', 'paresseux', '.'], ['je', 'suis', 'fainã©ant', '.'], ['je', 'suis', 'paresseuse', '.'], ['je', 'suis', 'fainã©ante', '.'], ['je', 'vais', 'bien', '.'], ['je', 'suis', 'malade', '.'], ['je', 'suis', 'sã»r', '.'], ['je', 'suis', 'certain', '.'], ['je', 'suis', 'faible', '.'], ['je', 'vous', 'en', 'prie', '.'], ['je', 'vous', 'en', 'conjure', '.'], ['je', 'vous', 'en', 'supplie', '.'], ['je', 'te', 'prie', '.'], ['je', 'sais', 'courir', '.'], ['je', 'sais', 'skier', '.'], [\"j'eus\", 'un', 'mouvement', 'de', 'recul', '.'], [\"j'ai\", 'eu', 'un', 'mouvement', 'de', 'recul', '.'], ['je', 'suis', 'rentrã©', 'en', 'moi-mãªme', '.'], ['jâ€™ai', 'expirã©', '.'], [\"j'ai\", 'abandonnã©', '.'], ['je', 'donne', 'ma', 'langue', 'au', 'chat', '.'], [\"j'abandonne\", '.'], ['je', 'me', 'suis', 'mis', 'ã', '', 'avoir', 'chaud', '.'], ['je', 'me', 'suis', 'mise', 'ã', '', 'avoir', 'chaud', '.'], ['je', 'me', 'suis', 'amusã©', '.'], ['je', 'me', 'suis', 'amusã©e', '.'], ['je', 'me', 'suis', 'marrã©', '.'], ['je', 'me', 'suis', 'marrã©e', '.'], ['je', 'dã©teste', 'ã§a', '.'], ['je', \"l'ai\", '.'], [\"j'ai\", 'frappã©', 'tom', '.'], [\"j'espã¨re\", 'bien', '.'], ['je', 'me', 'suis', 'dã©pãªchã©', '.'], ['je', 'me', 'suis', 'dã©pãªchã©e', '.'], ['jâ€™ai', 'inspirã©', '.'], ['je', 'le', 'savais', '.'], [\"j'aime\", 'ã§a', '.'], ['je', 'lâ€™ai', 'perdu', '.'], [\"j'adore\", 'ã§a', '!'], [\"j'adore\", 'ã§a', '!'], ['je', 'suis', 'sã©rieuxâ€¯', '!'], ['je', 'suis', 'sã©rieux', '.'], ['je', 'dois', 'y', 'aller', '.'], ['il', 'faut', 'que', \"j'y\", 'aille', '.'], ['il', 'me', 'faut', 'y', 'aller', '.'], ['il', 'me', 'faut', 'partir', '.'], ['il', 'me', 'faut', \"m'en\", 'aller', '.'], ['je', 'dois', 'partir', '.'], ['je', 'dois', \"m'en\", 'aller', '.'], ['il', 'faut', 'que', 'je', \"m'en\", 'aille', '.'], [\"j'en\", 'ai', 'besoin', '.'], ['il', 'me', 'le', 'faut', '.'], [\"j'ai\", 'remarquã©', '.'], [\"j'ai\", 'payã©', \"d'avance\", '.'], ['je', 'le', 'promets', '.'], ['je', 'me', 'suis', 'dã©tendu', '.'], ['je', 'me', 'suis', 'dã©tendue', '.'], [\"j'ai\", 'pris', 'ma', 'retraite', '.'], [\"j'ai\", 'dit', 'non', '.'], ['je', \"l'ai\", 'dit', '.'], ['je', \"l'ai\", 'vu', '.'], ['je', 'lâ€™ai', 'vu', '.'], ['je', 'le', 'vis', '.'], [\"j'en\", 'ai', 'vu', 'une', '.'], [\"j'en\", 'ai', 'vu', 'un', '.'], ['je', 'vous', 'vis', '.'], ['je', 'te', 'vis', '.'], ['je', \"t'ai\", 'vue', '.'], ['je', \"t'ai\", 'vu', '.'], ['je', 'vous', 'ai', 'vues', '.'], ['je', 'vous', 'ai', 'vus', '.'], ['je', 'vous', 'ai', 'vue', '.'], ['je', 'vous', 'ai', 'vu', '.']]\n"
     ]
    }
   ],
   "source": [
    "# print(text)\n",
    "print(source)\n",
    "print(target)"
   ]
  },
  {
   "cell_type": "code",
   "execution_count": 39,
   "metadata": {},
   "outputs": [
    {
     "ename": "TypeError",
     "evalue": "unsupported operand type(s) for +: 'int' and 'list'",
     "output_type": "error",
     "traceback": [
      "\u001b[1;31m---------------------------------------------------------------------------\u001b[0m",
      "\u001b[1;31mTypeError\u001b[0m                                 Traceback (most recent call last)",
      "\u001b[1;32m~\\AppData\\Local\\Temp/ipykernel_23408/824821610.py\u001b[0m in \u001b[0;36m<module>\u001b[1;34m\u001b[0m\n\u001b[0;32m      1\u001b[0m \u001b[0mbatch_size\u001b[0m \u001b[1;33m=\u001b[0m \u001b[1;36m64\u001b[0m\u001b[1;33m\u001b[0m\u001b[1;33m\u001b[0m\u001b[0m\n\u001b[0;32m      2\u001b[0m \u001b[0mnum_steps\u001b[0m \u001b[1;33m=\u001b[0m \u001b[1;36m10\u001b[0m\u001b[1;33m\u001b[0m\u001b[1;33m\u001b[0m\u001b[0m\n\u001b[1;32m----> 3\u001b[1;33m \u001b[0mtrain_iter\u001b[0m\u001b[1;33m,\u001b[0m \u001b[0msrc_vocab\u001b[0m\u001b[1;33m,\u001b[0m \u001b[0mtgt_vocab\u001b[0m \u001b[1;33m=\u001b[0m \u001b[0mload_data_nmt\u001b[0m\u001b[1;33m(\u001b[0m\u001b[0mbatch_size\u001b[0m\u001b[1;33m,\u001b[0m \u001b[0mnum_steps\u001b[0m\u001b[1;33m)\u001b[0m\u001b[1;33m\u001b[0m\u001b[1;33m\u001b[0m\u001b[0m\n\u001b[0m",
      "\u001b[1;32m~\\AppData\\Local\\Temp/ipykernel_23408/4159522448.py\u001b[0m in \u001b[0;36mload_data_nmt\u001b[1;34m(batch_size, num_steps, num_examples)\u001b[0m\n\u001b[0;32m     87\u001b[0m     \u001b[0mtgt_vocab\u001b[0m \u001b[1;33m=\u001b[0m \u001b[0mVocab\u001b[0m\u001b[1;33m(\u001b[0m\u001b[0mtarget\u001b[0m\u001b[1;33m,\u001b[0m \u001b[0mmin_freq\u001b[0m\u001b[1;33m=\u001b[0m\u001b[1;36m2\u001b[0m\u001b[1;33m,\u001b[0m \u001b[0mreserved_tokens\u001b[0m\u001b[1;33m=\u001b[0m\u001b[1;33m[\u001b[0m\u001b[1;34m'<pad>'\u001b[0m\u001b[1;33m,\u001b[0m \u001b[1;34m'<bos>'\u001b[0m\u001b[1;33m,\u001b[0m \u001b[1;34m'<eos>'\u001b[0m\u001b[1;33m]\u001b[0m\u001b[1;33m)\u001b[0m\u001b[1;33m\u001b[0m\u001b[1;33m\u001b[0m\u001b[0m\n\u001b[0;32m     88\u001b[0m \u001b[1;33m\u001b[0m\u001b[0m\n\u001b[1;32m---> 89\u001b[1;33m     \u001b[0msrc_array\u001b[0m\u001b[1;33m,\u001b[0m \u001b[0msrc_valid_len\u001b[0m \u001b[1;33m=\u001b[0m \u001b[0mbuild_array_nmt\u001b[0m\u001b[1;33m(\u001b[0m\u001b[0msource\u001b[0m\u001b[1;33m,\u001b[0m \u001b[0msrc_vocab\u001b[0m\u001b[1;33m,\u001b[0m \u001b[0mnum_steps\u001b[0m\u001b[1;33m)\u001b[0m\u001b[1;33m\u001b[0m\u001b[1;33m\u001b[0m\u001b[0m\n\u001b[0m\u001b[0;32m     90\u001b[0m     \u001b[0mtgt_array\u001b[0m\u001b[1;33m,\u001b[0m \u001b[0mtgt_valid_len\u001b[0m \u001b[1;33m=\u001b[0m \u001b[0mbuild_array_nmt\u001b[0m\u001b[1;33m(\u001b[0m\u001b[0mtarget\u001b[0m\u001b[1;33m,\u001b[0m \u001b[0mtgt_vocab\u001b[0m\u001b[1;33m,\u001b[0m \u001b[0mnum_steps\u001b[0m\u001b[1;33m)\u001b[0m\u001b[1;33m\u001b[0m\u001b[1;33m\u001b[0m\u001b[0m\n\u001b[0;32m     91\u001b[0m \u001b[1;33m\u001b[0m\u001b[0m\n",
      "\u001b[1;32m~\\AppData\\Local\\Temp/ipykernel_23408/4159522448.py\u001b[0m in \u001b[0;36mbuild_array_nmt\u001b[1;34m(lines, vocab, num_steps)\u001b[0m\n\u001b[0;32m     68\u001b[0m     \u001b[1;34m\"\"\"Transform text sequences of machine translation into mini-batches.\"\"\"\u001b[0m\u001b[1;33m\u001b[0m\u001b[1;33m\u001b[0m\u001b[0m\n\u001b[0;32m     69\u001b[0m     \u001b[0mlines\u001b[0m \u001b[1;33m=\u001b[0m \u001b[1;33m[\u001b[0m\u001b[0mvocab\u001b[0m\u001b[1;33m[\u001b[0m\u001b[0ml\u001b[0m\u001b[1;33m]\u001b[0m \u001b[1;32mfor\u001b[0m \u001b[0ml\u001b[0m \u001b[1;32min\u001b[0m \u001b[0mlines\u001b[0m\u001b[1;33m]\u001b[0m\u001b[1;33m\u001b[0m\u001b[1;33m\u001b[0m\u001b[0m\n\u001b[1;32m---> 70\u001b[1;33m     \u001b[0mlines\u001b[0m \u001b[1;33m=\u001b[0m \u001b[1;33m[\u001b[0m\u001b[0ml\u001b[0m \u001b[1;33m+\u001b[0m \u001b[1;33m[\u001b[0m\u001b[0mvocab\u001b[0m\u001b[1;33m[\u001b[0m\u001b[1;34m'<eos>'\u001b[0m\u001b[1;33m]\u001b[0m\u001b[1;33m]\u001b[0m \u001b[1;32mfor\u001b[0m \u001b[0ml\u001b[0m \u001b[1;32min\u001b[0m \u001b[0mlines\u001b[0m\u001b[1;33m]\u001b[0m\u001b[1;33m\u001b[0m\u001b[1;33m\u001b[0m\u001b[0m\n\u001b[0m\u001b[0;32m     71\u001b[0m     array = torch.tensor([truncate_pad(\n\u001b[0;32m     72\u001b[0m         l, num_steps, vocab['<pad>']) for l in lines])\n",
      "\u001b[1;32m~\\AppData\\Local\\Temp/ipykernel_23408/4159522448.py\u001b[0m in \u001b[0;36m<listcomp>\u001b[1;34m(.0)\u001b[0m\n\u001b[0;32m     68\u001b[0m     \u001b[1;34m\"\"\"Transform text sequences of machine translation into mini-batches.\"\"\"\u001b[0m\u001b[1;33m\u001b[0m\u001b[1;33m\u001b[0m\u001b[0m\n\u001b[0;32m     69\u001b[0m     \u001b[0mlines\u001b[0m \u001b[1;33m=\u001b[0m \u001b[1;33m[\u001b[0m\u001b[0mvocab\u001b[0m\u001b[1;33m[\u001b[0m\u001b[0ml\u001b[0m\u001b[1;33m]\u001b[0m \u001b[1;32mfor\u001b[0m \u001b[0ml\u001b[0m \u001b[1;32min\u001b[0m \u001b[0mlines\u001b[0m\u001b[1;33m]\u001b[0m\u001b[1;33m\u001b[0m\u001b[1;33m\u001b[0m\u001b[0m\n\u001b[1;32m---> 70\u001b[1;33m     \u001b[0mlines\u001b[0m \u001b[1;33m=\u001b[0m \u001b[1;33m[\u001b[0m\u001b[0ml\u001b[0m \u001b[1;33m+\u001b[0m \u001b[1;33m[\u001b[0m\u001b[0mvocab\u001b[0m\u001b[1;33m[\u001b[0m\u001b[1;34m'<eos>'\u001b[0m\u001b[1;33m]\u001b[0m\u001b[1;33m]\u001b[0m \u001b[1;32mfor\u001b[0m \u001b[0ml\u001b[0m \u001b[1;32min\u001b[0m \u001b[0mlines\u001b[0m\u001b[1;33m]\u001b[0m\u001b[1;33m\u001b[0m\u001b[1;33m\u001b[0m\u001b[0m\n\u001b[0m\u001b[0;32m     71\u001b[0m     array = torch.tensor([truncate_pad(\n\u001b[0;32m     72\u001b[0m         l, num_steps, vocab['<pad>']) for l in lines])\n",
      "\u001b[1;31mTypeError\u001b[0m: unsupported operand type(s) for +: 'int' and 'list'"
     ]
    }
   ],
   "source": [
    "batch_size = 64\n",
    "num_steps = 10\n",
    "train_iter, src_vocab, tgt_vocab = load_data_nmt(batch_size, num_steps)"
   ]
  },
  {
   "attachments": {},
   "cell_type": "markdown",
   "metadata": {},
   "source": [
    "## Encoder and Decoder"
   ]
  },
  {
   "cell_type": "code",
   "execution_count": null,
   "metadata": {},
   "outputs": [],
   "source": [
    "def sequence_mask(X, valid_len, value=0):\n",
    "    \"\"\"Mask irrelevant entries in sequences.\"\"\"\n",
    "    maxlen = X.size(1)\n",
    "    mask = torch.arange((maxlen), dtype=torch.float32,\n",
    "                        device=X.device)[None, :] < valid_len[:, None]\n",
    "    X[~mask] = value\n",
    "    return X"
   ]
  },
  {
   "cell_type": "code",
   "execution_count": null,
   "metadata": {},
   "outputs": [],
   "source": [
    "def masked_softmax(X, valid_lens):\n",
    "    \"\"\"Perform softmax operation by masking elements on the last axis.\"\"\"\n",
    "    # `X`: 3D tensor, `valid_lens`: 1D or 2D tensor\n",
    "    if valid_lens is None:\n",
    "        return nn.functional.softmax(X, dim=-1)\n",
    "    else:\n",
    "        shape = X.shape\n",
    "        if valid_lens.dim() == 1:\n",
    "            valid_lens = torch.repeat_interleave(valid_lens, shape[1])\n",
    "        else:\n",
    "            valid_lens = valid_lens.reshape(-1)\n",
    "        # On the last axis, replace masked elements with a very large negative\n",
    "        # value, whose exponentiation outputs 0\n",
    "        X = sequence_mask(X.reshape(-1, shape[-1]), valid_lens,\n",
    "                          value=-1e6)\n",
    "        return F.softmax(X.reshape(shape), dim=-1)"
   ]
  },
  {
   "cell_type": "code",
   "execution_count": null,
   "metadata": {},
   "outputs": [],
   "source": [
    "class AdditiveAttention(nn.Module):\n",
    "    \"\"\"Additive attention.\"\"\"\n",
    "    def __init__(self, key_size, query_size, num_hiddens, dropout, **kwargs):\n",
    "        super(AdditiveAttention, self).__init__(**kwargs)\n",
    "        self.W_k = nn.Linear(key_size, num_hiddens, bias=False)\n",
    "        self.W_q = nn.Linear(query_size, num_hiddens, bias=False)\n",
    "        self.w_v = nn.Linear(num_hiddens, 1, bias=False)\n",
    "        self.dropout = nn.Dropout(dropout)\n",
    "\n",
    "    def forward(self, queries, keys, values, valid_lens):\n",
    "        queries, keys = self.W_q(queries), self.W_k(keys)\n",
    "        # After dimension expansion, shape of `queries` is: (`batch_size`, no. \n",
    "        # of queries, 1, `num_hiddens`) and shape of `keys` is: (`batch_size`, \n",
    "        # 1, no. of key-value pairs, `num_hiddens`). Sum them up with\n",
    "        # broadcasting\n",
    "        features = queries.unsqueeze(2) + keys.unsqueeze(1)\n",
    "        features = torch.tanh(features)\n",
    "        # There is only one output of `self.w_v`, so we remove the last\n",
    "        # one-dimensional entry from the shape. Shape of `scores` is:\n",
    "        # (`batch_size`, no. of queries, no. of key-value pairs)\n",
    "        scores = self.w_v(features).squeeze(-1)\n",
    "        self.attention_weights = masked_softmax(scores, valid_lens)\n",
    "        # Shape of `values` is: (`batch_size`, no. of key-value pairs, value\n",
    "        # dimension)\n",
    "        return torch.bmm(self.dropout(self.attention_weights), values)"
   ]
  },
  {
   "cell_type": "code",
   "execution_count": null,
   "metadata": {},
   "outputs": [],
   "source": [
    "class Decoder(nn.Module):\n",
    "    \"\"\"The base decoder interface for the encoder-decoder architecture.\"\"\"\n",
    "    def __init__(self, **kwargs):\n",
    "        super(Decoder, self).__init__(**kwargs)\n",
    "\n",
    "    def init_state(self, enc_outputs, *args):\n",
    "        raise NotImplementedError\n",
    "\n",
    "    def forward(self, X, state):\n",
    "        raise NotImplementedError\n",
    "    \n",
    "class AttentionDecoder(Decoder):\n",
    "    \"\"\"The base attention-based decoder interface.\"\"\"\n",
    "    def __init__(self, **kwargs):\n",
    "        super(AttentionDecoder, self).__init__(**kwargs)\n",
    "\n",
    "    @property\n",
    "    def attention_weights(self):\n",
    "        raise NotImplementedError\n",
    "    \n",
    "class Seq2SeqAttentionDecoder(AttentionDecoder):\n",
    "    def __init__(self, vocab_size, embed_size, num_hiddens, num_layers,\n",
    "                 dropout=0, **kwargs):\n",
    "        super(Seq2SeqAttentionDecoder, self).__init__(**kwargs)\n",
    "        self.attention = AdditiveAttention(\n",
    "            num_hiddens, num_hiddens, num_hiddens, dropout)\n",
    "        self.embedding = nn.Embedding(vocab_size, embed_size)\n",
    "        self.rnn = nn.GRU(\n",
    "            embed_size + num_hiddens, num_hiddens, num_layers,\n",
    "            dropout=dropout)\n",
    "        self.dense = nn.Linear(num_hiddens, vocab_size)\n",
    "\n",
    "    def init_state(self, enc_outputs, enc_valid_lens, *args):\n",
    "        # Shape of `outputs` is: (`num_steps`, `batch_size`, `num_hiddens`).\n",
    "        # Shape of `hidden_state[0]` is: (`num_layers`, `batch_size`,\n",
    "        # `num_hiddens`)\n",
    "        outputs, hidden_state = enc_outputs\n",
    "        return (outputs.permute(1, 0, 2), hidden_state, enc_valid_lens)\n",
    "\n",
    "    def forward(self, X, state):\n",
    "        # Shape of `enc_outputs` is: (`batch_size`, `num_steps`, `num_hiddens`).\n",
    "        # Shape of `hidden_state[0]` is: (`num_layers`, `batch_size`,\n",
    "        # `num_hiddens`)\n",
    "        enc_outputs, hidden_state, enc_valid_lens = state\n",
    "        # Shape of the output `X` is: (`num_steps`, `batch_size`, `embed_size`)\n",
    "        X = self.embedding(X).permute(1, 0, 2)\n",
    "        outputs, self._attention_weights = [], []\n",
    "        for x in X:\n",
    "            # Shape of `query` is: (`batch_size`, 1, `num_hiddens`)\n",
    "            query = torch.unsqueeze(hidden_state[-1], dim=1)\n",
    "            # Shape of `context` is: (`batch_size`, 1, `num_hiddens`)\n",
    "            context = self.attention(\n",
    "                query, enc_outputs, enc_outputs, enc_valid_lens)\n",
    "            # Concatenate on the feature dimension\n",
    "            x = torch.cat((context, torch.unsqueeze(x, dim=1)), dim=-1)\n",
    "            # Reshape `x` as (1, `batch_size`, `embed_size` + `num_hiddens`)\n",
    "            out, hidden_state = self.rnn(x.permute(1, 0, 2), hidden_state)\n",
    "            outputs.append(out)\n",
    "            self._attention_weights.append(self.attention.attention_weights)\n",
    "        # After fully-connected layer transformation, shape of `outputs` is:\n",
    "        # (`num_steps`, `batch_size`, `vocab_size`)\n",
    "        outputs = self.dense(torch.cat(outputs, dim=0))\n",
    "        return outputs.permute(1, 0, 2), [enc_outputs, hidden_state,\n",
    "                                          enc_valid_lens]\n",
    "\n",
    "    @property\n",
    "    def attention_weights(self):\n",
    "        return self._attention_weights"
   ]
  },
  {
   "cell_type": "code",
   "execution_count": null,
   "metadata": {},
   "outputs": [],
   "source": [
    "class Encoder(nn.Module):\n",
    "    \"\"\"The base encoder interface for the encoder-decoder architecture.\"\"\"\n",
    "    def __init__(self, **kwargs):\n",
    "        super(Encoder, self).__init__(**kwargs)\n",
    "\n",
    "    def forward(self, X, *args):\n",
    "        raise NotImplementedError\n",
    "\n",
    "class Seq2SeqEncoder(Encoder):\n",
    "    \"\"\"The RNN encoder for sequence to sequence learning.\"\"\"\n",
    "    def __init__(self, vocab_size, embed_size, num_hiddens, num_layers,\n",
    "                 dropout=0, **kwargs):\n",
    "        super(Seq2SeqEncoder, self).__init__(**kwargs)\n",
    "        # Embedding layer\n",
    "        self.embedding = nn.Embedding(vocab_size, embed_size)\n",
    "        self.rnn = nn.GRU(embed_size, num_hiddens, num_layers,\n",
    "                          dropout=dropout)\n",
    "\n",
    "    def forward(self, X, *args):\n",
    "        # The output `X` shape: (`batch_size`, `num_steps`, `embed_size`)\n",
    "        X = self.embedding(X)\n",
    "        # In RNN models, the first axis corresponds to time steps\n",
    "        X = X.permute(1, 0, 2)\n",
    "        # When state is not mentioned, it defaults to zeros\n",
    "        output, state = self.rnn(X)\n",
    "        # `output` shape: (`num_steps`, `batch_size`, `num_hiddens`)\n",
    "        # `state` shape: (`num_layers`, `batch_size`, `num_hiddens`)\n",
    "        return output, state"
   ]
  },
  {
   "cell_type": "code",
   "execution_count": null,
   "metadata": {},
   "outputs": [],
   "source": []
  },
  {
   "cell_type": "code",
   "execution_count": 2,
   "metadata": {},
   "outputs": [],
   "source": [
    "import collections\n",
    "import os\n",
    "import random\n",
    "import re\n",
    "from typing import Literal\n",
    "\n",
    "import requests\n",
    "\n",
    "def download(url: str) -> str:\n",
    "    \"\"\"Download a file, return the local filename.\"\"\"\n",
    "    file_path = '../data/' + url.split('/')[-1]\n",
    "    if os.path.exists(file_path):\n",
    "        return file_path\n",
    "    \n",
    "    print(f'Downloading {file_path} from {url}...')\n",
    "    res = requests.get(url, stream=True, verify=True)\n",
    "    with open(file_path, 'wb') as f:\n",
    "        f.write(res.content)\n",
    "    return file_path\n",
    "\n",
    "def read_time_machine() -> list[str]:\n",
    "    \"\"\"Load the time machine dataset into a list of text lines.\"\"\"\n",
    "    file = download('http://d2l-data.s3-accelerate.amazonaws.com/timemachine.txt')\n",
    "    with open(file, 'r') as f:\n",
    "        lines = f.readlines()\n",
    "    \n",
    "    lines_transformed = [re.sub('[^A-Za-z]+', ' ', line).strip().lower() for line in lines]\n",
    "    return [line for line in lines_transformed if line]\n",
    "\n",
    "def tokenize(lines: list[str], token: Literal['word', 'char']='word') -> list[str]:\n",
    "    \"\"\"Split text lines into word or character tokens.\"\"\"\n",
    "    if token == 'word':\n",
    "        tokens: list[list[str]] =  [line.split() for line in lines]\n",
    "    else:\n",
    "        tokens: list[list[str]] = [list(line) for line in lines]\n",
    "    return [token for sublist in tokens for token in sublist]\n",
    "    \n",
    "def count_corpus(tokens: list[str]) -> collections.Counter[str]:\n",
    "    \"\"\"Count token frequencies.\"\"\"\n",
    "    return collections.Counter(tokens)"
   ]
  },
  {
   "cell_type": "code",
   "execution_count": 3,
   "metadata": {},
   "outputs": [],
   "source": [
    "class Vocab:\n",
    "    \"\"\"Vocabulary for text.\"\"\"\n",
    "    def __init__(self, tokens: list[str]=[], min_freq=0, reserved_tokens: list[str]=[]):\n",
    "        # Sort according to frequencies\n",
    "        counter = count_corpus(tokens)\n",
    "        self._token_freqs = sorted(counter.items(), key=lambda x: x[1],\n",
    "                                   reverse=True)\n",
    "        # The index for the unknown token is 0\n",
    "        self.idx_to_token = ['<unk>'] + reserved_tokens + [token for token, freq in self._token_freqs if freq >= min_freq]\n",
    "        self.token_to_idx =  {token: idx for idx, token in enumerate(self.idx_to_token)}\n",
    "\n",
    "    def __len__(self) -> int:\n",
    "        return len(self.idx_to_token)\n",
    "\n",
    "    def __getitem__(self, tokens: str | list[str]) -> int | list[int]:\n",
    "        if not isinstance(tokens, (list, tuple)):\n",
    "            return self.token_to_idx.get(tokens, self.unk)\n",
    "        return [self.token_to_idx.get(token, self.unk) for token in tokens]\n",
    "\n",
    "    def to_tokens(self, indices: int | list[int]) -> str | list[str]:\n",
    "        if not isinstance(indices, (list, tuple)):\n",
    "            return self.idx_to_token[indices]\n",
    "        return [self.idx_to_token[index] for index in indices]\n",
    "\n",
    "    @property\n",
    "    def unk(self) -> Literal[0]:  # Index for the unknown token\n",
    "        return 0\n",
    "\n",
    "    @property\n",
    "    def token_freqs(self) -> list[tuple[str, int]]:  # Token frequencies\n",
    "        return self._token_freqs\n",
    "\n",
    "\n",
    "class SeqDataLoader:\n",
    "    \"\"\"An iterator to load sequence data.\"\"\"\n",
    "    def __init__(self, batch_size: int, num_steps: int, max_tokens: int=10000):\n",
    "        self.batch_size = batch_size\n",
    "        self.num_steps = num_steps\n",
    "        self.vocab = self.generate_vocab()\n",
    "        self.corpus = self.generate_corpus(max_tokens)\n",
    "        \n",
    "    def generate_vocab(self) -> Vocab:\n",
    "        lines = read_time_machine()\n",
    "        tokens = tokenize(lines, 'char')\n",
    "        return Vocab(tokens)\n",
    "    \n",
    "    def generate_corpus(self, max_tokens):\n",
    "        tokens = tokenize(read_time_machine(), 'char')\n",
    "        corpus = [self.vocab[token] for line in tokens for token in line]\n",
    "        return corpus[:max_tokens]\n",
    "\n",
    "    def __iter__(self):\n",
    "        \"\"\"Generate a mini-batch of subsequences using sequential partitioning.\"\"\"\n",
    "        # Start with a random offset to partition a sequence\n",
    "        offset = random.randint(0, self.num_steps)\n",
    "        num_tokens = ((len(self.corpus) - offset - 1) // self.batch_size) * self.batch_size\n",
    "        Xs = torch.tensor(self.corpus[offset: offset + num_tokens])\n",
    "        Ys = torch.tensor(self.corpus[offset + 1: offset + 1 + num_tokens])\n",
    "        Xs, Ys = Xs.reshape(self.batch_size, -1), Ys.reshape(self.batch_size, -1)\n",
    "        num_batches = Xs.shape[1] // self.num_steps\n",
    "        for i in range(0, self.num_steps * num_batches, self.num_steps):\n",
    "            X = Xs[:, i: i + self.num_steps]\n",
    "            Y = Ys[:, i: i + self.num_steps]\n",
    "            yield X, Y"
   ]
  },
  {
   "cell_type": "code",
   "execution_count": 4,
   "metadata": {},
   "outputs": [],
   "source": [
    "batch = 50\n",
    "steps = 10"
   ]
  },
  {
   "cell_type": "code",
   "execution_count": 5,
   "metadata": {},
   "outputs": [],
   "source": [
    "train_iter = SeqDataLoader(batch, steps)\n",
    "vocab = train_iter.vocab"
   ]
  },
  {
   "cell_type": "code",
   "execution_count": null,
   "metadata": {},
   "outputs": [],
   "source": [
    "input_size = vocab_size = len(vocab)\n",
    "hidden_size = 64"
   ]
  },
  {
   "cell_type": "code",
   "execution_count": null,
   "metadata": {},
   "outputs": [],
   "source": [
    "lstm_layer = nn.LSTM(input_size, hidden_size)\n",
    "net = nn.RNN(lstm_layer, vocab_size)"
   ]
  },
  {
   "cell_type": "code",
   "execution_count": null,
   "metadata": {},
   "outputs": [],
   "source": [
    "perplexities = train(net, train_iter, vocab, lr=1, num_epochs=100, device)"
   ]
  }
 ],
 "metadata": {
  "kernelspec": {
   "display_name": "Python 3.10.7 64-bit",
   "language": "python",
   "name": "python3"
  },
  "language_info": {
   "codemirror_mode": {
    "name": "ipython",
    "version": 3
   },
   "file_extension": ".py",
   "mimetype": "text/x-python",
   "name": "python",
   "nbconvert_exporter": "python",
   "pygments_lexer": "ipython3",
   "version": "3.10.7 (tags/v3.10.7:6cc6b13, Sep  5 2022, 14:08:36) [MSC v.1933 64 bit (AMD64)]"
  },
  "orig_nbformat": 4,
  "vscode": {
   "interpreter": {
    "hash": "369f2c481f4da34e4445cda3fffd2e751bd1c4d706f27375911949ba6bb62e1c"
   }
  }
 },
 "nbformat": 4,
 "nbformat_minor": 2
}
