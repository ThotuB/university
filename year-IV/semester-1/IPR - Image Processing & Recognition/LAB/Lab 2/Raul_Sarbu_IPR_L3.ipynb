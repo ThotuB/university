{
  "cells": [
    {
      "cell_type": "markdown",
      "metadata": {
        "id": "a1W7tbpsjBEU"
      },
      "source": []
    },
    {
      "cell_type": "code",
      "execution_count": 1,
      "metadata": {
        "id": "2tYpds9Qi5S0"
      },
      "outputs": [],
      "source": [
        "import torch\n",
        "import matplotlib.pyplot as plt\n",
        "import numpy as np\n",
        "\n",
        "torch.manual_seed(42)\n",
        "np.random.seed(42)"
      ]
    },
    {
      "cell_type": "code",
      "execution_count": 2,
      "metadata": {
        "id": "lZ59J5x7jIV-"
      },
      "outputs": [],
      "source": [
        "def synthetic_data(w, b, num_examples):  \n",
        "    \"\"\"Generate y = Xw + b + noise.\"\"\"\n",
        "    X = torch.normal(0, 1, (num_examples, len(w)))\n",
        "    y = X @ w + b\n",
        "    y += torch.normal(0, 0.01, y.shape)\n",
        "    return X, y.reshape(-1, 1)"
      ]
    },
    {
      "cell_type": "code",
      "execution_count": 3,
      "metadata": {
        "id": "3-u7f8Ozjas1"
      },
      "outputs": [],
      "source": [
        "true_w = torch.tensor([0.15, -0.2, 0.1])\n",
        "true_b = 0.2\n",
        "features, labels = synthetic_data(true_w, true_b, 2000)"
      ]
    },
    {
      "cell_type": "code",
      "execution_count": 4,
      "metadata": {
        "colab": {
          "base_uri": "https://localhost:8080/"
        },
        "id": "c31DBeUmjcvT",
        "outputId": "7d3bb6f8-943b-44e5-9b15-6edbff4e0625"
      },
      "outputs": [
        {
          "name": "stdout",
          "output_type": "stream",
          "text": [
            "Features: tensor([1.9269, 1.4873, 0.9007]) \n",
            "Label: tensor([0.2770])\n"
          ]
        }
      ],
      "source": [
        "print('Features:', features[0], '\\nLabel:', labels[0])"
      ]
    },
    {
      "cell_type": "code",
      "execution_count": null,
      "metadata": {
        "id": "dp0y98H8kIOO"
      },
      "outputs": [],
      "source": [
        "# `nn` is an abbreviation for neural networks\n",
        "from torch import nn\n",
        "\n",
        "net = nn.Sequential(nn.Linear(3, 1))"
      ]
    },
    {
      "cell_type": "code",
      "execution_count": null,
      "metadata": {
        "colab": {
          "base_uri": "https://localhost:8080/"
        },
        "id": "FrDS92CdkMPe",
        "outputId": "39f68efe-7d73-4f8d-a82d-3b305fef9333"
      },
      "outputs": [
        {
          "data": {
            "text/plain": [
              "tensor([1.])"
            ]
          },
          "execution_count": 19,
          "metadata": {},
          "output_type": "execute_result"
        }
      ],
      "source": [
        "net[0].weight.data.normal_(1, 0.01)\n",
        "net[0].bias.data.fill_(1)"
      ]
    },
    {
      "cell_type": "code",
      "execution_count": null,
      "metadata": {
        "id": "elpGmo14lPrC"
      },
      "outputs": [],
      "source": [
        "def data_iter(batch_size, features, labels):\n",
        "    num_examples = len(features)\n",
        "    indices = list(range(num_examples))\n",
        "    # The examples are read at random, in no particular order\n",
        "    np.random.shuffle(indices)\n",
        "    for i in range(0, num_examples, batch_size):\n",
        "        batch_indices = torch.tensor(\n",
        "            indices[i: min(i + batch_size, num_examples)])\n",
        "        yield features[batch_indices], labels[batch_indices]"
      ]
    },
    {
      "cell_type": "code",
      "execution_count": null,
      "metadata": {
        "colab": {
          "base_uri": "https://localhost:8080/"
        },
        "id": "2FyRIgc_m9rg",
        "outputId": "b2cf5f34-e852-4e58-a819-e29c86e21748"
      },
      "outputs": [
        {
          "name": "stdout",
          "output_type": "stream",
          "text": [
            "tensor([[ 2.1447, -0.3438,  0.9131],\n",
            "        [ 0.1211,  0.2984,  1.3448],\n",
            "        [ 1.8795, -2.4740,  1.3030],\n",
            "        [-0.6941, -0.9816, -0.0556],\n",
            "        [-0.6164,  1.0153,  0.5953],\n",
            "        [-0.5714,  0.7842,  0.4095],\n",
            "        [ 1.2097,  0.8767,  1.8313],\n",
            "        [-0.6664,  0.4921, -0.9834],\n",
            "        [-0.3370, -1.1753,  0.3581],\n",
            "        [-0.1277,  0.0366,  0.5164],\n",
            "        [-1.6022,  1.3529,  1.2888],\n",
            "        [ 1.1610, -1.7791,  0.8086],\n",
            "        [ 0.7456, -0.4641,  0.3541],\n",
            "        [ 1.9378, -0.5536, -1.3030],\n",
            "        [ 1.2010,  0.6756, -1.8900],\n",
            "        [-0.3197, -0.9131,  1.9192],\n",
            "        [ 0.9801,  0.1196, -0.0612],\n",
            "        [ 0.6664, -0.0743, -0.2096],\n",
            "        [ 0.1111,  0.3885,  0.5479],\n",
            "        [ 0.1375, -0.1533,  1.2170]]) \n",
            " tensor([[ 0.6771],\n",
            "        [ 0.2912],\n",
            "        [ 1.1110],\n",
            "        [ 0.2879],\n",
            "        [-0.0412],\n",
            "        [-0.0217],\n",
            "        [ 0.3929],\n",
            "        [-0.0979],\n",
            "        [ 0.4302],\n",
            "        [ 0.2235],\n",
            "        [-0.1889],\n",
            "        [ 0.7922],\n",
            "        [ 0.4265],\n",
            "        [ 0.4530],\n",
            "        [ 0.0678],\n",
            "        [ 0.5315],\n",
            "        [ 0.3212],\n",
            "        [ 0.2941],\n",
            "        [ 0.1943],\n",
            "        [ 0.3727]])\n"
          ]
        }
      ],
      "source": [
        "batch_size = 20\n",
        "\n",
        "for X, y in data_iter(batch_size, features, labels):\n",
        "    print(X, '\\n', y)\n",
        "    break"
      ]
    },
    {
      "cell_type": "code",
      "execution_count": null,
      "metadata": {
        "id": "ZkFNNiVkHX4R"
      },
      "outputs": [],
      "source": [
        "def mse(feat, lab):\n",
        "  diff = torch.sub(feat, lab)\n",
        "  square = torch.mul(diff, diff)\n",
        "  return torch.mean(square)"
      ]
    },
    {
      "cell_type": "code",
      "execution_count": null,
      "metadata": {
        "id": "o6Xop44HzYii"
      },
      "outputs": [],
      "source": [
        "def load_array(data_arrays, batch_size, is_train=True): \n",
        "    \"\"\"Construct a PyTorch data iterator.\"\"\"\n",
        "    dataset = torch.utils.data.TensorDataset(*data_arrays)\n",
        "    return torch.utils.data.DataLoader(dataset, batch_size, shuffle=is_train)"
      ]
    },
    {
      "cell_type": "code",
      "execution_count": null,
      "metadata": {
        "id": "zwh2FPcCzZ1F"
      },
      "outputs": [],
      "source": [
        "batch_size = 10\n",
        "data_iter = load_array((features, labels), batch_size)"
      ]
    },
    {
      "cell_type": "code",
      "execution_count": null,
      "metadata": {
        "colab": {
          "base_uri": "https://localhost:8080/"
        },
        "id": "VqI7yRXqygc1",
        "outputId": "05605bc5-08b3-49af-ba79-5ec7356862a7"
      },
      "outputs": [
        {
          "name": "stdout",
          "output_type": "stream",
          "text": [
            "Epoch 1, Loss 3.543106\n",
            "Epoch 2, Loss 3.543106\n",
            "Epoch 3, Loss 3.543106\n",
            "Epoch 4, Loss 3.543106\n",
            "Epoch 5, Loss 3.543106\n",
            "Epoch 6, Loss 3.543106\n",
            "Epoch 7, Loss 3.543106\n",
            "Epoch 8, Loss 3.543106\n",
            "Epoch 9, Loss 3.543106\n",
            "Epoch 10, Loss 3.543106\n",
            "Epoch 11, Loss 3.543106\n",
            "Epoch 12, Loss 3.543106\n",
            "Epoch 13, Loss 3.543106\n",
            "Epoch 14, Loss 3.543106\n",
            "Epoch 15, Loss 3.543106\n",
            "Epoch 16, Loss 3.543106\n",
            "Epoch 17, Loss 3.543106\n",
            "Epoch 18, Loss 3.543106\n",
            "Epoch 19, Loss 3.543106\n",
            "Epoch 20, Loss 3.543106\n",
            "Epoch 21, Loss 3.543106\n",
            "Epoch 22, Loss 3.543106\n",
            "Epoch 23, Loss 3.543106\n",
            "Epoch 24, Loss 3.543106\n",
            "Epoch 25, Loss 3.543106\n"
          ]
        }
      ],
      "source": [
        "lre = 0.2\n",
        "num_epochs = 25\n",
        "\n",
        "for epoch in range(num_epochs):\n",
        "    for X, y in data_iter:\n",
        "\n",
        "        l = mse(net(X), y)\n",
        "        l.backward()\n",
        "\n",
        "        net[0].weight.grad.data.zero_()\n",
        "        net[0].bias.grad.data.zero_()\n",
        "\n",
        "        \n",
        "        net[0].weight.data = net[0].weight.data - lre * net[0].weight.grad.data\n",
        "        net[0].bias.data = net[0].bias.data - lre * net[0].bias.grad.data\n",
        "\n",
        "    l = mse(net(features),labels)\n",
        "\n",
        "    print(f'Epoch {epoch + 1}, Loss {l:f}')"
      ]
    },
    {
      "cell_type": "code",
      "execution_count": null,
      "metadata": {
        "colab": {
          "base_uri": "https://localhost:8080/",
          "height": 423,
          "referenced_widgets": [
            "551998c420824282ae26c6061b1c9c57",
            "689a80b97935447c9bc47fe1cfbbc1fb",
            "1244bfb7bef4494180195d6cf962d33d",
            "42f55d8ed9594279ac0125bf6c1365a4",
            "2430b8aba6de484a850c5176015a90b8",
            "70dd64199bfd406ea52c63cd1d0d48ea",
            "5339503931254f0abc914a7e9d49e31f",
            "806f3793de2a46dd99e82c1e5524ef3c",
            "a766a97538a1416aaf7483653f57f3db",
            "599c2c337e8549aa839c8e1c01f10747",
            "a9026f95874c45c1a7ed7b2291259fbf",
            "25edf4c14686428f9fe4f8bbe0459372",
            "346059d49d8b4d3fafcf6dc500b0d461",
            "eb89089a92a943678fba92430a77b263",
            "60c8241e97f74a488668a002e72924b5",
            "9069132dd27e41a89ce078e4872c89d5",
            "942e4d1668f64bf7885f8333c4e10388",
            "22b4f0a2068e47f9a4afa707ffbaf171",
            "d2c3e1c3e44740b0bf07fabf526f6d5f",
            "e03ce70858814750aa9208a5770cc78c",
            "03157f2b5c944a3f937c4e1e2016702d",
            "bc6cccd4527844e1814fc20f116ef268",
            "13e57e4850354b4491540c40a2616e14",
            "a02e7a2d57f54dd2a655fa484fca912a",
            "759f04945f604eb98942c2ed50258067",
            "86b6a0d710ea4a249f5a3085b04e7327",
            "a1f4e43082d149ebaf98407ed336b18e",
            "85e6d4a61f7d4f088f480a0db40b5714",
            "f8998e5e36b54e418fd689fd18b37b67",
            "438efc21fdd2449890b0581eedb6c65a",
            "43d42609cfb74e02bde5fabe53d5d65a",
            "7ba0f29b6fd64460b3a65f0af599911e",
            "e31853aa87374f69b3073e922ac910c2",
            "ff2348c5db2f4791b957b4556bab5fbc",
            "3bb498ec370d465c8e293bf581b4f86b",
            "66be647e14e6404d94b4870a13517e9b",
            "3c66992193d94854a208d7a2f2faef9b",
            "e1a673a984984d19be860800cab11390",
            "f8e1886053154518a33e72ee82cadd86",
            "c7c3bcab491743bbaef717d00490f90f",
            "046e3c60f78848c381841f8eee17297b",
            "6dd86dab11014c9295d44c6a8cbf2a7b",
            "ba0a389c3f994ec186effdd53ffc3af6",
            "6a712744e14f420188b8e0df5cd679ea"
          ]
        },
        "id": "RlPoEP3l0Hxl",
        "outputId": "19372db8-8cfd-4cd8-afe6-9a802d26247e"
      },
      "outputs": [
        {
          "name": "stdout",
          "output_type": "stream",
          "text": [
            "Downloading http://yann.lecun.com/exdb/mnist/train-images-idx3-ubyte.gz\n",
            "Downloading http://yann.lecun.com/exdb/mnist/train-images-idx3-ubyte.gz to ../data/MNIST/raw/train-images-idx3-ubyte.gz\n"
          ]
        },
        {
          "data": {
            "application/vnd.jupyter.widget-view+json": {
              "model_id": "551998c420824282ae26c6061b1c9c57",
              "version_major": 2,
              "version_minor": 0
            },
            "text/plain": [
              "  0%|          | 0/9912422 [00:00<?, ?it/s]"
            ]
          },
          "metadata": {},
          "output_type": "display_data"
        },
        {
          "name": "stdout",
          "output_type": "stream",
          "text": [
            "Extracting ../data/MNIST/raw/train-images-idx3-ubyte.gz to ../data/MNIST/raw\n",
            "\n",
            "Downloading http://yann.lecun.com/exdb/mnist/train-labels-idx1-ubyte.gz\n",
            "Downloading http://yann.lecun.com/exdb/mnist/train-labels-idx1-ubyte.gz to ../data/MNIST/raw/train-labels-idx1-ubyte.gz\n"
          ]
        },
        {
          "data": {
            "application/vnd.jupyter.widget-view+json": {
              "model_id": "25edf4c14686428f9fe4f8bbe0459372",
              "version_major": 2,
              "version_minor": 0
            },
            "text/plain": [
              "  0%|          | 0/28881 [00:00<?, ?it/s]"
            ]
          },
          "metadata": {},
          "output_type": "display_data"
        },
        {
          "name": "stdout",
          "output_type": "stream",
          "text": [
            "Extracting ../data/MNIST/raw/train-labels-idx1-ubyte.gz to ../data/MNIST/raw\n",
            "\n",
            "Downloading http://yann.lecun.com/exdb/mnist/t10k-images-idx3-ubyte.gz\n",
            "Downloading http://yann.lecun.com/exdb/mnist/t10k-images-idx3-ubyte.gz to ../data/MNIST/raw/t10k-images-idx3-ubyte.gz\n"
          ]
        },
        {
          "data": {
            "application/vnd.jupyter.widget-view+json": {
              "model_id": "13e57e4850354b4491540c40a2616e14",
              "version_major": 2,
              "version_minor": 0
            },
            "text/plain": [
              "  0%|          | 0/1648877 [00:00<?, ?it/s]"
            ]
          },
          "metadata": {},
          "output_type": "display_data"
        },
        {
          "name": "stdout",
          "output_type": "stream",
          "text": [
            "Extracting ../data/MNIST/raw/t10k-images-idx3-ubyte.gz to ../data/MNIST/raw\n",
            "\n",
            "Downloading http://yann.lecun.com/exdb/mnist/t10k-labels-idx1-ubyte.gz\n",
            "Downloading http://yann.lecun.com/exdb/mnist/t10k-labels-idx1-ubyte.gz to ../data/MNIST/raw/t10k-labels-idx1-ubyte.gz\n"
          ]
        },
        {
          "data": {
            "application/vnd.jupyter.widget-view+json": {
              "model_id": "ff2348c5db2f4791b957b4556bab5fbc",
              "version_major": 2,
              "version_minor": 0
            },
            "text/plain": [
              "  0%|          | 0/4542 [00:00<?, ?it/s]"
            ]
          },
          "metadata": {},
          "output_type": "display_data"
        },
        {
          "name": "stdout",
          "output_type": "stream",
          "text": [
            "Extracting ../data/MNIST/raw/t10k-labels-idx1-ubyte.gz to ../data/MNIST/raw\n",
            "\n"
          ]
        }
      ],
      "source": [
        "import torchvision\n",
        "from torchvision import transforms\n",
        "\n",
        "# `ToTensor()` converts the image data from PIL type to 32-bit floating point\n",
        "# tensors. It also divides all numbers by 255, so that all pixel values are between\n",
        "# 0 and 1\n",
        "trans = transforms.ToTensor()\n",
        "mnist_train = torchvision.datasets.MNIST(\n",
        "    root=\"../data\", train=True, transform=trans, download=True)\n",
        "mnist_test = torchvision.datasets.MNIST(\n",
        "    root=\"../data\", train=False, transform=trans, download=True)"
      ]
    },
    {
      "cell_type": "code",
      "execution_count": null,
      "metadata": {
        "id": "8Q1WZTFEI1P_"
      },
      "outputs": [],
      "source": [
        "def get_nums_mnist_labels(labels):\n",
        "    \"\"\"Return text labels for the Fashion-MNIST dataset.\"\"\"\n",
        "    text_labels = ['zero', 'one', 'two', 'three', 'four',\n",
        "                   'five', 'six', 'seven', 'eight', 'nine']\n",
        "    return [text_labels[int(i)] for i in labels]"
      ]
    },
    {
      "cell_type": "code",
      "execution_count": null,
      "metadata": {
        "id": "OwLXx_V_I_Ws"
      },
      "outputs": [],
      "source": [
        "def show_images(imgs, num_rows, num_cols, titles=None, scale=1.5):\n",
        "    \"\"\"Plot a list of images.\"\"\"\n",
        "    figsize = (num_cols * scale, num_rows * scale)\n",
        "    _, axes = plt.subplots(num_rows, num_cols, figsize=figsize)\n",
        "    plt.tight_layout()\n",
        "    axes = axes.flatten()\n",
        "    for i, (ax, img) in enumerate(zip(axes, imgs)):\n",
        "        if torch.is_tensor(img):\n",
        "            # Tensor Image\n",
        "            ax.imshow(img.numpy())\n",
        "        else:\n",
        "            # PIL Image\n",
        "            ax.imshow(img)\n",
        "        ax.axes.get_xaxis().set_visible(False)\n",
        "        ax.axes.get_yaxis().set_visible(False)\n",
        "        if titles:\n",
        "            ax.set_title(titles[i])\n",
        "    return axes"
      ]
    },
    {
      "cell_type": "code",
      "execution_count": null,
      "metadata": {
        "colab": {
          "base_uri": "https://localhost:8080/",
          "height": 218
        },
        "id": "6Y7m4ztSJMSu",
        "outputId": "2e04275d-4029-40c8-8d4d-c3cf95b4ea6c"
      },
      "outputs": [
        {
          "data": {
            "image/png": "[encoded data removed]",
            "text/plain": [
              "<Figure size 972x216 with 18 Axes>"
            ]
          },
          "metadata": {},
          "output_type": "display_data"
        }
      ],
      "source": [
        "X, y = next(iter(torch.utils.data.DataLoader(mnist_train, batch_size=18)))\n",
        "show_images(X.reshape(18, 28, 28), 2, 9, titles=get_nums_mnist_labels(y));"
      ]
    },
    {
      "cell_type": "code",
      "execution_count": null,
      "metadata": {
        "id": "w32Iwbe4JdwE"
      },
      "outputs": [],
      "source": [
        "batch_size = 100\n",
        "\n",
        "train_iter = torch.utils.data.DataLoader(mnist_train, batch_size, shuffle=True, \n",
        "                                         num_workers=2)"
      ]
    },
    {
      "cell_type": "code",
      "execution_count": null,
      "metadata": {
        "id": "Uf1_498-JftR"
      },
      "outputs": [],
      "source": [
        "def load_data_mnist(batch_size, resize=None):\n",
        "    trans = [transforms.ToTensor()]\n",
        "    if resize:\n",
        "        trans.insert(0, transforms.Resize(resize))\n",
        "    trans = transforms.Compose(trans)\n",
        "    mnist_train = torchvision.datasets.MNIST(\n",
        "        root=\"../data\", train=True, transform=trans, download=True)\n",
        "    mnist_test = torchvision.datasets.MNIST(\n",
        "        root=\"../data\", train=False, transform=trans, download=True)\n",
        "    mnist_train, mnist_val = torch.utils.data.random_split(mnist_train, [30000, 30000],\n",
        "                                                           generator=torch.Generator().manual_seed(42))\n",
        "    return (torch.utils.data.DataLoader(mnist_train, batch_size, shuffle=True,\n",
        "                            num_workers=2),\n",
        "            torch.utils.data.DataLoader(mnist_val, batch_size, shuffle=False,\n",
        "                            num_workers=2),\n",
        "            torch.utils.data.DataLoader(mnist_test, batch_size, shuffle=False,\n",
        "                            num_workers=2))"
      ]
    },
    {
      "cell_type": "code",
      "execution_count": null,
      "metadata": {
        "id": "CD94KMQeJiyx"
      },
      "outputs": [],
      "source": [
        "train_iter, val_iter, test_iter = load_data_mnist(batch_size)"
      ]
    },
    {
      "cell_type": "code",
      "execution_count": null,
      "metadata": {
        "colab": {
          "base_uri": "https://localhost:8080/"
        },
        "id": "YBmRaUbPJkm_",
        "outputId": "0b7f49b2-37cc-4004-b588-0f8891cb806e"
      },
      "outputs": [
        {
          "data": {
            "text/plain": [
              "Sequential(\n",
              "  (0): Flatten(start_dim=1, end_dim=-1)\n",
              "  (1): Linear(in_features=784, out_features=10, bias=True)\n",
              ")"
            ]
          },
          "execution_count": 33,
          "metadata": {},
          "output_type": "execute_result"
        }
      ],
      "source": [
        "from torch import nn\n",
        "net = nn.Sequential(nn.Flatten(), nn.Linear(784, 10))\n",
        "\n",
        "def init_weights(m):\n",
        "    if type(m) == nn.Linear:\n",
        "        m.weight.data.normal_(1,0.1)\n",
        "\n",
        "net.apply(init_weights)"
      ]
    },
    {
      "cell_type": "code",
      "execution_count": null,
      "metadata": {
        "id": "7Jxd6ILVJmOv"
      },
      "outputs": [],
      "source": [
        "loss = nn.CrossEntropyLoss()"
      ]
    },
    {
      "cell_type": "code",
      "execution_count": null,
      "metadata": {
        "id": "_hgPfgkDJn4X"
      },
      "outputs": [],
      "source": [
        "lr = 0.15\n",
        "optimizer = torch.optim.SGD(net.parameters(), lr=lr)"
      ]
    },
    {
      "cell_type": "code",
      "execution_count": null,
      "metadata": {
        "id": "YNPE5ATdJpOv"
      },
      "outputs": [],
      "source": [
        "def evaluate_accuracy(net, data_iter):\n",
        "    \"\"\"Compute the accuracy for a model on a dataset.\"\"\"\n",
        "    net.eval()  # Set the model to evaluation mode\n",
        "\n",
        "    total_loss = 0\n",
        "    total_hits = 0\n",
        "    total_samples = 0\n",
        "    with torch.no_grad():\n",
        "        for X, y in data_iter:\n",
        "            y_hat = net(X)\n",
        "            l = loss(y_hat, y)\n",
        "            total_loss += float(l)\n",
        "            total_hits += sum(net(X).argmax(axis=1).type(y.dtype) == y)\n",
        "            total_samples += y.numel()\n",
        "    return float(total_loss) / len(data_iter), float(total_hits) / total_samples  * 100"
      ]
    },
    {
      "cell_type": "code",
      "execution_count": null,
      "metadata": {
        "id": "NZ3anvtUJqSS"
      },
      "outputs": [],
      "source": [
        "def train_epoch(net, train_iter, loss, optimizer):  \n",
        "    # Set the model to training mode\n",
        "    net.train()\n",
        "    # Sum of training loss, sum of training correct predictions, no. of examples\n",
        "    total_loss = 0\n",
        "    total_hits = 0\n",
        "    total_samples = 0\n",
        "    for X, y in train_iter:\n",
        "        # Compute gradients and update parameters\n",
        "        y_hat = net(X)\n",
        "        l = loss(y_hat, y)\n",
        "        # Using PyTorch built-in optimizer & loss criterion\n",
        "        optimizer.zero_grad()\n",
        "        l.backward()\n",
        "        optimizer.step()\n",
        "        total_loss += float(l)\n",
        "        total_hits += sum(y_hat.argmax(axis=1).type(y.dtype) == y)\n",
        "        total_samples += y.numel()\n",
        "    # Return training loss and training accuracy\n",
        "    return float(total_loss) / len(train_iter), float(total_hits) / total_samples  * 100"
      ]
    },
    {
      "cell_type": "code",
      "execution_count": null,
      "metadata": {
        "id": "bSRkG919Js7q"
      },
      "outputs": [],
      "source": [
        "def train(net, train_iter, val_iter, loss, num_epochs, optimizer):\n",
        "    \"\"\"Train a model.\"\"\"\n",
        "    train_loss_all = []\n",
        "    train_acc_all = []\n",
        "    val_loss_all = []\n",
        "    val_acc_all = []\n",
        "    for epoch in range(num_epochs):\n",
        "        train_loss, train_acc = train_epoch(net, train_iter, loss, optimizer)\n",
        "        train_loss_all.append(train_loss)\n",
        "        train_acc_all.append(train_acc)\n",
        "        val_loss, val_acc = evaluate_accuracy(net, val_iter)\n",
        "        val_loss_all.append(val_loss)\n",
        "        val_acc_all.append(val_acc)\n",
        "        print(f'Epoch {epoch + 1}, Train loss {train_loss:.2f}, Train accuracy {train_acc:.2f}, Validation loss {val_loss:.2f}, Validation accuracy {val_acc:.2f}')\n",
        "\n",
        "    return train_loss_all, train_acc_all, val_loss_all, val_acc_all"
      ]
    },
    {
      "cell_type": "code",
      "execution_count": null,
      "metadata": {
        "colab": {
          "background_save": true,
          "base_uri": "https://localhost:8080/"
        },
        "id": "tduM1IGwJu-X",
        "outputId": "eee82dba-5ea5-44f2-f2d6-b6ac1d579a83"
      },
      "outputs": [
        {
          "name": "stdout",
          "output_type": "stream",
          "text": [
            "Epoch 1, Train loss 0.61, Train accuracy 83.15, Validation loss 0.42, Validation accuracy 88.45\n",
            "Epoch 2, Train loss 0.38, Train accuracy 89.45, Validation loss 0.37, Validation accuracy 89.67\n",
            "Epoch 3, Train loss 0.34, Train accuracy 90.31, Validation loss 0.35, Validation accuracy 90.13\n",
            "Epoch 4, Train loss 0.32, Train accuracy 90.77, Validation loss 0.34, Validation accuracy 90.56\n",
            "Epoch 5, Train loss 0.31, Train accuracy 91.21, Validation loss 0.33, Validation accuracy 90.67\n",
            "Epoch 6, Train loss 0.30, Train accuracy 91.49, Validation loss 0.33, Validation accuracy 90.68\n",
            "Epoch 7, Train loss 0.30, Train accuracy 91.66, Validation loss 0.32, Validation accuracy 90.82\n",
            "Epoch 8, Train loss 0.29, Train accuracy 91.79, Validation loss 0.32, Validation accuracy 91.05\n",
            "Epoch 9, Train loss 0.29, Train accuracy 91.97, Validation loss 0.32, Validation accuracy 91.06\n",
            "Epoch 10, Train loss 0.28, Train accuracy 92.17, Validation loss 0.32, Validation accuracy 90.92\n",
            "Epoch 11, Train loss 0.28, Train accuracy 92.20, Validation loss 0.31, Validation accuracy 91.13\n",
            "Epoch 12, Train loss 0.27, Train accuracy 92.25, Validation loss 0.31, Validation accuracy 91.16\n",
            "Epoch 13, Train loss 0.27, Train accuracy 92.37, Validation loss 0.31, Validation accuracy 91.15\n",
            "Epoch 14, Train loss 0.27, Train accuracy 92.50, Validation loss 0.31, Validation accuracy 91.27\n",
            "Epoch 15, Train loss 0.27, Train accuracy 92.61, Validation loss 0.31, Validation accuracy 91.22\n"
          ]
        }
      ],
      "source": [
        "num_epochs = 15\n",
        "train_loss_all, train_acc_all, val_loss_all, val_acc_all = train(net, train_iter, val_iter, loss, num_epochs, optimizer)"
      ]
    },
    {
      "cell_type": "code",
      "execution_count": null,
      "metadata": {
        "colab": {
          "background_save": true
        },
        "id": "WTJS8RHGKgma",
        "outputId": "6d66c9da-30d1-4c8e-c9b8-15f16b3f3ca1"
      },
      "outputs": [
        {
          "data": {
            "image/png": "[encoded data removed]",
            "text/plain": [
              "<Figure size 432x288 with 1 Axes>"
            ]
          },
          "metadata": {},
          "output_type": "display_data"
        }
      ],
      "source": [
        "def plot_loss(train_loss_all, val_loss_all):\n",
        "    epochs = range(1, len(train_loss_all) + 1) \n",
        "    plt.plot(epochs, train_loss_all, 'bo', label='Training loss') \n",
        "    plt.plot(epochs, val_loss_all, 'b', label='Validation loss') \n",
        "    plt.title('Training and validation loss') \n",
        "    plt.xlabel('Epochs') \n",
        "    plt.ylabel('Loss') \n",
        "    plt.legend()  \n",
        "    plt.show()\n",
        "\n",
        "plot_loss(train_loss_all, val_loss_all)"
      ]
    },
    {
      "cell_type": "code",
      "execution_count": null,
      "metadata": {
        "colab": {
          "background_save": true
        },
        "id": "t5F0woG1JvwA",
        "outputId": "03742061-8af4-4346-daa3-415bdad57486"
      },
      "outputs": [
        {
          "data": {
            "image/png": "[encoded data removed]",
            "text/plain": [
              "<Figure size 432x288 with 1 Axes>"
            ]
          },
          "metadata": {},
          "output_type": "display_data"
        }
      ],
      "source": [
        "def plot_accuracy(train_acc_all, val_acc_all):\n",
        "    epochs = range(1, len(train_acc_all) + 1)\n",
        "    plt.plot(epochs, train_acc_all, 'bo', label='Training acc')\n",
        "    plt.plot(epochs, val_acc_all, 'b', label='Validation acc')\n",
        "    plt.title('Training and validation accuracy')\n",
        "    plt.xlabel('Epochs') \n",
        "    plt.ylabel('Accuracy') \n",
        "    plt.legend()\n",
        "    plt.show()\n",
        "\n",
        "plot_accuracy(train_acc_all, val_acc_all)"
      ]
    },
    {
      "cell_type": "code",
      "execution_count": null,
      "metadata": {
        "colab": {
          "background_save": true
        },
        "id": "7R1IyK9NKnhE",
        "outputId": "83f2ec98-d6c2-4b15-ef19-9803acab8f2c"
      },
      "outputs": [
        {
          "name": "stdout",
          "output_type": "stream",
          "text": [
            "Test loss 0.28, Test accuracy 92.26\n"
          ]
        }
      ],
      "source": [
        "test_loss, test_acc = evaluate_accuracy(net, test_iter)\n",
        "print(f'Test loss {test_loss:.2f}, Test accuracy {test_acc:.2f}')"
      ]
    },
    {
      "cell_type": "code",
      "execution_count": null,
      "metadata": {
        "colab": {
          "background_save": true
        },
        "id": "c6oT-zpuJxvN",
        "outputId": "59190787-f33d-422b-93b6-9369b0a74c5b"
      },
      "outputs": [
        {
          "data": {
            "image/png": "[encoded data removed]",
            "text/plain": [
              "<Figure size 1080x216 with 20 Axes>"
            ]
          },
          "metadata": {},
          "output_type": "display_data"
        }
      ],
      "source": [
        "def predict(net, test_iter, n=20):\n",
        "    \"\"\"Predict labels.\"\"\"\n",
        "    for X, y in test_iter:\n",
        "        break\n",
        "    trues = get_nums_mnist_labels(y)\n",
        "    preds = get_nums_mnist_labels(net(X).argmax(axis=1))\n",
        "    titles = [true +'\\n' + pred for true, pred in zip(trues, preds)]\n",
        "    show_images(X[0:n].reshape((n, 28, 28)), 2, int(n/2), titles=titles[0:n])\n",
        "\n",
        "predict(net, test_iter)"
      ]
    }
  ],
  "metadata": {
    "colab": {
      "provenance": []
    },
    "kernelspec": {
      "display_name": "Python 3.10.7 64-bit",
      "language": "python",
      "name": "python3"
    },
    "language_info": {
      "codemirror_mode": {
        "name": "ipython",
        "version": 3
      },
      "file_extension": ".py",
      "mimetype": "text/x-python",
      "name": "python",
      "nbconvert_exporter": "python",
      "pygments_lexer": "ipython3",
      "version": "3.10.7"
    },
    "vscode": {
      "interpreter": {
        "hash": "369f2c481f4da34e4445cda3fffd2e751bd1c4d706f27375911949ba6bb62e1c"
      }
    },
    "widgets": {
      "application/vnd.jupyter.widget-state+json": {
        "03157f2b5c944a3f937c4e1e2016702d": {
          "model_module": "@jupyter-widgets/base",
          "model_module_version": "1.2.0",
          "model_name": "LayoutModel",
          "state": {
            "_model_module": "@jupyter-widgets/base",
            "_model_module_version": "1.2.0",
            "_model_name": "LayoutModel",
            "_view_count": null,
            "_view_module": "@jupyter-widgets/base",
            "_view_module_version": "1.2.0",
            "_view_name": "LayoutView",
            "align_content": null,
            "align_items": null,
            "align_self": null,
            "border": null,
            "bottom": null,
            "display": null,
            "flex": null,
            "flex_flow": null,
            "grid_area": null,
            "grid_auto_columns": null,
            "grid_auto_flow": null,
            "grid_auto_rows": null,
            "grid_column": null,
            "grid_gap": null,
            "grid_row": null,
            "grid_template_areas": null,
            "grid_template_columns": null,
            "grid_template_rows": null,
            "height": null,
            "justify_content": null,
            "justify_items": null,
            "left": null,
            "margin": null,
            "max_height": null,
            "max_width": null,
            "min_height": null,
            "min_width": null,
            "object_fit": null,
            "object_position": null,
            "order": null,
            "overflow": null,
            "overflow_x": null,
            "overflow_y": null,
            "padding": null,
            "right": null,
            "top": null,
            "visibility": null,
            "width": null
          }
        },
        "046e3c60f78848c381841f8eee17297b": {
          "model_module": "@jupyter-widgets/base",
          "model_module_version": "1.2.0",
          "model_name": "LayoutModel",
          "state": {
            "_model_module": "@jupyter-widgets/base",
            "_model_module_version": "1.2.0",
            "_model_name": "LayoutModel",
            "_view_count": null,
            "_view_module": "@jupyter-widgets/base",
            "_view_module_version": "1.2.0",
            "_view_name": "LayoutView",
            "align_content": null,
            "align_items": null,
            "align_self": null,
            "border": null,
            "bottom": null,
            "display": null,
            "flex": null,
            "flex_flow": null,
            "grid_area": null,
            "grid_auto_columns": null,
            "grid_auto_flow": null,
            "grid_auto_rows": null,
            "grid_column": null,
            "grid_gap": null,
            "grid_row": null,
            "grid_template_areas": null,
            "grid_template_columns": null,
            "grid_template_rows": null,
            "height": null,
            "justify_content": null,
            "justify_items": null,
            "left": null,
            "margin": null,
            "max_height": null,
            "max_width": null,
            "min_height": null,
            "min_width": null,
            "object_fit": null,
            "object_position": null,
            "order": null,
            "overflow": null,
            "overflow_x": null,
            "overflow_y": null,
            "padding": null,
            "right": null,
            "top": null,
            "visibility": null,
            "width": null
          }
        },
        "1244bfb7bef4494180195d6cf962d33d": {
          "model_module": "@jupyter-widgets/controls",
          "model_module_version": "1.5.0",
          "model_name": "FloatProgressModel",
          "state": {
            "_dom_classes": [],
            "_model_module": "@jupyter-widgets/controls",
            "_model_module_version": "1.5.0",
            "_model_name": "FloatProgressModel",
            "_view_count": null,
            "_view_module": "@jupyter-widgets/controls",
            "_view_module_version": "1.5.0",
            "_view_name": "ProgressView",
            "bar_style": "success",
            "description": "",
            "description_tooltip": null,
            "layout": "IPY_MODEL_806f3793de2a46dd99e82c1e5524ef3c",
            "max": 9912422,
            "min": 0,
            "orientation": "horizontal",
            "style": "IPY_MODEL_a766a97538a1416aaf7483653f57f3db",
            "value": 9912422
          }
        },
        "13e57e4850354b4491540c40a2616e14": {
          "model_module": "@jupyter-widgets/controls",
          "model_module_version": "1.5.0",
          "model_name": "HBoxModel",
          "state": {
            "_dom_classes": [],
            "_model_module": "@jupyter-widgets/controls",
            "_model_module_version": "1.5.0",
            "_model_name": "HBoxModel",
            "_view_count": null,
            "_view_module": "@jupyter-widgets/controls",
            "_view_module_version": "1.5.0",
            "_view_name": "HBoxView",
            "box_style": "",
            "children": [
              "IPY_MODEL_a02e7a2d57f54dd2a655fa484fca912a",
              "IPY_MODEL_759f04945f604eb98942c2ed50258067",
              "IPY_MODEL_86b6a0d710ea4a249f5a3085b04e7327"
            ],
            "layout": "IPY_MODEL_a1f4e43082d149ebaf98407ed336b18e"
          }
        },
        "22b4f0a2068e47f9a4afa707ffbaf171": {
          "model_module": "@jupyter-widgets/controls",
          "model_module_version": "1.5.0",
          "model_name": "DescriptionStyleModel",
          "state": {
            "_model_module": "@jupyter-widgets/controls",
            "_model_module_version": "1.5.0",
            "_model_name": "DescriptionStyleModel",
            "_view_count": null,
            "_view_module": "@jupyter-widgets/base",
            "_view_module_version": "1.2.0",
            "_view_name": "StyleView",
            "description_width": ""
          }
        },
        "2430b8aba6de484a850c5176015a90b8": {
          "model_module": "@jupyter-widgets/base",
          "model_module_version": "1.2.0",
          "model_name": "LayoutModel",
          "state": {
            "_model_module": "@jupyter-widgets/base",
            "_model_module_version": "1.2.0",
            "_model_name": "LayoutModel",
            "_view_count": null,
            "_view_module": "@jupyter-widgets/base",
            "_view_module_version": "1.2.0",
            "_view_name": "LayoutView",
            "align_content": null,
            "align_items": null,
            "align_self": null,
            "border": null,
            "bottom": null,
            "display": null,
            "flex": null,
            "flex_flow": null,
            "grid_area": null,
            "grid_auto_columns": null,
            "grid_auto_flow": null,
            "grid_auto_rows": null,
            "grid_column": null,
            "grid_gap": null,
            "grid_row": null,
            "grid_template_areas": null,
            "grid_template_columns": null,
            "grid_template_rows": null,
            "height": null,
            "justify_content": null,
            "justify_items": null,
            "left": null,
            "margin": null,
            "max_height": null,
            "max_width": null,
            "min_height": null,
            "min_width": null,
            "object_fit": null,
            "object_position": null,
            "order": null,
            "overflow": null,
            "overflow_x": null,
            "overflow_y": null,
            "padding": null,
            "right": null,
            "top": null,
            "visibility": null,
            "width": null
          }
        },
        "25edf4c14686428f9fe4f8bbe0459372": {
          "model_module": "@jupyter-widgets/controls",
          "model_module_version": "1.5.0",
          "model_name": "HBoxModel",
          "state": {
            "_dom_classes": [],
            "_model_module": "@jupyter-widgets/controls",
            "_model_module_version": "1.5.0",
            "_model_name": "HBoxModel",
            "_view_count": null,
            "_view_module": "@jupyter-widgets/controls",
            "_view_module_version": "1.5.0",
            "_view_name": "HBoxView",
            "box_style": "",
            "children": [
              "IPY_MODEL_346059d49d8b4d3fafcf6dc500b0d461",
              "IPY_MODEL_eb89089a92a943678fba92430a77b263",
              "IPY_MODEL_60c8241e97f74a488668a002e72924b5"
            ],
            "layout": "IPY_MODEL_9069132dd27e41a89ce078e4872c89d5"
          }
        },
        "346059d49d8b4d3fafcf6dc500b0d461": {
          "model_module": "@jupyter-widgets/controls",
          "model_module_version": "1.5.0",
          "model_name": "HTMLModel",
          "state": {
            "_dom_classes": [],
            "_model_module": "@jupyter-widgets/controls",
            "_model_module_version": "1.5.0",
            "_model_name": "HTMLModel",
            "_view_count": null,
            "_view_module": "@jupyter-widgets/controls",
            "_view_module_version": "1.5.0",
            "_view_name": "HTMLView",
            "description": "",
            "description_tooltip": null,
            "layout": "IPY_MODEL_942e4d1668f64bf7885f8333c4e10388",
            "placeholder": "​",
            "style": "IPY_MODEL_22b4f0a2068e47f9a4afa707ffbaf171",
            "value": "100%"
          }
        },
        "3bb498ec370d465c8e293bf581b4f86b": {
          "model_module": "@jupyter-widgets/controls",
          "model_module_version": "1.5.0",
          "model_name": "HTMLModel",
          "state": {
            "_dom_classes": [],
            "_model_module": "@jupyter-widgets/controls",
            "_model_module_version": "1.5.0",
            "_model_name": "HTMLModel",
            "_view_count": null,
            "_view_module": "@jupyter-widgets/controls",
            "_view_module_version": "1.5.0",
            "_view_name": "HTMLView",
            "description": "",
            "description_tooltip": null,
            "layout": "IPY_MODEL_f8e1886053154518a33e72ee82cadd86",
            "placeholder": "​",
            "style": "IPY_MODEL_c7c3bcab491743bbaef717d00490f90f",
            "value": "100%"
          }
        },
        "3c66992193d94854a208d7a2f2faef9b": {
          "model_module": "@jupyter-widgets/controls",
          "model_module_version": "1.5.0",
          "model_name": "HTMLModel",
          "state": {
            "_dom_classes": [],
            "_model_module": "@jupyter-widgets/controls",
            "_model_module_version": "1.5.0",
            "_model_name": "HTMLModel",
            "_view_count": null,
            "_view_module": "@jupyter-widgets/controls",
            "_view_module_version": "1.5.0",
            "_view_name": "HTMLView",
            "description": "",
            "description_tooltip": null,
            "layout": "IPY_MODEL_ba0a389c3f994ec186effdd53ffc3af6",
            "placeholder": "​",
            "style": "IPY_MODEL_6a712744e14f420188b8e0df5cd679ea",
            "value": " 4542/4542 [00:00&lt;00:00, 88754.48it/s]"
          }
        },
        "42f55d8ed9594279ac0125bf6c1365a4": {
          "model_module": "@jupyter-widgets/controls",
          "model_module_version": "1.5.0",
          "model_name": "HTMLModel",
          "state": {
            "_dom_classes": [],
            "_model_module": "@jupyter-widgets/controls",
            "_model_module_version": "1.5.0",
            "_model_name": "HTMLModel",
            "_view_count": null,
            "_view_module": "@jupyter-widgets/controls",
            "_view_module_version": "1.5.0",
            "_view_name": "HTMLView",
            "description": "",
            "description_tooltip": null,
            "layout": "IPY_MODEL_599c2c337e8549aa839c8e1c01f10747",
            "placeholder": "​",
            "style": "IPY_MODEL_a9026f95874c45c1a7ed7b2291259fbf",
            "value": " 9912422/9912422 [00:00&lt;00:00, 3913725.58it/s]"
          }
        },
        "438efc21fdd2449890b0581eedb6c65a": {
          "model_module": "@jupyter-widgets/base",
          "model_module_version": "1.2.0",
          "model_name": "LayoutModel",
          "state": {
            "_model_module": "@jupyter-widgets/base",
            "_model_module_version": "1.2.0",
            "_model_name": "LayoutModel",
            "_view_count": null,
            "_view_module": "@jupyter-widgets/base",
            "_view_module_version": "1.2.0",
            "_view_name": "LayoutView",
            "align_content": null,
            "align_items": null,
            "align_self": null,
            "border": null,
            "bottom": null,
            "display": null,
            "flex": null,
            "flex_flow": null,
            "grid_area": null,
            "grid_auto_columns": null,
            "grid_auto_flow": null,
            "grid_auto_rows": null,
            "grid_column": null,
            "grid_gap": null,
            "grid_row": null,
            "grid_template_areas": null,
            "grid_template_columns": null,
            "grid_template_rows": null,
            "height": null,
            "justify_content": null,
            "justify_items": null,
            "left": null,
            "margin": null,
            "max_height": null,
            "max_width": null,
            "min_height": null,
            "min_width": null,
            "object_fit": null,
            "object_position": null,
            "order": null,
            "overflow": null,
            "overflow_x": null,
            "overflow_y": null,
            "padding": null,
            "right": null,
            "top": null,
            "visibility": null,
            "width": null
          }
        },
        "43d42609cfb74e02bde5fabe53d5d65a": {
          "model_module": "@jupyter-widgets/controls",
          "model_module_version": "1.5.0",
          "model_name": "ProgressStyleModel",
          "state": {
            "_model_module": "@jupyter-widgets/controls",
            "_model_module_version": "1.5.0",
            "_model_name": "ProgressStyleModel",
            "_view_count": null,
            "_view_module": "@jupyter-widgets/base",
            "_view_module_version": "1.2.0",
            "_view_name": "StyleView",
            "bar_color": null,
            "description_width": ""
          }
        },
        "5339503931254f0abc914a7e9d49e31f": {
          "model_module": "@jupyter-widgets/controls",
          "model_module_version": "1.5.0",
          "model_name": "DescriptionStyleModel",
          "state": {
            "_model_module": "@jupyter-widgets/controls",
            "_model_module_version": "1.5.0",
            "_model_name": "DescriptionStyleModel",
            "_view_count": null,
            "_view_module": "@jupyter-widgets/base",
            "_view_module_version": "1.2.0",
            "_view_name": "StyleView",
            "description_width": ""
          }
        },
        "551998c420824282ae26c6061b1c9c57": {
          "model_module": "@jupyter-widgets/controls",
          "model_module_version": "1.5.0",
          "model_name": "HBoxModel",
          "state": {
            "_dom_classes": [],
            "_model_module": "@jupyter-widgets/controls",
            "_model_module_version": "1.5.0",
            "_model_name": "HBoxModel",
            "_view_count": null,
            "_view_module": "@jupyter-widgets/controls",
            "_view_module_version": "1.5.0",
            "_view_name": "HBoxView",
            "box_style": "",
            "children": [
              "IPY_MODEL_689a80b97935447c9bc47fe1cfbbc1fb",
              "IPY_MODEL_1244bfb7bef4494180195d6cf962d33d",
              "IPY_MODEL_42f55d8ed9594279ac0125bf6c1365a4"
            ],
            "layout": "IPY_MODEL_2430b8aba6de484a850c5176015a90b8"
          }
        },
        "599c2c337e8549aa839c8e1c01f10747": {
          "model_module": "@jupyter-widgets/base",
          "model_module_version": "1.2.0",
          "model_name": "LayoutModel",
          "state": {
            "_model_module": "@jupyter-widgets/base",
            "_model_module_version": "1.2.0",
            "_model_name": "LayoutModel",
            "_view_count": null,
            "_view_module": "@jupyter-widgets/base",
            "_view_module_version": "1.2.0",
            "_view_name": "LayoutView",
            "align_content": null,
            "align_items": null,
            "align_self": null,
            "border": null,
            "bottom": null,
            "display": null,
            "flex": null,
            "flex_flow": null,
            "grid_area": null,
            "grid_auto_columns": null,
            "grid_auto_flow": null,
            "grid_auto_rows": null,
            "grid_column": null,
            "grid_gap": null,
            "grid_row": null,
            "grid_template_areas": null,
            "grid_template_columns": null,
            "grid_template_rows": null,
            "height": null,
            "justify_content": null,
            "justify_items": null,
            "left": null,
            "margin": null,
            "max_height": null,
            "max_width": null,
            "min_height": null,
            "min_width": null,
            "object_fit": null,
            "object_position": null,
            "order": null,
            "overflow": null,
            "overflow_x": null,
            "overflow_y": null,
            "padding": null,
            "right": null,
            "top": null,
            "visibility": null,
            "width": null
          }
        },
        "60c8241e97f74a488668a002e72924b5": {
          "model_module": "@jupyter-widgets/controls",
          "model_module_version": "1.5.0",
          "model_name": "HTMLModel",
          "state": {
            "_dom_classes": [],
            "_model_module": "@jupyter-widgets/controls",
            "_model_module_version": "1.5.0",
            "_model_name": "HTMLModel",
            "_view_count": null,
            "_view_module": "@jupyter-widgets/controls",
            "_view_module_version": "1.5.0",
            "_view_name": "HTMLView",
            "description": "",
            "description_tooltip": null,
            "layout": "IPY_MODEL_03157f2b5c944a3f937c4e1e2016702d",
            "placeholder": "​",
            "style": "IPY_MODEL_bc6cccd4527844e1814fc20f116ef268",
            "value": " 28881/28881 [00:00&lt;00:00, 598881.17it/s]"
          }
        },
        "66be647e14e6404d94b4870a13517e9b": {
          "model_module": "@jupyter-widgets/controls",
          "model_module_version": "1.5.0",
          "model_name": "FloatProgressModel",
          "state": {
            "_dom_classes": [],
            "_model_module": "@jupyter-widgets/controls",
            "_model_module_version": "1.5.0",
            "_model_name": "FloatProgressModel",
            "_view_count": null,
            "_view_module": "@jupyter-widgets/controls",
            "_view_module_version": "1.5.0",
            "_view_name": "ProgressView",
            "bar_style": "success",
            "description": "",
            "description_tooltip": null,
            "layout": "IPY_MODEL_046e3c60f78848c381841f8eee17297b",
            "max": 4542,
            "min": 0,
            "orientation": "horizontal",
            "style": "IPY_MODEL_6dd86dab11014c9295d44c6a8cbf2a7b",
            "value": 4542
          }
        },
        "689a80b97935447c9bc47fe1cfbbc1fb": {
          "model_module": "@jupyter-widgets/controls",
          "model_module_version": "1.5.0",
          "model_name": "HTMLModel",
          "state": {
            "_dom_classes": [],
            "_model_module": "@jupyter-widgets/controls",
            "_model_module_version": "1.5.0",
            "_model_name": "HTMLModel",
            "_view_count": null,
            "_view_module": "@jupyter-widgets/controls",
            "_view_module_version": "1.5.0",
            "_view_name": "HTMLView",
            "description": "",
            "description_tooltip": null,
            "layout": "IPY_MODEL_70dd64199bfd406ea52c63cd1d0d48ea",
            "placeholder": "​",
            "style": "IPY_MODEL_5339503931254f0abc914a7e9d49e31f",
            "value": "100%"
          }
        },
        "6a712744e14f420188b8e0df5cd679ea": {
          "model_module": "@jupyter-widgets/controls",
          "model_module_version": "1.5.0",
          "model_name": "DescriptionStyleModel",
          "state": {
            "_model_module": "@jupyter-widgets/controls",
            "_model_module_version": "1.5.0",
            "_model_name": "DescriptionStyleModel",
            "_view_count": null,
            "_view_module": "@jupyter-widgets/base",
            "_view_module_version": "1.2.0",
            "_view_name": "StyleView",
            "description_width": ""
          }
        },
        "6dd86dab11014c9295d44c6a8cbf2a7b": {
          "model_module": "@jupyter-widgets/controls",
          "model_module_version": "1.5.0",
          "model_name": "ProgressStyleModel",
          "state": {
            "_model_module": "@jupyter-widgets/controls",
            "_model_module_version": "1.5.0",
            "_model_name": "ProgressStyleModel",
            "_view_count": null,
            "_view_module": "@jupyter-widgets/base",
            "_view_module_version": "1.2.0",
            "_view_name": "StyleView",
            "bar_color": null,
            "description_width": ""
          }
        },
        "70dd64199bfd406ea52c63cd1d0d48ea": {
          "model_module": "@jupyter-widgets/base",
          "model_module_version": "1.2.0",
          "model_name": "LayoutModel",
          "state": {
            "_model_module": "@jupyter-widgets/base",
            "_model_module_version": "1.2.0",
            "_model_name": "LayoutModel",
            "_view_count": null,
            "_view_module": "@jupyter-widgets/base",
            "_view_module_version": "1.2.0",
            "_view_name": "LayoutView",
            "align_content": null,
            "align_items": null,
            "align_self": null,
            "border": null,
            "bottom": null,
            "display": null,
            "flex": null,
            "flex_flow": null,
            "grid_area": null,
            "grid_auto_columns": null,
            "grid_auto_flow": null,
            "grid_auto_rows": null,
            "grid_column": null,
            "grid_gap": null,
            "grid_row": null,
            "grid_template_areas": null,
            "grid_template_columns": null,
            "grid_template_rows": null,
            "height": null,
            "justify_content": null,
            "justify_items": null,
            "left": null,
            "margin": null,
            "max_height": null,
            "max_width": null,
            "min_height": null,
            "min_width": null,
            "object_fit": null,
            "object_position": null,
            "order": null,
            "overflow": null,
            "overflow_x": null,
            "overflow_y": null,
            "padding": null,
            "right": null,
            "top": null,
            "visibility": null,
            "width": null
          }
        },
        "759f04945f604eb98942c2ed50258067": {
          "model_module": "@jupyter-widgets/controls",
          "model_module_version": "1.5.0",
          "model_name": "FloatProgressModel",
          "state": {
            "_dom_classes": [],
            "_model_module": "@jupyter-widgets/controls",
            "_model_module_version": "1.5.0",
            "_model_name": "FloatProgressModel",
            "_view_count": null,
            "_view_module": "@jupyter-widgets/controls",
            "_view_module_version": "1.5.0",
            "_view_name": "ProgressView",
            "bar_style": "success",
            "description": "",
            "description_tooltip": null,
            "layout": "IPY_MODEL_438efc21fdd2449890b0581eedb6c65a",
            "max": 1648877,
            "min": 0,
            "orientation": "horizontal",
            "style": "IPY_MODEL_43d42609cfb74e02bde5fabe53d5d65a",
            "value": 1648877
          }
        },
        "7ba0f29b6fd64460b3a65f0af599911e": {
          "model_module": "@jupyter-widgets/base",
          "model_module_version": "1.2.0",
          "model_name": "LayoutModel",
          "state": {
            "_model_module": "@jupyter-widgets/base",
            "_model_module_version": "1.2.0",
            "_model_name": "LayoutModel",
            "_view_count": null,
            "_view_module": "@jupyter-widgets/base",
            "_view_module_version": "1.2.0",
            "_view_name": "LayoutView",
            "align_content": null,
            "align_items": null,
            "align_self": null,
            "border": null,
            "bottom": null,
            "display": null,
            "flex": null,
            "flex_flow": null,
            "grid_area": null,
            "grid_auto_columns": null,
            "grid_auto_flow": null,
            "grid_auto_rows": null,
            "grid_column": null,
            "grid_gap": null,
            "grid_row": null,
            "grid_template_areas": null,
            "grid_template_columns": null,
            "grid_template_rows": null,
            "height": null,
            "justify_content": null,
            "justify_items": null,
            "left": null,
            "margin": null,
            "max_height": null,
            "max_width": null,
            "min_height": null,
            "min_width": null,
            "object_fit": null,
            "object_position": null,
            "order": null,
            "overflow": null,
            "overflow_x": null,
            "overflow_y": null,
            "padding": null,
            "right": null,
            "top": null,
            "visibility": null,
            "width": null
          }
        },
        "806f3793de2a46dd99e82c1e5524ef3c": {
          "model_module": "@jupyter-widgets/base",
          "model_module_version": "1.2.0",
          "model_name": "LayoutModel",
          "state": {
            "_model_module": "@jupyter-widgets/base",
            "_model_module_version": "1.2.0",
            "_model_name": "LayoutModel",
            "_view_count": null,
            "_view_module": "@jupyter-widgets/base",
            "_view_module_version": "1.2.0",
            "_view_name": "LayoutView",
            "align_content": null,
            "align_items": null,
            "align_self": null,
            "border": null,
            "bottom": null,
            "display": null,
            "flex": null,
            "flex_flow": null,
            "grid_area": null,
            "grid_auto_columns": null,
            "grid_auto_flow": null,
            "grid_auto_rows": null,
            "grid_column": null,
            "grid_gap": null,
            "grid_row": null,
            "grid_template_areas": null,
            "grid_template_columns": null,
            "grid_template_rows": null,
            "height": null,
            "justify_content": null,
            "justify_items": null,
            "left": null,
            "margin": null,
            "max_height": null,
            "max_width": null,
            "min_height": null,
            "min_width": null,
            "object_fit": null,
            "object_position": null,
            "order": null,
            "overflow": null,
            "overflow_x": null,
            "overflow_y": null,
            "padding": null,
            "right": null,
            "top": null,
            "visibility": null,
            "width": null
          }
        },
        "85e6d4a61f7d4f088f480a0db40b5714": {
          "model_module": "@jupyter-widgets/base",
          "model_module_version": "1.2.0",
          "model_name": "LayoutModel",
          "state": {
            "_model_module": "@jupyter-widgets/base",
            "_model_module_version": "1.2.0",
            "_model_name": "LayoutModel",
            "_view_count": null,
            "_view_module": "@jupyter-widgets/base",
            "_view_module_version": "1.2.0",
            "_view_name": "LayoutView",
            "align_content": null,
            "align_items": null,
            "align_self": null,
            "border": null,
            "bottom": null,
            "display": null,
            "flex": null,
            "flex_flow": null,
            "grid_area": null,
            "grid_auto_columns": null,
            "grid_auto_flow": null,
            "grid_auto_rows": null,
            "grid_column": null,
            "grid_gap": null,
            "grid_row": null,
            "grid_template_areas": null,
            "grid_template_columns": null,
            "grid_template_rows": null,
            "height": null,
            "justify_content": null,
            "justify_items": null,
            "left": null,
            "margin": null,
            "max_height": null,
            "max_width": null,
            "min_height": null,
            "min_width": null,
            "object_fit": null,
            "object_position": null,
            "order": null,
            "overflow": null,
            "overflow_x": null,
            "overflow_y": null,
            "padding": null,
            "right": null,
            "top": null,
            "visibility": null,
            "width": null
          }
        },
        "86b6a0d710ea4a249f5a3085b04e7327": {
          "model_module": "@jupyter-widgets/controls",
          "model_module_version": "1.5.0",
          "model_name": "HTMLModel",
          "state": {
            "_dom_classes": [],
            "_model_module": "@jupyter-widgets/controls",
            "_model_module_version": "1.5.0",
            "_model_name": "HTMLModel",
            "_view_count": null,
            "_view_module": "@jupyter-widgets/controls",
            "_view_module_version": "1.5.0",
            "_view_name": "HTMLView",
            "description": "",
            "description_tooltip": null,
            "layout": "IPY_MODEL_7ba0f29b6fd64460b3a65f0af599911e",
            "placeholder": "​",
            "style": "IPY_MODEL_e31853aa87374f69b3073e922ac910c2",
            "value": " 1648877/1648877 [00:00&lt;00:00, 3916560.26it/s]"
          }
        },
        "9069132dd27e41a89ce078e4872c89d5": {
          "model_module": "@jupyter-widgets/base",
          "model_module_version": "1.2.0",
          "model_name": "LayoutModel",
          "state": {
            "_model_module": "@jupyter-widgets/base",
            "_model_module_version": "1.2.0",
            "_model_name": "LayoutModel",
            "_view_count": null,
            "_view_module": "@jupyter-widgets/base",
            "_view_module_version": "1.2.0",
            "_view_name": "LayoutView",
            "align_content": null,
            "align_items": null,
            "align_self": null,
            "border": null,
            "bottom": null,
            "display": null,
            "flex": null,
            "flex_flow": null,
            "grid_area": null,
            "grid_auto_columns": null,
            "grid_auto_flow": null,
            "grid_auto_rows": null,
            "grid_column": null,
            "grid_gap": null,
            "grid_row": null,
            "grid_template_areas": null,
            "grid_template_columns": null,
            "grid_template_rows": null,
            "height": null,
            "justify_content": null,
            "justify_items": null,
            "left": null,
            "margin": null,
            "max_height": null,
            "max_width": null,
            "min_height": null,
            "min_width": null,
            "object_fit": null,
            "object_position": null,
            "order": null,
            "overflow": null,
            "overflow_x": null,
            "overflow_y": null,
            "padding": null,
            "right": null,
            "top": null,
            "visibility": null,
            "width": null
          }
        },
        "942e4d1668f64bf7885f8333c4e10388": {
          "model_module": "@jupyter-widgets/base",
          "model_module_version": "1.2.0",
          "model_name": "LayoutModel",
          "state": {
            "_model_module": "@jupyter-widgets/base",
            "_model_module_version": "1.2.0",
            "_model_name": "LayoutModel",
            "_view_count": null,
            "_view_module": "@jupyter-widgets/base",
            "_view_module_version": "1.2.0",
            "_view_name": "LayoutView",
            "align_content": null,
            "align_items": null,
            "align_self": null,
            "border": null,
            "bottom": null,
            "display": null,
            "flex": null,
            "flex_flow": null,
            "grid_area": null,
            "grid_auto_columns": null,
            "grid_auto_flow": null,
            "grid_auto_rows": null,
            "grid_column": null,
            "grid_gap": null,
            "grid_row": null,
            "grid_template_areas": null,
            "grid_template_columns": null,
            "grid_template_rows": null,
            "height": null,
            "justify_content": null,
            "justify_items": null,
            "left": null,
            "margin": null,
            "max_height": null,
            "max_width": null,
            "min_height": null,
            "min_width": null,
            "object_fit": null,
            "object_position": null,
            "order": null,
            "overflow": null,
            "overflow_x": null,
            "overflow_y": null,
            "padding": null,
            "right": null,
            "top": null,
            "visibility": null,
            "width": null
          }
        },
        "a02e7a2d57f54dd2a655fa484fca912a": {
          "model_module": "@jupyter-widgets/controls",
          "model_module_version": "1.5.0",
          "model_name": "HTMLModel",
          "state": {
            "_dom_classes": [],
            "_model_module": "@jupyter-widgets/controls",
            "_model_module_version": "1.5.0",
            "_model_name": "HTMLModel",
            "_view_count": null,
            "_view_module": "@jupyter-widgets/controls",
            "_view_module_version": "1.5.0",
            "_view_name": "HTMLView",
            "description": "",
            "description_tooltip": null,
            "layout": "IPY_MODEL_85e6d4a61f7d4f088f480a0db40b5714",
            "placeholder": "​",
            "style": "IPY_MODEL_f8998e5e36b54e418fd689fd18b37b67",
            "value": "100%"
          }
        },
        "a1f4e43082d149ebaf98407ed336b18e": {
          "model_module": "@jupyter-widgets/base",
          "model_module_version": "1.2.0",
          "model_name": "LayoutModel",
          "state": {
            "_model_module": "@jupyter-widgets/base",
            "_model_module_version": "1.2.0",
            "_model_name": "LayoutModel",
            "_view_count": null,
            "_view_module": "@jupyter-widgets/base",
            "_view_module_version": "1.2.0",
            "_view_name": "LayoutView",
            "align_content": null,
            "align_items": null,
            "align_self": null,
            "border": null,
            "bottom": null,
            "display": null,
            "flex": null,
            "flex_flow": null,
            "grid_area": null,
            "grid_auto_columns": null,
            "grid_auto_flow": null,
            "grid_auto_rows": null,
            "grid_column": null,
            "grid_gap": null,
            "grid_row": null,
            "grid_template_areas": null,
            "grid_template_columns": null,
            "grid_template_rows": null,
            "height": null,
            "justify_content": null,
            "justify_items": null,
            "left": null,
            "margin": null,
            "max_height": null,
            "max_width": null,
            "min_height": null,
            "min_width": null,
            "object_fit": null,
            "object_position": null,
            "order": null,
            "overflow": null,
            "overflow_x": null,
            "overflow_y": null,
            "padding": null,
            "right": null,
            "top": null,
            "visibility": null,
            "width": null
          }
        },
        "a766a97538a1416aaf7483653f57f3db": {
          "model_module": "@jupyter-widgets/controls",
          "model_module_version": "1.5.0",
          "model_name": "ProgressStyleModel",
          "state": {
            "_model_module": "@jupyter-widgets/controls",
            "_model_module_version": "1.5.0",
            "_model_name": "ProgressStyleModel",
            "_view_count": null,
            "_view_module": "@jupyter-widgets/base",
            "_view_module_version": "1.2.0",
            "_view_name": "StyleView",
            "bar_color": null,
            "description_width": ""
          }
        },
        "a9026f95874c45c1a7ed7b2291259fbf": {
          "model_module": "@jupyter-widgets/controls",
          "model_module_version": "1.5.0",
          "model_name": "DescriptionStyleModel",
          "state": {
            "_model_module": "@jupyter-widgets/controls",
            "_model_module_version": "1.5.0",
            "_model_name": "DescriptionStyleModel",
            "_view_count": null,
            "_view_module": "@jupyter-widgets/base",
            "_view_module_version": "1.2.0",
            "_view_name": "StyleView",
            "description_width": ""
          }
        },
        "ba0a389c3f994ec186effdd53ffc3af6": {
          "model_module": "@jupyter-widgets/base",
          "model_module_version": "1.2.0",
          "model_name": "LayoutModel",
          "state": {
            "_model_module": "@jupyter-widgets/base",
            "_model_module_version": "1.2.0",
            "_model_name": "LayoutModel",
            "_view_count": null,
            "_view_module": "@jupyter-widgets/base",
            "_view_module_version": "1.2.0",
            "_view_name": "LayoutView",
            "align_content": null,
            "align_items": null,
            "align_self": null,
            "border": null,
            "bottom": null,
            "display": null,
            "flex": null,
            "flex_flow": null,
            "grid_area": null,
            "grid_auto_columns": null,
            "grid_auto_flow": null,
            "grid_auto_rows": null,
            "grid_column": null,
            "grid_gap": null,
            "grid_row": null,
            "grid_template_areas": null,
            "grid_template_columns": null,
            "grid_template_rows": null,
            "height": null,
            "justify_content": null,
            "justify_items": null,
            "left": null,
            "margin": null,
            "max_height": null,
            "max_width": null,
            "min_height": null,
            "min_width": null,
            "object_fit": null,
            "object_position": null,
            "order": null,
            "overflow": null,
            "overflow_x": null,
            "overflow_y": null,
            "padding": null,
            "right": null,
            "top": null,
            "visibility": null,
            "width": null
          }
        },
        "bc6cccd4527844e1814fc20f116ef268": {
          "model_module": "@jupyter-widgets/controls",
          "model_module_version": "1.5.0",
          "model_name": "DescriptionStyleModel",
          "state": {
            "_model_module": "@jupyter-widgets/controls",
            "_model_module_version": "1.5.0",
            "_model_name": "DescriptionStyleModel",
            "_view_count": null,
            "_view_module": "@jupyter-widgets/base",
            "_view_module_version": "1.2.0",
            "_view_name": "StyleView",
            "description_width": ""
          }
        },
        "c7c3bcab491743bbaef717d00490f90f": {
          "model_module": "@jupyter-widgets/controls",
          "model_module_version": "1.5.0",
          "model_name": "DescriptionStyleModel",
          "state": {
            "_model_module": "@jupyter-widgets/controls",
            "_model_module_version": "1.5.0",
            "_model_name": "DescriptionStyleModel",
            "_view_count": null,
            "_view_module": "@jupyter-widgets/base",
            "_view_module_version": "1.2.0",
            "_view_name": "StyleView",
            "description_width": ""
          }
        },
        "d2c3e1c3e44740b0bf07fabf526f6d5f": {
          "model_module": "@jupyter-widgets/base",
          "model_module_version": "1.2.0",
          "model_name": "LayoutModel",
          "state": {
            "_model_module": "@jupyter-widgets/base",
            "_model_module_version": "1.2.0",
            "_model_name": "LayoutModel",
            "_view_count": null,
            "_view_module": "@jupyter-widgets/base",
            "_view_module_version": "1.2.0",
            "_view_name": "LayoutView",
            "align_content": null,
            "align_items": null,
            "align_self": null,
            "border": null,
            "bottom": null,
            "display": null,
            "flex": null,
            "flex_flow": null,
            "grid_area": null,
            "grid_auto_columns": null,
            "grid_auto_flow": null,
            "grid_auto_rows": null,
            "grid_column": null,
            "grid_gap": null,
            "grid_row": null,
            "grid_template_areas": null,
            "grid_template_columns": null,
            "grid_template_rows": null,
            "height": null,
            "justify_content": null,
            "justify_items": null,
            "left": null,
            "margin": null,
            "max_height": null,
            "max_width": null,
            "min_height": null,
            "min_width": null,
            "object_fit": null,
            "object_position": null,
            "order": null,
            "overflow": null,
            "overflow_x": null,
            "overflow_y": null,
            "padding": null,
            "right": null,
            "top": null,
            "visibility": null,
            "width": null
          }
        },
        "e03ce70858814750aa9208a5770cc78c": {
          "model_module": "@jupyter-widgets/controls",
          "model_module_version": "1.5.0",
          "model_name": "ProgressStyleModel",
          "state": {
            "_model_module": "@jupyter-widgets/controls",
            "_model_module_version": "1.5.0",
            "_model_name": "ProgressStyleModel",
            "_view_count": null,
            "_view_module": "@jupyter-widgets/base",
            "_view_module_version": "1.2.0",
            "_view_name": "StyleView",
            "bar_color": null,
            "description_width": ""
          }
        },
        "e1a673a984984d19be860800cab11390": {
          "model_module": "@jupyter-widgets/base",
          "model_module_version": "1.2.0",
          "model_name": "LayoutModel",
          "state": {
            "_model_module": "@jupyter-widgets/base",
            "_model_module_version": "1.2.0",
            "_model_name": "LayoutModel",
            "_view_count": null,
            "_view_module": "@jupyter-widgets/base",
            "_view_module_version": "1.2.0",
            "_view_name": "LayoutView",
            "align_content": null,
            "align_items": null,
            "align_self": null,
            "border": null,
            "bottom": null,
            "display": null,
            "flex": null,
            "flex_flow": null,
            "grid_area": null,
            "grid_auto_columns": null,
            "grid_auto_flow": null,
            "grid_auto_rows": null,
            "grid_column": null,
            "grid_gap": null,
            "grid_row": null,
            "grid_template_areas": null,
            "grid_template_columns": null,
            "grid_template_rows": null,
            "height": null,
            "justify_content": null,
            "justify_items": null,
            "left": null,
            "margin": null,
            "max_height": null,
            "max_width": null,
            "min_height": null,
            "min_width": null,
            "object_fit": null,
            "object_position": null,
            "order": null,
            "overflow": null,
            "overflow_x": null,
            "overflow_y": null,
            "padding": null,
            "right": null,
            "top": null,
            "visibility": null,
            "width": null
          }
        },
        "e31853aa87374f69b3073e922ac910c2": {
          "model_module": "@jupyter-widgets/controls",
          "model_module_version": "1.5.0",
          "model_name": "DescriptionStyleModel",
          "state": {
            "_model_module": "@jupyter-widgets/controls",
            "_model_module_version": "1.5.0",
            "_model_name": "DescriptionStyleModel",
            "_view_count": null,
            "_view_module": "@jupyter-widgets/base",
            "_view_module_version": "1.2.0",
            "_view_name": "StyleView",
            "description_width": ""
          }
        },
        "eb89089a92a943678fba92430a77b263": {
          "model_module": "@jupyter-widgets/controls",
          "model_module_version": "1.5.0",
          "model_name": "FloatProgressModel",
          "state": {
            "_dom_classes": [],
            "_model_module": "@jupyter-widgets/controls",
            "_model_module_version": "1.5.0",
            "_model_name": "FloatProgressModel",
            "_view_count": null,
            "_view_module": "@jupyter-widgets/controls",
            "_view_module_version": "1.5.0",
            "_view_name": "ProgressView",
            "bar_style": "success",
            "description": "",
            "description_tooltip": null,
            "layout": "IPY_MODEL_d2c3e1c3e44740b0bf07fabf526f6d5f",
            "max": 28881,
            "min": 0,
            "orientation": "horizontal",
            "style": "IPY_MODEL_e03ce70858814750aa9208a5770cc78c",
            "value": 28881
          }
        },
        "f8998e5e36b54e418fd689fd18b37b67": {
          "model_module": "@jupyter-widgets/controls",
          "model_module_version": "1.5.0",
          "model_name": "DescriptionStyleModel",
          "state": {
            "_model_module": "@jupyter-widgets/controls",
            "_model_module_version": "1.5.0",
            "_model_name": "DescriptionStyleModel",
            "_view_count": null,
            "_view_module": "@jupyter-widgets/base",
            "_view_module_version": "1.2.0",
            "_view_name": "StyleView",
            "description_width": ""
          }
        },
        "f8e1886053154518a33e72ee82cadd86": {
          "model_module": "@jupyter-widgets/base",
          "model_module_version": "1.2.0",
          "model_name": "LayoutModel",
          "state": {
            "_model_module": "@jupyter-widgets/base",
            "_model_module_version": "1.2.0",
            "_model_name": "LayoutModel",
            "_view_count": null,
            "_view_module": "@jupyter-widgets/base",
            "_view_module_version": "1.2.0",
            "_view_name": "LayoutView",
            "align_content": null,
            "align_items": null,
            "align_self": null,
            "border": null,
            "bottom": null,
            "display": null,
            "flex": null,
            "flex_flow": null,
            "grid_area": null,
            "grid_auto_columns": null,
            "grid_auto_flow": null,
            "grid_auto_rows": null,
            "grid_column": null,
            "grid_gap": null,
            "grid_row": null,
            "grid_template_areas": null,
            "grid_template_columns": null,
            "grid_template_rows": null,
            "height": null,
            "justify_content": null,
            "justify_items": null,
            "left": null,
            "margin": null,
            "max_height": null,
            "max_width": null,
            "min_height": null,
            "min_width": null,
            "object_fit": null,
            "object_position": null,
            "order": null,
            "overflow": null,
            "overflow_x": null,
            "overflow_y": null,
            "padding": null,
            "right": null,
            "top": null,
            "visibility": null,
            "width": null
          }
        },
        "ff2348c5db2f4791b957b4556bab5fbc": {
          "model_module": "@jupyter-widgets/controls",
          "model_module_version": "1.5.0",
          "model_name": "HBoxModel",
          "state": {
            "_dom_classes": [],
            "_model_module": "@jupyter-widgets/controls",
            "_model_module_version": "1.5.0",
            "_model_name": "HBoxModel",
            "_view_count": null,
            "_view_module": "@jupyter-widgets/controls",
            "_view_module_version": "1.5.0",
            "_view_name": "HBoxView",
            "box_style": "",
            "children": [
              "IPY_MODEL_3bb498ec370d465c8e293bf581b4f86b",
              "IPY_MODEL_66be647e14e6404d94b4870a13517e9b",
              "IPY_MODEL_3c66992193d94854a208d7a2f2faef9b"
            ],
            "layout": "IPY_MODEL_e1a673a984984d19be860800cab11390"
          }
        }
      }
    }
  },
  "nbformat": 4,
  "nbformat_minor": 0
}
