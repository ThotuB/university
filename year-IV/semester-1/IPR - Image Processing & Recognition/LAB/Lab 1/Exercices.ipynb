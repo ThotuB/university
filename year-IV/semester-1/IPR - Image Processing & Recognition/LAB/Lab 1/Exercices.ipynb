{
 "cells": [
  {
   "cell_type": "code",
   "execution_count": 1,
   "metadata": {},
   "outputs": [],
   "source": [
    "import numpy as np"
   ]
  },
  {
   "cell_type": "code",
   "execution_count": 2,
   "metadata": {},
   "outputs": [
    {
     "name": "stdout",
     "output_type": "stream",
     "text": [
      "[[[ 1  2]\n",
      "  [ 3  4]\n",
      "  [ 5  6]]\n",
      "\n",
      " [[ 7  8]\n",
      "  [ 9 10]\n",
      "  [11 12]]]\n",
      "(2, 3, 2)\n"
     ]
    }
   ],
   "source": [
    "# Exercise 1\n",
    "arr_2_3_2 = np.array([[[1, 2], [3, 4], [5, 6]], [[7, 8], [9, 10], [11, 12]]])\n",
    "\n",
    "print(arr_2_3_2)\n",
    "print(arr_2_3_2.shape)"
   ]
  },
  {
   "cell_type": "code",
   "execution_count": 3,
   "metadata": {},
   "outputs": [],
   "source": [
    "# Exercise 2\n",
    "def tokenize_mathematical_expression(expression):\n",
    "    tokens = []\n",
    "    for char in expression:\n",
    "        if char in ['+', '-', '*', '/', '(', ')']:\n",
    "            tokens.append(char)\n",
    "        elif char == ' ':\n",
    "            continue\n",
    "        else:\n",
    "            tokens.append(int(char))\n",
    "    return tokens"
   ]
  },
  {
   "cell_type": "code",
   "execution_count": 4,
   "metadata": {},
   "outputs": [
    {
     "name": "stdout",
     "output_type": "stream",
     "text": [
      "[1, '+', 2, '*', 3, '-', '(', 4, '/', 5, ')']\n"
     ]
    }
   ],
   "source": [
    "print(tokenize_mathematical_expression('1 + 2 * 3 - (4 / 5)'))"
   ]
  },
  {
   "cell_type": "code",
   "execution_count": 9,
   "metadata": {},
   "outputs": [],
   "source": [
    "import re\n",
    "\n",
    "class FormattedText:\n",
    "    def __init__(self, text: str):\n",
    "        self.fmt_text = self.__format(text)\n",
    "\n",
    "    def __format(self, text: str) -> str:\n",
    "        return re.sub(r'|\\!|\\?|\\.|\\,', '', text.lower())\n",
    "\n",
    "    def __len__(self) -> int:\n",
    "        return len(self.fmt_text)\n",
    "\n",
    "    def __str__(self) -> str:\n",
    "        return self.fmt_text            "
   ]
  },
  {
   "cell_type": "code",
   "execution_count": 10,
   "metadata": {},
   "outputs": [
    {
     "name": "stdout",
     "output_type": "stream",
     "text": [
      "wow what is this weird\n",
      "22\n"
     ]
    }
   ],
   "source": [
    "text = FormattedText('Wow! What is this? Weird...')\n",
    "print(text)\n",
    "print(len(text))"
   ]
  }
 ],
 "metadata": {
  "kernelspec": {
   "display_name": "Python 3.10.7 64-bit",
   "language": "python",
   "name": "python3"
  },
  "language_info": {
   "codemirror_mode": {
    "name": "ipython",
    "version": 3
   },
   "file_extension": ".py",
   "mimetype": "text/x-python",
   "name": "python",
   "nbconvert_exporter": "python",
   "pygments_lexer": "ipython3",
   "version": "3.10.7"
  },
  "orig_nbformat": 4,
  "vscode": {
   "interpreter": {
    "hash": "369f2c481f4da34e4445cda3fffd2e751bd1c4d706f27375911949ba6bb62e1c"
   }
  }
 },
 "nbformat": 4,
 "nbformat_minor": 2
}
