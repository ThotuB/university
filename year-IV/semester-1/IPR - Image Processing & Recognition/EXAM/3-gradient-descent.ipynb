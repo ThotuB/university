{
 "cells": [
  {
   "attachments": {},
   "cell_type": "markdown",
   "metadata": {},
   "source": [
    "# Gradient Descent"
   ]
  },
  {
   "attachments": {},
   "cell_type": "markdown",
   "metadata": {},
   "source": [
    "$$\n",
    "\\begin{split}\n",
    "\\nabla_w \\mathcal{L}(w) &= \\nabla_w \\left ( \\frac{1}{2n} (Xw - y)^T(Xw - y) \\right ) \\\\\n",
    "&= \\frac{1}{n} (X^TXw - X^Ty) \\\\\n",
    "&= \\frac{1}{n} X^T(Xw - y) \\\\\n",
    "\\\\\n",
    "\\nabla_w \\mathcal{L}(w) = 0^T &\\Leftrightarrow \\frac{1}{n} (X^TXw - X^Ty) = 0^T \\\\\n",
    "&\\Leftrightarrow X^TXw = X^Ty \\\\\n",
    "&\\Leftrightarrow w = (X^TX)^{-1}X^Ty \\\\\n",
    "\\end{split}\n",
    "$$\n",
    "\n",
    "$$\n",
    "w^* = (X^TX)^{-1}X^Ty\n",
    "$$"
   ]
  },
  {
   "attachments": {},
   "cell_type": "markdown",
   "metadata": {},
   "source": [
    "## Update Rule\n",
    "\n",
    "$$\n",
    "w \\leftarrow w - \\eta \\nabla_w \\mathcal{L}(w)\n",
    "$$\n",
    "\n",
    "$$\n",
    "w \\leftarrow w - \\eta \\nabla_w \\left ( \\frac{1}{n} \\sum_{i=1}^n \\mathcal{L}^i(w) \\right )\n",
    "$$\n",
    "\n",
    "$$\n",
    "\\eta = \\text{learning rate}\n",
    "$$"
   ]
  },
  {
   "attachments": {},
   "cell_type": "markdown",
   "metadata": {},
   "source": [
    "## Batch Gradient Descent\n",
    "\n",
    "$$\n",
    "w \\leftarrow w - \\eta \\nabla_w \\left ( \\frac{1}{\\mathcal{|B|}} \\sum_{i \\in \\mathcal{B}} \\mathcal{L}^i(w) \\right )\n",
    "$$"
   ]
  }
 ],
 "metadata": {
  "kernelspec": {
   "display_name": "Python 3",
   "language": "python",
   "name": "python3"
  },
  "language_info": {
   "name": "python",
   "version": "3.10.7 (tags/v3.10.7:6cc6b13, Sep  5 2022, 14:08:36) [MSC v.1933 64 bit (AMD64)]"
  },
  "orig_nbformat": 4,
  "vscode": {
   "interpreter": {
    "hash": "369f2c481f4da34e4445cda3fffd2e751bd1c4d706f27375911949ba6bb62e1c"
   }
  }
 },
 "nbformat": 4,
 "nbformat_minor": 2
}
