{
 "cells": [
  {
   "attachments": {},
   "cell_type": "markdown",
   "metadata": {},
   "source": [
    "# Batch Normalization"
   ]
  },
  {
   "attachments": {},
   "cell_type": "markdown",
   "metadata": {},
   "source": [
    "$$\n",
    "BN(x) = \\gamma \\circ \\frac{x - \\hat{\\mu}_\\mathcal{B}}{\\hat{\\sigma}_\\mathcal{B}} + \\beta"
   ]
  },
  {
   "attachments": {},
   "cell_type": "markdown",
   "metadata": {},
   "source": [
    "$$\n",
    "\\begin{split}\n",
    "\\hat{\\mu}_\\mathcal{B} = \\frac{1}{|\\mathcal{B}|} \\sum_{x \\in \\mathcal{B}} x\n",
    "\\hat{\\sigma}_\\mathcal{B}^2 = \\frac{1}{|\\mathcal{B}|} \\sum_{x \\in \\mathcal{B}} (x - \\hat{\\mu}_\\mathcal{B})^2 + \\epsilon\n",
    "\\end{split}"
   ]
  },
  {
   "attachments": {},
   "cell_type": "markdown",
   "metadata": {},
   "source": [
    "## Applying Batch Normalization\n",
    "\n",
    "$$\n",
    "h = \\phi(BN(Wx + b))\n",
    "$$"
   ]
  },
  {
   "cell_type": "code",
   "execution_count": null,
   "metadata": {},
   "outputs": [],
   "source": []
  }
 ],
 "metadata": {
  "kernelspec": {
   "display_name": "Python 3",
   "language": "python",
   "name": "python3"
  },
  "language_info": {
   "name": "python",
   "version": "3.10.7 (tags/v3.10.7:6cc6b13, Sep  5 2022, 14:08:36) [MSC v.1933 64 bit (AMD64)]"
  },
  "orig_nbformat": 4,
  "vscode": {
   "interpreter": {
    "hash": "369f2c481f4da34e4445cda3fffd2e751bd1c4d706f27375911949ba6bb62e1c"
   }
  }
 },
 "nbformat": 4,
 "nbformat_minor": 2
}
