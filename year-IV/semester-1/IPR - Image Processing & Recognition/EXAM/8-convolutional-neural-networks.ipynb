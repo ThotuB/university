{
 "cells": [
  {
   "attachments": {},
   "cell_type": "markdown",
   "metadata": {},
   "source": [
    "# Convolutional Neural Networks"
   ]
  },
  {
   "attachments": {},
   "cell_type": "markdown",
   "metadata": {},
   "source": [
    "## Convolution"
   ]
  },
  {
   "attachments": {},
   "cell_type": "markdown",
   "metadata": {},
   "source": [
    "$$\n",
    "[H]_{i,j,c_{out}} = \\sum_{c_{in}} \\sum_{a} \\sum_{b} [V]_{a,b,c_{in},c_{out}} \\cdot [X]_{i+a,j+b,c_{in}}"
   ]
  },
  {
   "cell_type": "code",
   "execution_count": 59,
   "metadata": {},
   "outputs": [],
   "source": [
    "import numpy as np\n",
    "\n",
    "def convolve(image: np.ndarray, kernel: np.ndarray, /, stride: int = 1, padding: int = 0, channels: int = 1):\n",
    "    if type(stride) is int:\n",
    "        stride: tuple[int, int] = (stride, stride)\n",
    "        \n",
    "    if type(padding) is int:\n",
    "        padding: tuple[int, int] = (padding, padding)\n",
    "    \n",
    "    ic, ih, iw = image.shape\n",
    "    kh, kw = kernel.shape\n",
    "    ph, pw = padding\n",
    "    sh, sw = stride\n",
    "    \n",
    "    out_shape = ( channels, (ih + 2*ph - kh) // sh + 1, (iw + 2*pw - kw) // sw + 1) \n",
    "    output = np.zeros(out_shape)\n",
    "    \n",
    "    aux_shape = ( ic, (ih + 2*ph - kh) // sh + 1, (iw + 2*pw - kw) // sw + 1)\n",
    "    aux = np.zeros(aux_shape)\n",
    "    print(aux_shape)\n",
    "    \n",
    "    image = np.pad(image, ((0, 0), padding, padding), 'constant')\n",
    "    \n",
    "    for c in range(ic):\n",
    "        for i in range(0, ih + 2*ph - kh + 1, sh):\n",
    "            for j in range(0, iw + 2*pw - kw + 1, sw):\n",
    "                aux[c, i//sh, j//sw] = np.sum(image[c, i:i+kh, j:j+kw] * kernel)\n",
    "    \n",
    "    # for i in range(0, ih + 2*ph - kh, sh):\n",
    "    #     for j in range(0, iw + 2*pw - kw, sw):\n",
    "    #         output[i//sh, j//sw] = np.sum(image[i:i+kh, j:j+kw] * kernel)\n",
    "            \n",
    "    return aux"
   ]
  },
  {
   "cell_type": "code",
   "execution_count": 63,
   "metadata": {},
   "outputs": [
    {
     "name": "stdout",
     "output_type": "stream",
     "text": [
      "(2, 2, 2)\n"
     ]
    },
    {
     "data": {
      "text/plain": [
       "array([[[19., 25.],\n",
       "        [37., 43.]],\n",
       "\n",
       "       [[25., 31.],\n",
       "        [43., 49.]]])"
      ]
     },
     "execution_count": 63,
     "metadata": {},
     "output_type": "execute_result"
    }
   ],
   "source": [
    "input = np.array([\n",
    "    [[0, 1, 2],\n",
    "    [3, 4, 5],\n",
    "    [6, 7, 8]],\n",
    "    \n",
    "    [[1, 2, 3],\n",
    "    [4, 5, 6],  \n",
    "    [7, 8, 9]]\n",
    "])\n",
    "\n",
    "kernel = np.array([\n",
    "    [0, 1],\n",
    "    [2, 3]\n",
    "])\n",
    "\n",
    "convolve(input, kernel, stride=1, padding=0)"
   ]
  },
  {
   "attachments": {},
   "cell_type": "markdown",
   "metadata": {},
   "source": [
    "## Pooling"
   ]
  },
  {
   "cell_type": "code",
   "execution_count": 54,
   "metadata": {},
   "outputs": [],
   "source": [
    "def pool(image: np.ndarray, fn, /, size: int = 2, stride: int = 1):\n",
    "    if type(stride) is int:\n",
    "        stride: tuple[int, int] = (stride, stride)\n",
    "        \n",
    "    if type(size) is int:\n",
    "        size: tuple[int, int] = (size, size)\n",
    "    \n",
    "    sth, stw = stride\n",
    "    szh, szw = size\n",
    "    \n",
    "    ic, ih, iw = image.shape\n",
    "    out_shape = (ic, (ih - szh) // sth + 1, (iw - szw) // stw + 1)\n",
    "    output = np.zeros(out_shape)\n",
    "    \n",
    "    for c in range(ic):\n",
    "        for i in range(0, ih - szh + 1, sth):\n",
    "            for j in range(0, iw - szw + 1, stw):\n",
    "                output[c, i//sth, j//stw] = fn(image[c, i:i+szh, j:j+szw])\n",
    "                \n",
    "    return output\n",
    "\n",
    "def max_pool(image: np.ndarray, /, size: int = 2, stride: int = 1):\n",
    "    return pool(image, np.max, size=size, stride=stride)\n",
    "\n",
    "def avg_pool(image: np.ndarray, /, size: int = 2, stride: int = 1):\n",
    "    return pool(image, np.mean, size=size, stride=stride)"
   ]
  },
  {
   "cell_type": "code",
   "execution_count": 55,
   "metadata": {},
   "outputs": [
    {
     "data": {
      "text/plain": [
       "array([[[4., 5.],\n",
       "        [7., 8.]]])"
      ]
     },
     "execution_count": 55,
     "metadata": {},
     "output_type": "execute_result"
    }
   ],
   "source": [
    "image = np.array([\n",
    "    [[0, 1, 2],\n",
    "    [3, 4, 5],\n",
    "    [6, 7, 8]]\n",
    "])\n",
    "\n",
    "max_pool(image, size=2, stride=1)"
   ]
  }
 ],
 "metadata": {
  "kernelspec": {
   "display_name": "Python 3",
   "language": "python",
   "name": "python3"
  },
  "language_info": {
   "codemirror_mode": {
    "name": "ipython",
    "version": 3
   },
   "file_extension": ".py",
   "mimetype": "text/x-python",
   "name": "python",
   "nbconvert_exporter": "python",
   "pygments_lexer": "ipython3",
   "version": "3.10.7 (tags/v3.10.7:6cc6b13, Sep  5 2022, 14:08:36) [MSC v.1933 64 bit (AMD64)]"
  },
  "orig_nbformat": 4,
  "vscode": {
   "interpreter": {
    "hash": "369f2c481f4da34e4445cda3fffd2e751bd1c4d706f27375911949ba6bb62e1c"
   }
  }
 },
 "nbformat": 4,
 "nbformat_minor": 2
}
