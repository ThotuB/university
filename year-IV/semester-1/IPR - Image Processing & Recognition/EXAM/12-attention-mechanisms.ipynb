{
 "cells": [
  {
   "attachments": {},
   "cell_type": "markdown",
   "metadata": {},
   "source": [
    "# Nadaraya-Watson Kernel Regression\n",
    "\n",
    "Given input-output pairs ${(x_i, y_i), \\dots (x_n, y_n)}$ \n",
    "\n",
    "Train a function $f(x)$ that predicts $y_i$ for $x_i$.\n",
    "\n",
    "$ \\hat{y} = f(x) $\n",
    "\n",
    "Average pooling:\n",
    "$$\n",
    "f(x) = \\frac{1}{n} \\sum_{i=1}^n y_i\n",
    "$$\n",
    "\n",
    "Nadaraya-Watson kernel regression:\n",
    "$$\n",
    "\\begin{split}\n",
    "f(x) &= \\sum_{i=1}^n \\frac{K(x - x_i)}{\\sum_{j=1}^n K(x - x_j)} y_i \\\\\n",
    "&= \\sum_{i=1}^n \\alpha(x, x_i) y_i \\\\\n",
    "K &- kernel \\\\\n",
    "\\end{split}\n",
    "$$"
   ]
  },
  {
   "attachments": {},
   "cell_type": "markdown",
   "metadata": {},
   "source": [
    "# Gaussian Kernel\n",
    "\n",
    "$$\n",
    "K(x) = \\frac{1}{\\sqrt{2 \\pi \\sigma^2}} e^{- \\frac{1}{2} \\left( \\frac{x - \\mu}{\\sigma} \\right)^2}\n",
    "$$"
   ]
  },
  {
   "attachments": {},
   "cell_type": "markdown",
   "metadata": {},
   "source": [
    "## Standard Gaussian Kernel\n",
    "\n",
    "$$\n",
    "K(x) = \\frac{1}{\\sqrt{2 \\pi}} e^{- \\frac{x^2}{2} }\n",
    "$$"
   ]
  },
  {
   "attachments": {},
   "cell_type": "markdown",
   "metadata": {},
   "source": [
    "$$\n",
    "\\begin{split}\n",
    "f(x) &= \\sum_{i=1}^n \\alpha(x, x_i) y_i \\\\\n",
    "&= \\sum_{i=1}^n \\frac{exp(- \\frac{1}{2} ( x - x_i )^2)}{\\sum_{j=1}^n exp(- \\frac{1}{2} ( x - x_j)^2)} y_i \\\\\n",
    "&= \\sum_{i=1}^n softmax(- \\frac{1}{2} ( x - x_i )^2) y_i \\\\\n",
    "\\end{split}\n",
    "$$"
   ]
  },
  {
   "cell_type": "code",
   "execution_count": null,
   "metadata": {},
   "outputs": [],
   "source": []
  }
 ],
 "metadata": {
  "language_info": {
   "name": "python"
  },
  "orig_nbformat": 4
 },
 "nbformat": 4,
 "nbformat_minor": 2
}
