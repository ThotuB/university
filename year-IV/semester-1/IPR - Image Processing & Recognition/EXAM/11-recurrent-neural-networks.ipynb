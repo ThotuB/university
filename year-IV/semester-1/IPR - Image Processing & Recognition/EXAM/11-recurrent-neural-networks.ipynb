{
 "cells": [
  {
   "attachments": {},
   "cell_type": "markdown",
   "metadata": {},
   "source": [
    "# Recurrent Neural Networks\n"
   ]
  },
  {
   "attachments": {},
   "cell_type": "markdown",
   "metadata": {},
   "source": [
    "## Single Layer RNN\n",
    "\n",
    "$$\n",
    "\\begin{split}\n",
    "H_t &= \\phi(X_t W_{xh} + H_{t-1}W_{hh} + b_{h}) \\\\\n",
    "O_t &= \\phi(H^{n-1}_t W_{ho} + b_{o}) \\\\\n",
    "\\end{split}\n",
    "$$"
   ]
  },
  {
   "attachments": {},
   "cell_type": "markdown",
   "metadata": {},
   "source": [
    "## Deep RNN\n",
    "\n",
    "$$\n",
    "\\begin{split}\n",
    "H_t^{(1)} &= \\phi(X_t W_{xh} + H_{t-1}^{(1)}W_{hh} + b_{h}) \\\\\n",
    "H_t^{(2)} &= \\phi(H_t^{(1)} W_{xh} + H_{t-1}^{(2)}W_{hh} + b_{h}) \\\\\n",
    "&\\vdots \\\\\n",
    "H_t^{(n)} &= \\phi(H_t^{(n-1)} W_{xh} + H_{t-1}^{(n)}W_{hh} + b_{h}) \\\\\n",
    "O_t &= \\phi(H^{n}_t W_{ho} + b_{o}) \\\\\n",
    "\\end{split}\n",
    "$$"
   ]
  },
  {
   "attachments": {},
   "cell_type": "markdown",
   "metadata": {},
   "source": [
    "## Mean Cross Entropy\n",
    "\n",
    "$$\n",
    "MCE(x_t) = -\\frac{1}{n}\\sum_{i=1}^n \\log P(x_t | x_{t-1}, \\dots, x_1)"
   ]
  },
  {
   "attachments": {},
   "cell_type": "markdown",
   "metadata": {},
   "source": [
    "## Perplexity\n",
    "\n",
    "$$\n",
    "PPL(x_t) = e^{MCE(x_t)}\n",
    "$$"
   ]
  },
  {
   "attachments": {},
   "cell_type": "markdown",
   "metadata": {},
   "source": [
    "# Gated Recurrent Unit (GRU)\n",
    "\n",
    "$$\n",
    "\\begin{split}\n",
    "z_t &= \\sigma(X_t W_{xz} + H_{t-1}W_{hz} + b_{z}) \\\\\n",
    "r_t &= \\sigma(X_t W_{xr} + H_{t-1}W_{hr} + b_{r}) \\\\\n",
    "\\\\\n",
    "\\tilde{H}_t &= \\tanh(X_t W_{xh} + (r_t \\odot H_{t-1})W_{hh} + b_{h}) \\\\\n",
    "H_t &= (1 - z_t) \\odot \\tilde{H}_t + z_t \\odot H_{t-1} = lerp(z_t, H_{t-1}, \\tilde{H}_t) \\\\\n",
    "O_t &= \\phi(H_t W_{ho} + b_{o}) \\\\\n",
    "\\\\\n",
    "\\tilde{H}_t &- \\text{candidate hidden state} \\\\\n",
    "\\end{split}\n",
    "$$"
   ]
  },
  {
   "attachments": {},
   "cell_type": "markdown",
   "metadata": {},
   "source": [
    "# Long Short-Term Memory (LSTM)\n",
    "\n",
    "$$\n",
    "\\begin{split}\n",
    "i_t &= \\sigma(X_t W_{xi} + H_{t-1}W_{hi} + b_{i}) \\\\\n",
    "f_t &= \\sigma(X_t W_{xf} + H_{t-1}W_{hf} + b_{f}) \\\\\n",
    "o_t &= \\sigma(X_t W_{xo} + H_{t-1}W_{ho} + b_{o}) \\\\\n",
    "\\\\\n",
    "\\tilde{C}_t &= \\tanh(X_t W_{xc} + H_{t-1}W_{hc} + b_{c}) \\\\\n",
    "C_t &= f_t \\odot C_{t-1} + i_t \\odot \\tilde{C}_t \\\\\n",
    "H_t &= o_t \\odot \\tanh(C_t) \\\\\n",
    "O_t &= \\phi(H_t W_{ho} + b_{o}) \\\\\n",
    "\\\\\n",
    "\\tilde{C}_t &- \\text{candidate memory cell} \\\\\n",
    "C_{t-1} &- \\text{previous memory cell} \\\\\n",
    "C_t &- \\text{current memory cell} \\\\\n",
    "\\end{split}\n",
    "$$"
   ]
  },
  {
   "attachments": {},
   "cell_type": "markdown",
   "metadata": {},
   "source": [
    "# Sequence to Sequence (Seq2Seq) Model\n",
    "\n",
    "$$\n",
    "\\begin{split}\n",
    "H_t &= f(x_t, H_{t-1}) \\\\\n",
    "Encoder: c &= q(H_1, H_2, \\dots, H_T) \\\\\n",
    "Decoder: s_{t'} &= g(y_{t'-1}, c, s_{t'-1}) \\\\\n",
    "\\end{split}\n",
    "$$"
   ]
  },
  {
   "attachments": {},
   "cell_type": "markdown",
   "metadata": {},
   "source": [
    "## Bilingual Evaluation Understudy (BLEU)\n",
    "\n",
    "$$\n",
    "\\begin{split}\n",
    "BLEU &= \\exp \\left( min \\left ( 0, 1 - \\frac{len_{label}}{len_{pred}} \\right ) \\right) \\prod_{i=1}^{n} p_i^{1/2^i} \\\\\n",
    "\\end{split}\n",
    "$$"
   ]
  },
  {
   "cell_type": "code",
   "execution_count": null,
   "metadata": {},
   "outputs": [],
   "source": []
  }
 ],
 "metadata": {
  "kernelspec": {
   "display_name": "Python 3",
   "language": "python",
   "name": "python3"
  },
  "language_info": {
   "name": "python",
   "version": "3.10.7 (tags/v3.10.7:6cc6b13, Sep  5 2022, 14:08:36) [MSC v.1933 64 bit (AMD64)]"
  },
  "orig_nbformat": 4,
  "vscode": {
   "interpreter": {
    "hash": "369f2c481f4da34e4445cda3fffd2e751bd1c4d706f27375911949ba6bb62e1c"
   }
  }
 },
 "nbformat": 4,
 "nbformat_minor": 2
}
