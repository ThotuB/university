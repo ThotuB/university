{
 "cells": [
  {
   "attachments": {},
   "cell_type": "markdown",
   "metadata": {},
   "source": [
    "# Numerical Stability\n",
    "\n",
    "$$\n",
    "\\frac{\\partial o}{\\partial W^{(l)}} \n",
    "= \\underbrace{\\frac{\\partial h^{(L)}}{\\partial h^{(L-1)}}}_{M^{(L)}} \n",
    ". \\dots \n",
    ". \\underbrace{\\frac{\\partial h^{(l+1)}}{\\partial h^{(l)}}}_{M^{(l)}} \n",
    ". \\underbrace{\\frac{\\partial h^{(l)}}{\\partial W^{(l)}}}_{v^{(l)}}\n",
    "\\\\\n",
    "\\\\\n",
    "v^{(l)} - \\text{gradient vector}\n",
    "$$"
   ]
  },
  {
   "attachments": {},
   "cell_type": "markdown",
   "metadata": {},
   "source": [
    "## Output\n",
    "\n",
    "$$\n",
    "o_{i} = \\sum_{j} W_{ij} x_{j}\n",
    "$$"
   ]
  },
  {
   "attachments": {},
   "cell_type": "markdown",
   "metadata": {},
   "source": [
    "## Expected Value\n",
    "\n",
    "$$\n",
    "\\begin{split}\n",
    "E[o_{i}] &= \\sum_{j} E[W_{ij} x_{j}] \\\\\n",
    "&= \\sum_{j} E[W_{ij}] E[x_{j}] \\\\\n",
    "&= 0 \\\\\n",
    "\\end{split} \\\\\n",
    "$$"
   ]
  },
  {
   "attachments": {},
   "cell_type": "markdown",
   "metadata": {},
   "source": [
    "## Variance\n",
    "\n",
    "$$\n",
    "\\begin{split}\n",
    "Var[o_{i}] &= E[o_{i}^{2}] - E[o_{i}]^{2} \\\\\n",
    "&= \\sum_{j} E[W_{ij}^{2}] E[x_{j}^{2}] - 0 \\\\\n",
    "&= n_{in} \\sigma^{2} \\gamma^{2} \\\\\n",
    "\\\\\n",
    "\\sigma^{2} &- \\text{variance of the input} \\\\\n",
    "\\gamma^{2} &- \\text{variance of the weights} \\\\\n",
    "\\end{split} \n",
    "$$"
   ]
  }
 ],
 "metadata": {
  "kernelspec": {
   "display_name": "Python 3",
   "language": "python",
   "name": "python3"
  },
  "language_info": {
   "name": "python",
   "version": "3.10.7 (tags/v3.10.7:6cc6b13, Sep  5 2022, 14:08:36) [MSC v.1933 64 bit (AMD64)]"
  },
  "orig_nbformat": 4,
  "vscode": {
   "interpreter": {
    "hash": "369f2c481f4da34e4445cda3fffd2e751bd1c4d706f27375911949ba6bb62e1c"
   }
  }
 },
 "nbformat": 4,
 "nbformat_minor": 2
}
