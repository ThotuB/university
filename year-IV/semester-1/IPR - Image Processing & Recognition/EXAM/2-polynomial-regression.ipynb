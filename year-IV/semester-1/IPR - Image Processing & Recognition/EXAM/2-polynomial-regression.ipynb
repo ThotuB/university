{
 "cells": [
  {
   "attachments": {},
   "cell_type": "markdown",
   "metadata": {},
   "source": [
    "# Polynomial Regression"
   ]
  },
  {
   "attachments": {},
   "cell_type": "markdown",
   "metadata": {},
   "source": [
    "## Model"
   ]
  },
  {
   "attachments": {},
   "cell_type": "markdown",
   "metadata": {},
   "source": [
    "$$\n",
    "\\phi(x) - \\text{non-linear transformation}\n",
    "$$\n",
    "\n",
    "$$\n",
    "\\hat{y} = w^T\\phi(x)\n",
    "$$"
   ]
  },
  {
   "attachments": {},
   "cell_type": "markdown",
   "metadata": {},
   "source": [
    "$$\n",
    "\\phi(x) = \n",
    "\\begin{bmatrix} \n",
    "1 \\\\\n",
    "x \\\\\n",
    "x^2 \\\\\n",
    "\\vdots \\\\\n",
    "x^d \\\\\n",
    "\\end{bmatrix}"
   ]
  },
  {
   "attachments": {},
   "cell_type": "markdown",
   "metadata": {},
   "source": [
    "## Root Mean Squared Error\n",
    "\n",
    "$$\n",
    "\\text{RMSE}\n",
    "= \\sqrt{\\frac{1}{n}\\sum_{i=1}^n(y_i - \\hat{y}_i)^2}\n",
    "= \\sqrt{\\frac{1}{n}\\sum_{i=1}^n(y_i - w^T\\phi(x_i))^2}\n",
    "$$"
   ]
  }
 ],
 "metadata": {
  "kernelspec": {
   "display_name": "Python 3",
   "language": "python",
   "name": "python3"
  },
  "language_info": {
   "name": "python",
   "version": "3.10.7 (tags/v3.10.7:6cc6b13, Sep  5 2022, 14:08:36) [MSC v.1933 64 bit (AMD64)]"
  },
  "orig_nbformat": 4,
  "vscode": {
   "interpreter": {
    "hash": "369f2c481f4da34e4445cda3fffd2e751bd1c4d706f27375911949ba6bb62e1c"
   }
  }
 },
 "nbformat": 4,
 "nbformat_minor": 2
}
