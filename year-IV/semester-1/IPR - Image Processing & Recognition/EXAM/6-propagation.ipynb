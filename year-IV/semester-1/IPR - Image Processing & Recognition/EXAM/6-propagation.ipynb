{
 "cells": [
  {
   "attachments": {},
   "cell_type": "markdown",
   "metadata": {},
   "source": [
    "# Forward Propagation"
   ]
  },
  {
   "attachments": {},
   "cell_type": "markdown",
   "metadata": {},
   "source": [
    "$$\n",
    "\\begin{align*}\n",
    "\\mathbf{x} &- \\text{input} \\\\\n",
    "\\mathbf{z}^{(1)} &= \\mathbf{W}^{(1)} \\mathbf{x} + \\mathbf{b}^{(1)} \\\\\n",
    "\\mathbf{h}^{(1)} &= \\phi(\\mathbf{z}^{(1)}) \\\\\n",
    "\\mathbf{z}^{(2)} &= \\mathbf{W}^{(2)} \\mathbf{h}^{(1)} + \\mathbf{b}^{(2)} \\\\\n",
    "\\mathbf{h}^{(2)} &= \\phi(\\mathbf{z}^{(2)}) \\\\\n",
    "&\\vdots \\\\\n",
    "\\mathbf{z}^{(n-1)} &= \\mathbf{W}^{(n-1)} \\mathbf{h}^{(n-2)} + \\mathbf{b}^{(n-1)} \\\\\n",
    "\\mathbf{h}^{(n-1)} &= \\phi(\\mathbf{z}^{(n-1)}) \\\\\n",
    "\\mathbf{o} &= \\mathbf{W}^{(n)} \\mathbf{h}^{(n-1)} + \\mathbf{b}^{(n)} \\\\\n",
    "\\end{align*}\n",
    "$$"
   ]
  },
  {
   "attachments": {},
   "cell_type": "markdown",
   "metadata": {},
   "source": [
    "# Backward Propagation"
   ]
  },
  {
   "attachments": {},
   "cell_type": "markdown",
   "metadata": {},
   "source": [
    "## Chain Rule\n",
    "\n",
    "$$\n",
    "\\frac{\\partial Z}{\\partial X} = \\frac{\\partial Z}{\\partial Y} \\frac{\\partial Y}{\\partial X}\n",
    "$$"
   ]
  },
  {
   "attachments": {},
   "cell_type": "markdown",
   "metadata": {},
   "source": [
    "## Objective\n",
    "\n",
    "$$\n",
    "\\text{Calculate: }\n",
    "\\frac{\\partial J}{\\partial W^{(n)}} \\rightarrow\n",
    "\\dots \\rightarrow\n",
    "\\frac{\\partial J}{\\partial W^{(2)}} \\rightarrow\n",
    "\\frac{\\partial J}{\\partial W^{(1)}}\n",
    "$$"
   ]
  },
  {
   "attachments": {},
   "cell_type": "markdown",
   "metadata": {},
   "source": [
    "$$\n",
    "\\begin{equation}\n",
    "\\begin{split}\n",
    "\\frac{\\partial J}{\\partial W^{(n)}} &= \\frac{\\partial L}{\\partial W^{(n)}} + \\frac{\\partial s}{\\partial W^{(n)}} \\\\\n",
    "\\\\\n",
    "\\frac{\\partial L}{\\partial W^{(n)}} &= \\frac{\\partial L}{\\partial o} \\frac{\\partial o}{\\partial W^{(n)}} \\\\\n",
    "&= \\frac{\\partial L}{\\partial o} \\frac{\\partial (W^n h^{(n-1)})}{\\partial W^{(n)}} \\\\\n",
    "&= \\frac{\\partial L}{\\partial o} h^{(n-1)T} \\\\\n",
    "&= (o - y) h^{(n-1)T} \\\\\n",
    "\\\\\n",
    "\\frac{\\partial s}{\\partial W^{(n)}} &= \\lambda W^{(n)} \\\\\n",
    "\\\\\n",
    "\\Rightarrow\\frac{\\partial J}{\\partial W^{(n)}} &= (o - y) h^{(n-1)T} + \\lambda W^{(n)} \n",
    "\\end{split}\n",
    "\\end{equation}\n",
    "$$"
   ]
  },
  {
   "attachments": {},
   "cell_type": "markdown",
   "metadata": {},
   "source": [
    "$$\n",
    "\\begin{equation}\n",
    "\\begin{split}\n",
    "\\frac{\\partial J}{\\partial W^{(i)}} &= \\frac{\\partial L}{\\partial W^{(i)}} + \\frac{\\partial s}{\\partial W^{(i)}} \\\\\n",
    "\\\\\n",
    "\\frac{\\partial L}{\\partial W^{(i)}} &= \\frac{\\partial L}{\\partial z^{(i)}} h^{(i-1)T} \\\\\n",
    "\\\\\n",
    "\\frac{\\partial L}{\\partial z^{(i)}} &= \\frac{\\partial L}{\\partial h^{(i)}} \\frac{\\partial h^{(i)}}{\\partial z^{(i)}} \\\\\n",
    "&= \\frac{\\partial L}{\\partial h^{(i)}} \\frac{\\partial \\phi(z^{(i)})}{\\partial z^{(i)}} \\\\\n",
    "&= \\frac{\\partial L}{\\partial h^{(i)}} \\phi'(z^{(i)}) \\\\\n",
    "\\\\\n",
    "\\frac{\\partial L}{\\partial h^{(i)}} &= \\frac{\\partial L}{\\partial z^{(i+1)}} \\frac{\\partial z^{(i+1)}}{\\partial h^{(i)}} \\\\\n",
    "&= \\frac{\\partial L}{\\partial z^{(i+1)}} \\frac{\\partial (W^{(i+1)} h^{(i)})}{\\partial h^{(i)}} \\\\\n",
    "&= \\frac{\\partial L}{\\partial z^{(i+1)}} W^{(i+1)} \\\\\n",
    "\\\\\n",
    "\\frac{\\partial s}{\\partial W^{(i)}} &= \\lambda W^{(i)} \\\\\n",
    "\\\\\n",
    "\\Rightarrow\\frac{\\partial J}{\\partial W^{(i)}} &= \\left( \\frac{\\partial L}{\\partial z^{(i)}} h^{(i-1)T} \\right ) + \\lambda W^{(i)} \\\\\n",
    "\\\\\n",
    "\\text{if } i = n - 1: \\\\\n",
    "\\Rightarrow\\frac{\\partial L}{\\partial h^{(n-1)}} &= \\frac{\\partial L}{\\partial o} W^{(n)} \\\\\n",
    "&= (o - y) W^{(n)} \\\\\n",
    "\\\\\n",
    "\\Rightarrow\\frac{\\partial L}{\\partial z^{(n-1)}} &= \\left ( (o - y) W^{(n)} \\right ) \\circ \\phi'(z^{(n-1)}) \\\\\n",
    "\\\\\n",
    "\\Rightarrow\\frac{\\partial J}{\\partial W^{(n-1)}} &= \\left( \\left ( (o - y) W^{(n)} \\right ) \\circ \\phi'(z^{(n-1)}) \\right ) h^{(n-2)T} + \\lambda W^{(n-1)}\n",
    "\\end{split}\n",
    "\\end{equation}\n",
    "$$"
   ]
  },
  {
   "attachments": {},
   "cell_type": "markdown",
   "metadata": {},
   "source": [
    "## Conclusion\n",
    "\n",
    "$$\n",
    "\\begin{split}\n",
    "\\frac{\\partial L}{\\partial o} &= o - y \\\\\n",
    "\\frac{\\partial L}{\\partial W^{(n)}} &= \\frac{\\partial L}{\\partial o} h^{(n-1)T} \\\\\n",
    "\\frac{\\partial s}{\\partial W^{(n)}} &= \\lambda W^{(n)} \\\\\n",
    "\\frac{\\partial J}{\\partial W^{(n)}} &= \\frac{\\partial L}{\\partial W^{(n)}} + \\frac{\\partial s}{\\partial W^{(n)}} \\\\\n",
    "\\\\\n",
    "\\frac{\\partial L}{\\partial h^{(n-1)}} &= \\frac{\\partial L}{\\partial o} W^{(n)} \\\\\n",
    "\\frac{\\partial L}{\\partial z^{(n-1)}} &= \\frac{\\partial L}{\\partial h^{(n-1)}} \\circ \\phi'(z^{(n-1)}) \\\\\n",
    "\\frac{\\partial L}{\\partial W^{(n-1)}} &= \\frac{\\partial L}{\\partial z^{(n-1)}} h^{(n-2)T} \\\\\n",
    "\\frac{\\partial s}{\\partial W^{(n-1)}} &= \\lambda W^{(n-1)} \\\\\n",
    "\\frac{\\partial J}{\\partial W^{(n-1)}} &= \\frac{\\partial L}{\\partial W^{(n-1)}} + \\frac{\\partial s}{\\partial W^{(n-1)}} \\\\\n",
    "\\\\\n",
    "&\\vdots \\\\\n",
    "\\\\\n",
    "\\frac{\\partial L}{\\partial h^{(1)}} &= \\frac{\\partial L}{\\partial z^{(2)}} W^{(2)} \\\\\n",
    "\\frac{\\partial L}{\\partial z^{(1)}} &= \\frac{\\partial L}{\\partial h^{(1)}} \\circ \\phi'(z^{(1)}) \\\\\n",
    "\\frac{\\partial L}{\\partial W^{(1)}} &= \\frac{\\partial L}{\\partial z^{(1)}} xT \\\\\n",
    "\\frac{\\partial s}{\\partial W^{(1)}} &= \\lambda W^{(1)} \\\\\n",
    "\\frac{\\partial J}{\\partial W^{(1)}} &= \\frac{\\partial L}{\\partial W^{(1)}} + \\frac{\\partial s}{\\partial W^{(1)}} \\\\\n",
    "\\end{split}\n",
    "$$"
   ]
  }
 ],
 "metadata": {
  "kernelspec": {
   "display_name": "Python 3",
   "language": "python",
   "name": "python3"
  },
  "language_info": {
   "name": "python",
   "version": "3.10.7 (tags/v3.10.7:6cc6b13, Sep  5 2022, 14:08:36) [MSC v.1933 64 bit (AMD64)]"
  },
  "orig_nbformat": 4,
  "vscode": {
   "interpreter": {
    "hash": "369f2c481f4da34e4445cda3fffd2e751bd1c4d706f27375911949ba6bb62e1c"
   }
  }
 },
 "nbformat": 4,
 "nbformat_minor": 2
}
