{
 "cells": [
  {
   "attachments": {},
   "cell_type": "markdown",
   "metadata": {},
   "source": [
    "# Linear Regression"
   ]
  },
  {
   "attachments": {},
   "cell_type": "markdown",
   "metadata": {},
   "source": [
    "$$\n",
    "x =\n",
    "\\begin{bmatrix}\n",
    "1 \\\\\n",
    "x_1 \\\\\n",
    "x_2 \\\\\n",
    "\\vdots \\\\\n",
    "x_d\n",
    "\\end{bmatrix}\n",
    "\n",
    "w =\n",
    "\\begin{bmatrix}\n",
    "w_0 \\\\\n",
    "w_1 \\\\\n",
    "w_2 \\\\\n",
    "\\vdots \\\\\n",
    "w_d\n",
    "\\end{bmatrix}\n",
    "$$\n",
    "\n",
    "$$\n",
    "\\hat{y} = w^Tx = x^Tw =\n",
    "\\begin{bmatrix}\n",
    "w_0 & w_1 & w_2 & \\cdots & w_d\n",
    "\\end{bmatrix}\n",
    "\\begin{bmatrix}\n",
    "1 \\\\\n",
    "x_1 \\\\\n",
    "x_2 \\\\\n",
    "\\vdots \\\\\n",
    "x_d\n",
    "\\end{bmatrix}\n",
    "= w_0 + w_1x_1 + w_2x_2 + \\cdots + w_dx_d\n",
    "$$\n"
   ]
  },
  {
   "cell_type": "code",
   "execution_count": 28,
   "metadata": {},
   "outputs": [
    {
     "name": "stdout",
     "output_type": "stream",
     "text": [
      "[[107]]\n"
     ]
    }
   ],
   "source": [
    "import numpy as np\n",
    "\n",
    "x1 = np.array([\n",
    "    [1], # bias\n",
    "    [6], # x1\n",
    "    [2], # x2\n",
    "    [9], # x3\n",
    "    [4], # x4\n",
    "    [5], # x5\n",
    "])\n",
    "\n",
    "w = np.array([\n",
    "    [3], # bias\n",
    "    [2], # w1\n",
    "    [3], # w2\n",
    "    [4], # w3\n",
    "    [5], # w4\n",
    "    [6], # w5\n",
    "])\n",
    "\n",
    "y1hat = w.T @ x1\n",
    "\n",
    "print(y1hat)"
   ]
  },
  {
   "attachments": {},
   "cell_type": "markdown",
   "metadata": {},
   "source": [
    "$$\n",
    "X =\n",
    "\\begin{bmatrix}\n",
    "1 & x^1_1 & x^1_2 & ... & x^1_d \\\\\n",
    "1 & x^2_1 & x^2_2 & ... & x^2_d \\\\\n",
    "\\vdots & \\vdots & \\vdots & \\ddots & \\vdots \\\\\n",
    "1 & x^n_1 & x^n_2 & ... & x^n_d \\\\\n",
    "\\end{bmatrix}\n",
    "=\n",
    "\\begin{bmatrix}\n",
    "x^{1 T} \\\\\n",
    "x^{2 T} \\\\\n",
    "\\vdots \\\\\n",
    "x^{n T} \\\\\n",
    "\\end{bmatrix}\n",
    "$$\n",
    "\n",
    "$$\n",
    "\\hat{y} = Xw =\n",
    "\\begin{bmatrix}\n",
    "\\hat{y}^1 \\\\\n",
    "\\hat{y}^2 \\\\\n",
    "\\vdots \\\\\n",
    "\\hat{y}^n \\\\\n",
    "\\end{bmatrix}\n",
    "$$"
   ]
  },
  {
   "cell_type": "code",
   "execution_count": 29,
   "metadata": {},
   "outputs": [
    {
     "name": "stdout",
     "output_type": "stream",
     "text": [
      "[[107]\n",
      " [119]\n",
      " [103]\n",
      " [119]\n",
      " [299]\n",
      " [470]\n",
      " [155]]\n"
     ]
    }
   ],
   "source": [
    "X = np.array([\n",
    "    [1, 6, 2, 9, 4, 5],\n",
    "    [1, 7, 3, 8, 5, 6],\n",
    "    [1, 8, 4, 3, 6, 5],\n",
    "    [1, 9, 5, 6, 7, 4],\n",
    "    [1, 10, 66, 5, 8, 3],\n",
    "    [1, 11, 4, 4, 9, 62],\n",
    "    [1, 12, 8, 12, 10, 1]\n",
    "])\n",
    "\n",
    "Yhat = X @ w\n",
    "\n",
    "print(Yhat)"
   ]
  },
  {
   "attachments": {},
   "cell_type": "markdown",
   "metadata": {},
   "source": [
    "## Probability Density Function (Normal Distribution)\n"
   ]
  },
  {
   "cell_type": "code",
   "execution_count": 30,
   "metadata": {},
   "outputs": [],
   "source": [
    "Y = np.array([\n",
    "    [100],\n",
    "    [100],\n",
    "    [100],\n",
    "    [100],\n",
    "    [300],\n",
    "    [500],\n",
    "    [100]\n",
    "])"
   ]
  },
  {
   "attachments": {},
   "cell_type": "markdown",
   "metadata": {},
   "source": [
    "\n",
    "$$\n",
    "\\mathcal{N}(x; \\mu, \\sigma^2) = \\frac{1}{\\sqrt{2\\pi\\sigma^2}} \\exp\\left(-\\frac{(x-\\mu)^2}{2\\sigma^2}\\right)\n",
    "$$\n",
    "\n",
    "$$\n",
    "y = w^Tx + \\epsilon, \\epsilon \\sim \\mathcal{N}(0, \\sigma^2)\n",
    "$$\n",
    "\n",
    "$$\n",
    "\\mathcal{N}(y^i | x^i; w, \\sigma^2) = \\frac{1}{\\sqrt{2\\pi\\sigma^2}} \\exp\\left(-\\frac{(y^i - w^Tx^i)^2}{2\\sigma^2}\\right)\n",
    "$$"
   ]
  },
  {
   "cell_type": "code",
   "execution_count": 31,
   "metadata": {},
   "outputs": [],
   "source": [
    "from math import sqrt, exp, pi\n",
    "\n",
    "# probability density function of a normal distribution\n",
    "def pdf(yi: np.array, xi: np.array, w: np.array, sigma_2: float) -> float:\n",
    "    return 1 / (sqrt(2 * pi) * sigma_2) * exp(-1 / (2 * sigma_2 ** 2) * (yi - xi @ w) ** 2)"
   ]
  },
  {
   "cell_type": "code",
   "execution_count": 32,
   "metadata": {},
   "outputs": [
    {
     "data": {
      "text/plain": [
       "9.134720408364594e-12"
      ]
     },
     "execution_count": 32,
     "metadata": {},
     "output_type": "execute_result"
    }
   ],
   "source": [
    "pdf(Y[0], X[0], w, 1)"
   ]
  },
  {
   "attachments": {},
   "cell_type": "markdown",
   "metadata": {},
   "source": [
    "### Maximum likelihood\n",
    "\n",
    "$$\n",
    "\\mathcal{N}(y | X; w, \\sigma^2) = \\prod_{i=1}^n \\mathcal{N}(y^i | x^i; w, \\sigma^2)\n",
    "$$\n"
   ]
  },
  {
   "cell_type": "code",
   "execution_count": 35,
   "metadata": {},
   "outputs": [],
   "source": [
    "def likelihood(y: np.array, x: np.array, w: np.array, sigma_2: float) -> float:\n",
    "    return np.sum([pdf(y[i], x[i], w, sigma_2) for i in range(len(y))])"
   ]
  },
  {
   "cell_type": "code",
   "execution_count": 43,
   "metadata": {},
   "outputs": [
    {
     "data": {
      "text/plain": [
       "0.24640257294021609"
      ]
     },
     "execution_count": 43,
     "metadata": {},
     "output_type": "execute_result"
    }
   ],
   "source": [
    "likelihood(Y, X, w, 1)"
   ]
  },
  {
   "attachments": {},
   "cell_type": "markdown",
   "metadata": {},
   "source": [
    "### Negative log-likelihood\n",
    "\n",
    "$$\n",
    "-\\log \\mathcal{N}(y | X; w, \\sigma^2) \n",
    "= \\sum_{i=1}^n \\log \\mathcal{N}(y^i | x^i; w, \\sigma^2) \n",
    "= \\sum_{i=1}^n \\begin{bmatrix}\\frac{1}{2}\\log{2\\pi\\sigma^2} + \\frac{1}{2\\sigma^2}(y^i - w^Tx^i)^2\\end{bmatrix}\n",
    "$$"
   ]
  },
  {
   "cell_type": "code",
   "execution_count": 40,
   "metadata": {},
   "outputs": [],
   "source": [
    "from math import log\n",
    "\n",
    "def log_pdf(yi: np.array, xi: np.array, w: np.array, sigma_2: float) -> float:\n",
    "    return 1 / 2 * log(2 * pi * sigma_2) + 1 / (2 * sigma_2 ** 2) * (yi - xi @ w) ** 2"
   ]
  },
  {
   "cell_type": "code",
   "execution_count": 41,
   "metadata": {},
   "outputs": [],
   "source": [
    "def log_likelihood(y: np.array, x: np.array, w: np.array, sigma_2: float) -> float:\n",
    "    return np.sum([log_pdf(y[i], x[i], w, sigma_2) for i in range(len(y))])"
   ]
  },
  {
   "cell_type": "code",
   "execution_count": 47,
   "metadata": {},
   "outputs": [
    {
     "data": {
      "text/plain": [
       "2359.432569732433"
      ]
     },
     "execution_count": 47,
     "metadata": {},
     "output_type": "execute_result"
    }
   ],
   "source": [
    "log_likelihood(Y, X, w, 1)"
   ]
  },
  {
   "attachments": {},
   "cell_type": "markdown",
   "metadata": {},
   "source": [
    "### Ignoring sigma\n",
    "\n",
    "$$\n",
    "\\sum_{i=1}^n \\frac{1}{2}(y^i - w^Tx^i)^2 = \\sum_{i=1}^n (y^i - \\hat{y}^i)^2\n",
    "$$"
   ]
  },
  {
   "cell_type": "code",
   "execution_count": 54,
   "metadata": {},
   "outputs": [],
   "source": [
    "def squared_error(y: np.array, x: np.array, w: np.array) -> float:\n",
    "    return ((y - x @ w) ** 2) / 2"
   ]
  },
  {
   "cell_type": "code",
   "execution_count": 57,
   "metadata": {},
   "outputs": [
    {
     "data": {
      "text/plain": [
       "array([24.5])"
      ]
     },
     "execution_count": 57,
     "metadata": {},
     "output_type": "execute_result"
    }
   ],
   "source": [
    "squared_error(Y[0], X[0], w)"
   ]
  },
  {
   "cell_type": "code",
   "execution_count": 52,
   "metadata": {},
   "outputs": [],
   "source": [
    "def loss(y: np.array, x: np.array, w: np.array) -> float:\n",
    "    return np.sum(squared_error(y, x, w))"
   ]
  },
  {
   "cell_type": "code",
   "execution_count": 58,
   "metadata": {},
   "outputs": [
    {
     "data": {
      "text/plain": [
       "2353.0"
      ]
     },
     "execution_count": 58,
     "metadata": {},
     "output_type": "execute_result"
    }
   ],
   "source": [
    "loss(Y, X, w)"
   ]
  },
  {
   "attachments": {},
   "cell_type": "markdown",
   "metadata": {},
   "source": [
    "### Mean Squared Error (MSE)\n",
    "\n",
    "$$\n",
    "\\mathcal{L}(w) = \\frac{1}{2n} \\sum_{i=1}^n (y^i - \\hat{y}^i)^2\n",
    "$$"
   ]
  },
  {
   "cell_type": "code",
   "execution_count": 59,
   "metadata": {},
   "outputs": [],
   "source": [
    "def mse(y: np.array, x: np.array, w: np.array) -> float:\n",
    "    return loss(y, x, w) / len(y)"
   ]
  },
  {
   "cell_type": "code",
   "execution_count": 60,
   "metadata": {},
   "outputs": [
    {
     "data": {
      "text/plain": [
       "336.14285714285717"
      ]
     },
     "execution_count": 60,
     "metadata": {},
     "output_type": "execute_result"
    }
   ],
   "source": [
    "mse(Y, X, w)"
   ]
  }
 ],
 "metadata": {
  "kernelspec": {
   "display_name": "Python 3",
   "language": "python",
   "name": "python3"
  },
  "language_info": {
   "codemirror_mode": {
    "name": "ipython",
    "version": 3
   },
   "file_extension": ".py",
   "mimetype": "text/x-python",
   "name": "python",
   "nbconvert_exporter": "python",
   "pygments_lexer": "ipython3",
   "version": "3.10.7"
  },
  "orig_nbformat": 4,
  "vscode": {
   "interpreter": {
    "hash": "369f2c481f4da34e4445cda3fffd2e751bd1c4d706f27375911949ba6bb62e1c"
   }
  }
 },
 "nbformat": 4,
 "nbformat_minor": 2
}
